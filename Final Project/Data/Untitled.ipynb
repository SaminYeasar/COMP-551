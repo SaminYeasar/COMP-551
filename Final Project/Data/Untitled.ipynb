{
 "cells": [
  {
   "cell_type": "code",
   "execution_count": 1,
   "metadata": {},
   "outputs": [],
   "source": [
    "import pandas as pd\n",
    "import numpy as np\n",
    "import matplotlib.pyplot as plt"
   ]
  },
  {
   "cell_type": "code",
   "execution_count": 26,
   "metadata": {},
   "outputs": [],
   "source": [
    "#Data = pd.read_table('D:\\\\University materials\\Winter 2018\\Applied ML\\winter 2018\\Assignments\\Final Project\\MINERVA-master\\countries_s1_log.txt',names=['review','label'],header=None)"
   ]
  },
  {
   "cell_type": "code",
   "execution_count": 28,
   "metadata": {},
   "outputs": [
    {
     "data": {
      "text/plain": [
       "'04/15/2018 12:06:47 AM: [ reading vocab files... ]'"
      ]
     },
     "execution_count": 28,
     "metadata": {},
     "output_type": "execute_result"
    }
   ],
   "source": [
    "Data.review[0]"
   ]
  },
  {
   "cell_type": "code",
   "execution_count": 24,
   "metadata": {},
   "outputs": [
    {
     "ename": "ValueError",
     "evalue": "could not convert string to float: b'04/15/2018'",
     "output_type": "error",
     "traceback": [
      "\u001b[1;31m---------------------------------------------------------------------------\u001b[0m",
      "\u001b[1;31mValueError\u001b[0m                                Traceback (most recent call last)",
      "\u001b[1;32m<ipython-input-24-c80e442420f3>\u001b[0m in \u001b[0;36m<module>\u001b[1;34m()\u001b[0m\n\u001b[1;32m----> 1\u001b[1;33m \u001b[0ms1\u001b[0m \u001b[1;33m=\u001b[0m \u001b[0mnp\u001b[0m\u001b[1;33m.\u001b[0m\u001b[0mloadtxt\u001b[0m\u001b[1;33m(\u001b[0m\u001b[1;34m'D:\\\\University materials\\Winter 2018\\Applied ML\\winter 2018\\Assignments\\Final Project\\MINERVA-master\\countries_s1_log.txt'\u001b[0m\u001b[1;33m)\u001b[0m\u001b[1;33m\u001b[0m\u001b[0m\n\u001b[0m",
      "\u001b[1;32md:\\machine learning\\python\\lib\\site-packages\\numpy\\lib\\npyio.py\u001b[0m in \u001b[0;36mloadtxt\u001b[1;34m(fname, dtype, comments, delimiter, converters, skiprows, usecols, unpack, ndmin)\u001b[0m\n\u001b[0;32m   1022\u001b[0m \u001b[1;33m\u001b[0m\u001b[0m\n\u001b[0;32m   1023\u001b[0m             \u001b[1;31m# Convert each value according to its column and store\u001b[0m\u001b[1;33m\u001b[0m\u001b[1;33m\u001b[0m\u001b[0m\n\u001b[1;32m-> 1024\u001b[1;33m             \u001b[0mitems\u001b[0m \u001b[1;33m=\u001b[0m \u001b[1;33m[\u001b[0m\u001b[0mconv\u001b[0m\u001b[1;33m(\u001b[0m\u001b[0mval\u001b[0m\u001b[1;33m)\u001b[0m \u001b[1;32mfor\u001b[0m \u001b[1;33m(\u001b[0m\u001b[0mconv\u001b[0m\u001b[1;33m,\u001b[0m \u001b[0mval\u001b[0m\u001b[1;33m)\u001b[0m \u001b[1;32min\u001b[0m \u001b[0mzip\u001b[0m\u001b[1;33m(\u001b[0m\u001b[0mconverters\u001b[0m\u001b[1;33m,\u001b[0m \u001b[0mvals\u001b[0m\u001b[1;33m)\u001b[0m\u001b[1;33m]\u001b[0m\u001b[1;33m\u001b[0m\u001b[0m\n\u001b[0m\u001b[0;32m   1025\u001b[0m             \u001b[1;31m# Then pack it according to the dtype's nesting\u001b[0m\u001b[1;33m\u001b[0m\u001b[1;33m\u001b[0m\u001b[0m\n\u001b[0;32m   1026\u001b[0m             \u001b[0mitems\u001b[0m \u001b[1;33m=\u001b[0m \u001b[0mpack_items\u001b[0m\u001b[1;33m(\u001b[0m\u001b[0mitems\u001b[0m\u001b[1;33m,\u001b[0m \u001b[0mpacking\u001b[0m\u001b[1;33m)\u001b[0m\u001b[1;33m\u001b[0m\u001b[0m\n",
      "\u001b[1;32md:\\machine learning\\python\\lib\\site-packages\\numpy\\lib\\npyio.py\u001b[0m in \u001b[0;36m<listcomp>\u001b[1;34m(.0)\u001b[0m\n\u001b[0;32m   1022\u001b[0m \u001b[1;33m\u001b[0m\u001b[0m\n\u001b[0;32m   1023\u001b[0m             \u001b[1;31m# Convert each value according to its column and store\u001b[0m\u001b[1;33m\u001b[0m\u001b[1;33m\u001b[0m\u001b[0m\n\u001b[1;32m-> 1024\u001b[1;33m             \u001b[0mitems\u001b[0m \u001b[1;33m=\u001b[0m \u001b[1;33m[\u001b[0m\u001b[0mconv\u001b[0m\u001b[1;33m(\u001b[0m\u001b[0mval\u001b[0m\u001b[1;33m)\u001b[0m \u001b[1;32mfor\u001b[0m \u001b[1;33m(\u001b[0m\u001b[0mconv\u001b[0m\u001b[1;33m,\u001b[0m \u001b[0mval\u001b[0m\u001b[1;33m)\u001b[0m \u001b[1;32min\u001b[0m \u001b[0mzip\u001b[0m\u001b[1;33m(\u001b[0m\u001b[0mconverters\u001b[0m\u001b[1;33m,\u001b[0m \u001b[0mvals\u001b[0m\u001b[1;33m)\u001b[0m\u001b[1;33m]\u001b[0m\u001b[1;33m\u001b[0m\u001b[0m\n\u001b[0m\u001b[0;32m   1025\u001b[0m             \u001b[1;31m# Then pack it according to the dtype's nesting\u001b[0m\u001b[1;33m\u001b[0m\u001b[1;33m\u001b[0m\u001b[0m\n\u001b[0;32m   1026\u001b[0m             \u001b[0mitems\u001b[0m \u001b[1;33m=\u001b[0m \u001b[0mpack_items\u001b[0m\u001b[1;33m(\u001b[0m\u001b[0mitems\u001b[0m\u001b[1;33m,\u001b[0m \u001b[0mpacking\u001b[0m\u001b[1;33m)\u001b[0m\u001b[1;33m\u001b[0m\u001b[0m\n",
      "\u001b[1;32md:\\machine learning\\python\\lib\\site-packages\\numpy\\lib\\npyio.py\u001b[0m in \u001b[0;36mfloatconv\u001b[1;34m(x)\u001b[0m\n\u001b[0;32m    723\u001b[0m         \u001b[1;32mif\u001b[0m \u001b[1;34mb'0x'\u001b[0m \u001b[1;32min\u001b[0m \u001b[0mx\u001b[0m\u001b[1;33m:\u001b[0m\u001b[1;33m\u001b[0m\u001b[0m\n\u001b[0;32m    724\u001b[0m             \u001b[1;32mreturn\u001b[0m \u001b[0mfloat\u001b[0m\u001b[1;33m.\u001b[0m\u001b[0mfromhex\u001b[0m\u001b[1;33m(\u001b[0m\u001b[0masstr\u001b[0m\u001b[1;33m(\u001b[0m\u001b[0mx\u001b[0m\u001b[1;33m)\u001b[0m\u001b[1;33m)\u001b[0m\u001b[1;33m\u001b[0m\u001b[0m\n\u001b[1;32m--> 725\u001b[1;33m         \u001b[1;32mreturn\u001b[0m \u001b[0mfloat\u001b[0m\u001b[1;33m(\u001b[0m\u001b[0mx\u001b[0m\u001b[1;33m)\u001b[0m\u001b[1;33m\u001b[0m\u001b[0m\n\u001b[0m\u001b[0;32m    726\u001b[0m \u001b[1;33m\u001b[0m\u001b[0m\n\u001b[0;32m    727\u001b[0m     \u001b[0mtyp\u001b[0m \u001b[1;33m=\u001b[0m \u001b[0mdtype\u001b[0m\u001b[1;33m.\u001b[0m\u001b[0mtype\u001b[0m\u001b[1;33m\u001b[0m\u001b[0m\n",
      "\u001b[1;31mValueError\u001b[0m: could not convert string to float: b'04/15/2018'"
     ]
    }
   ],
   "source": [
    "s1 = np.loadtxt('D:\\\\University materials\\Winter 2018\\Applied ML\\winter 2018\\Assignments\\Final Project\\MINERVA-master\\countries_s1_log.txt')"
   ]
  },
  {
   "cell_type": "code",
   "execution_count": 29,
   "metadata": {},
   "outputs": [],
   "source": [
    "mystring =  Data.review[0]\n",
    "keyword = 'reading'\n",
    "befor_keyowrd, keyword, after_keyword = mystring.partition(keyword)"
   ]
  },
  {
   "cell_type": "code",
   "execution_count": 31,
   "metadata": {},
   "outputs": [
    {
     "data": {
      "text/plain": [
       "' vocab files... ]'"
      ]
     },
     "execution_count": 31,
     "metadata": {},
     "output_type": "execute_result"
    }
   ],
   "source": [
    "after_keyword"
   ]
  },
  {
   "cell_type": "code",
   "execution_count": 3,
   "metadata": {},
   "outputs": [
    {
     "ename": "FileNotFoundError",
     "evalue": "[Errno 2] No such file or directory: 'D:\\\\University materials\\\\Winter 2018\\\\Applied ML\\\\winter 2018\\\\Assignments\\\\Final Project\\\\MINERVA-master\\\\countries_s1'",
     "output_type": "error",
     "traceback": [
      "\u001b[1;31m---------------------------------------------------------------------------\u001b[0m",
      "\u001b[1;31mFileNotFoundError\u001b[0m                         Traceback (most recent call last)",
      "\u001b[1;32m<ipython-input-3-9dd1ed239863>\u001b[0m in \u001b[0;36m<module>\u001b[1;34m()\u001b[0m\n\u001b[0;32m      2\u001b[0m \u001b[1;32mimport\u001b[0m \u001b[0mnumpy\u001b[0m \u001b[1;32mas\u001b[0m \u001b[0mnp\u001b[0m\u001b[1;33m\u001b[0m\u001b[0m\n\u001b[0;32m      3\u001b[0m \u001b[1;33m\u001b[0m\u001b[0m\n\u001b[1;32m----> 4\u001b[1;33m \u001b[0ms1\u001b[0m \u001b[1;33m=\u001b[0m \u001b[0mnp\u001b[0m\u001b[1;33m.\u001b[0m\u001b[0mloadtxt\u001b[0m\u001b[1;33m(\u001b[0m\u001b[1;34m'D:\\\\University materials\\Winter 2018\\Applied ML\\winter 2018\\Assignments\\Final Project\\MINERVA-master\\countries_s1'\u001b[0m\u001b[1;33m,\u001b[0m \u001b[0mdelimiter\u001b[0m\u001b[1;33m=\u001b[0m\u001b[1;34m'\\n'\u001b[0m\u001b[1;33m)\u001b[0m\u001b[1;33m\u001b[0m\u001b[0m\n\u001b[0m\u001b[0;32m      5\u001b[0m \u001b[0mx_axis\u001b[0m \u001b[1;33m=\u001b[0m \u001b[0mnp\u001b[0m\u001b[1;33m.\u001b[0m\u001b[0marange\u001b[0m\u001b[1;33m(\u001b[0m\u001b[1;36m1\u001b[0m\u001b[1;33m,\u001b[0m \u001b[1;36m1001\u001b[0m\u001b[1;33m)\u001b[0m\u001b[1;33m\u001b[0m\u001b[0m\n\u001b[0;32m      6\u001b[0m \u001b[0mplt\u001b[0m\u001b[1;33m.\u001b[0m\u001b[0mplot\u001b[0m\u001b[1;33m(\u001b[0m\u001b[0mx_axis\u001b[0m\u001b[1;33m,\u001b[0m \u001b[0ms1\u001b[0m\u001b[1;33m,\u001b[0m \u001b[1;34m'-'\u001b[0m\u001b[1;33m,\u001b[0m \u001b[0mlabel\u001b[0m\u001b[1;33m=\u001b[0m\u001b[1;34m'Training Loss'\u001b[0m\u001b[1;33m)\u001b[0m\u001b[1;33m\u001b[0m\u001b[0m\n",
      "\u001b[1;32md:\\machine learning\\python\\lib\\site-packages\\numpy\\lib\\npyio.py\u001b[0m in \u001b[0;36mloadtxt\u001b[1;34m(fname, dtype, comments, delimiter, converters, skiprows, usecols, unpack, ndmin)\u001b[0m\n\u001b[0;32m    896\u001b[0m                 \u001b[0mfh\u001b[0m \u001b[1;33m=\u001b[0m \u001b[0miter\u001b[0m\u001b[1;33m(\u001b[0m\u001b[0mopen\u001b[0m\u001b[1;33m(\u001b[0m\u001b[0mfname\u001b[0m\u001b[1;33m,\u001b[0m \u001b[1;34m'U'\u001b[0m\u001b[1;33m)\u001b[0m\u001b[1;33m)\u001b[0m\u001b[1;33m\u001b[0m\u001b[0m\n\u001b[0;32m    897\u001b[0m             \u001b[1;32melse\u001b[0m\u001b[1;33m:\u001b[0m\u001b[1;33m\u001b[0m\u001b[0m\n\u001b[1;32m--> 898\u001b[1;33m                 \u001b[0mfh\u001b[0m \u001b[1;33m=\u001b[0m \u001b[0miter\u001b[0m\u001b[1;33m(\u001b[0m\u001b[0mopen\u001b[0m\u001b[1;33m(\u001b[0m\u001b[0mfname\u001b[0m\u001b[1;33m)\u001b[0m\u001b[1;33m)\u001b[0m\u001b[1;33m\u001b[0m\u001b[0m\n\u001b[0m\u001b[0;32m    899\u001b[0m         \u001b[1;32melse\u001b[0m\u001b[1;33m:\u001b[0m\u001b[1;33m\u001b[0m\u001b[0m\n\u001b[0;32m    900\u001b[0m             \u001b[0mfh\u001b[0m \u001b[1;33m=\u001b[0m \u001b[0miter\u001b[0m\u001b[1;33m(\u001b[0m\u001b[0mfname\u001b[0m\u001b[1;33m)\u001b[0m\u001b[1;33m\u001b[0m\u001b[0m\n",
      "\u001b[1;31mFileNotFoundError\u001b[0m: [Errno 2] No such file or directory: 'D:\\\\University materials\\\\Winter 2018\\\\Applied ML\\\\winter 2018\\\\Assignments\\\\Final Project\\\\MINERVA-master\\\\countries_s1'"
     ]
    }
   ],
   "source": [
    "import matplotlib.pyplot as plt\n",
    "import numpy as np\n",
    "\n",
    "s1 = np.loadtxt('D:\\\\University materials\\Winter 2018\\Applied ML\\winter 2018\\Assignments\\Final Project\\MINERVA-master\\countries_s1', delimiter='\\n')\n",
    "x_axis = np.arange(1, 1001)\n",
    "plt.plot(x_axis, s1, '-', label='Training Loss')\n",
    "plt.xlabel(\"Iteration\")\n",
    "plt.ylabel(\"Loss\")\n",
    "plt.title(\"Training Loss on Countries S1 Task\")\n",
    "plt.legend()\n",
    "plt.show()"
   ]
  },
  {
   "cell_type": "code",
   "execution_count": 34,
   "metadata": {},
   "outputs": [
    {
     "ename": "ParserError",
     "evalue": "Error tokenizing data. C error: Expected 2 fields in line 632, saw 3\n",
     "output_type": "error",
     "traceback": [
      "\u001b[1;31m---------------------------------------------------------------------------\u001b[0m",
      "\u001b[1;31mParserError\u001b[0m                               Traceback (most recent call last)",
      "\u001b[1;32m<ipython-input-34-983af578cc8d>\u001b[0m in \u001b[0;36m<module>\u001b[1;34m()\u001b[0m\n\u001b[1;32m----> 1\u001b[1;33m \u001b[0mData\u001b[0m \u001b[1;33m=\u001b[0m \u001b[0mpd\u001b[0m\u001b[1;33m.\u001b[0m\u001b[0mread_table\u001b[0m\u001b[1;33m(\u001b[0m\u001b[1;34m'D:\\\\University materials\\Winter 2018\\Applied ML\\winter 2018\\Assignments\\Final Project\\MINERVA-master\\countries_s1_log.txt'\u001b[0m\u001b[1;33m,\u001b[0m\u001b[0msep\u001b[0m\u001b[1;33m=\u001b[0m\u001b[1;34m'['\u001b[0m\u001b[1;33m,\u001b[0m\u001b[0mheader\u001b[0m\u001b[1;33m=\u001b[0m\u001b[1;32mNone\u001b[0m\u001b[1;33m)\u001b[0m\u001b[1;33m\u001b[0m\u001b[0m\n\u001b[0m",
      "\u001b[1;32md:\\machine learning\\python\\lib\\site-packages\\pandas\\io\\parsers.py\u001b[0m in \u001b[0;36mparser_f\u001b[1;34m(filepath_or_buffer, sep, delimiter, header, names, index_col, usecols, squeeze, prefix, mangle_dupe_cols, dtype, engine, converters, true_values, false_values, skipinitialspace, skiprows, nrows, na_values, keep_default_na, na_filter, verbose, skip_blank_lines, parse_dates, infer_datetime_format, keep_date_col, date_parser, dayfirst, iterator, chunksize, compression, thousands, decimal, lineterminator, quotechar, quoting, escapechar, comment, encoding, dialect, tupleize_cols, error_bad_lines, warn_bad_lines, skipfooter, skip_footer, doublequote, delim_whitespace, as_recarray, compact_ints, use_unsigned, low_memory, buffer_lines, memory_map, float_precision)\u001b[0m\n\u001b[0;32m    707\u001b[0m                     skip_blank_lines=skip_blank_lines)\n\u001b[0;32m    708\u001b[0m \u001b[1;33m\u001b[0m\u001b[0m\n\u001b[1;32m--> 709\u001b[1;33m         \u001b[1;32mreturn\u001b[0m \u001b[0m_read\u001b[0m\u001b[1;33m(\u001b[0m\u001b[0mfilepath_or_buffer\u001b[0m\u001b[1;33m,\u001b[0m \u001b[0mkwds\u001b[0m\u001b[1;33m)\u001b[0m\u001b[1;33m\u001b[0m\u001b[0m\n\u001b[0m\u001b[0;32m    710\u001b[0m \u001b[1;33m\u001b[0m\u001b[0m\n\u001b[0;32m    711\u001b[0m     \u001b[0mparser_f\u001b[0m\u001b[1;33m.\u001b[0m\u001b[0m__name__\u001b[0m \u001b[1;33m=\u001b[0m \u001b[0mname\u001b[0m\u001b[1;33m\u001b[0m\u001b[0m\n",
      "\u001b[1;32md:\\machine learning\\python\\lib\\site-packages\\pandas\\io\\parsers.py\u001b[0m in \u001b[0;36m_read\u001b[1;34m(filepath_or_buffer, kwds)\u001b[0m\n\u001b[0;32m    453\u001b[0m \u001b[1;33m\u001b[0m\u001b[0m\n\u001b[0;32m    454\u001b[0m     \u001b[1;32mtry\u001b[0m\u001b[1;33m:\u001b[0m\u001b[1;33m\u001b[0m\u001b[0m\n\u001b[1;32m--> 455\u001b[1;33m         \u001b[0mdata\u001b[0m \u001b[1;33m=\u001b[0m \u001b[0mparser\u001b[0m\u001b[1;33m.\u001b[0m\u001b[0mread\u001b[0m\u001b[1;33m(\u001b[0m\u001b[0mnrows\u001b[0m\u001b[1;33m)\u001b[0m\u001b[1;33m\u001b[0m\u001b[0m\n\u001b[0m\u001b[0;32m    456\u001b[0m     \u001b[1;32mfinally\u001b[0m\u001b[1;33m:\u001b[0m\u001b[1;33m\u001b[0m\u001b[0m\n\u001b[0;32m    457\u001b[0m         \u001b[0mparser\u001b[0m\u001b[1;33m.\u001b[0m\u001b[0mclose\u001b[0m\u001b[1;33m(\u001b[0m\u001b[1;33m)\u001b[0m\u001b[1;33m\u001b[0m\u001b[0m\n",
      "\u001b[1;32md:\\machine learning\\python\\lib\\site-packages\\pandas\\io\\parsers.py\u001b[0m in \u001b[0;36mread\u001b[1;34m(self, nrows)\u001b[0m\n\u001b[0;32m   1067\u001b[0m                 \u001b[1;32mraise\u001b[0m \u001b[0mValueError\u001b[0m\u001b[1;33m(\u001b[0m\u001b[1;34m'skipfooter not supported for iteration'\u001b[0m\u001b[1;33m)\u001b[0m\u001b[1;33m\u001b[0m\u001b[0m\n\u001b[0;32m   1068\u001b[0m \u001b[1;33m\u001b[0m\u001b[0m\n\u001b[1;32m-> 1069\u001b[1;33m         \u001b[0mret\u001b[0m \u001b[1;33m=\u001b[0m \u001b[0mself\u001b[0m\u001b[1;33m.\u001b[0m\u001b[0m_engine\u001b[0m\u001b[1;33m.\u001b[0m\u001b[0mread\u001b[0m\u001b[1;33m(\u001b[0m\u001b[0mnrows\u001b[0m\u001b[1;33m)\u001b[0m\u001b[1;33m\u001b[0m\u001b[0m\n\u001b[0m\u001b[0;32m   1070\u001b[0m \u001b[1;33m\u001b[0m\u001b[0m\n\u001b[0;32m   1071\u001b[0m         \u001b[1;32mif\u001b[0m \u001b[0mself\u001b[0m\u001b[1;33m.\u001b[0m\u001b[0moptions\u001b[0m\u001b[1;33m.\u001b[0m\u001b[0mget\u001b[0m\u001b[1;33m(\u001b[0m\u001b[1;34m'as_recarray'\u001b[0m\u001b[1;33m)\u001b[0m\u001b[1;33m:\u001b[0m\u001b[1;33m\u001b[0m\u001b[0m\n",
      "\u001b[1;32md:\\machine learning\\python\\lib\\site-packages\\pandas\\io\\parsers.py\u001b[0m in \u001b[0;36mread\u001b[1;34m(self, nrows)\u001b[0m\n\u001b[0;32m   1837\u001b[0m     \u001b[1;32mdef\u001b[0m \u001b[0mread\u001b[0m\u001b[1;33m(\u001b[0m\u001b[0mself\u001b[0m\u001b[1;33m,\u001b[0m \u001b[0mnrows\u001b[0m\u001b[1;33m=\u001b[0m\u001b[1;32mNone\u001b[0m\u001b[1;33m)\u001b[0m\u001b[1;33m:\u001b[0m\u001b[1;33m\u001b[0m\u001b[0m\n\u001b[0;32m   1838\u001b[0m         \u001b[1;32mtry\u001b[0m\u001b[1;33m:\u001b[0m\u001b[1;33m\u001b[0m\u001b[0m\n\u001b[1;32m-> 1839\u001b[1;33m             \u001b[0mdata\u001b[0m \u001b[1;33m=\u001b[0m \u001b[0mself\u001b[0m\u001b[1;33m.\u001b[0m\u001b[0m_reader\u001b[0m\u001b[1;33m.\u001b[0m\u001b[0mread\u001b[0m\u001b[1;33m(\u001b[0m\u001b[0mnrows\u001b[0m\u001b[1;33m)\u001b[0m\u001b[1;33m\u001b[0m\u001b[0m\n\u001b[0m\u001b[0;32m   1840\u001b[0m         \u001b[1;32mexcept\u001b[0m \u001b[0mStopIteration\u001b[0m\u001b[1;33m:\u001b[0m\u001b[1;33m\u001b[0m\u001b[0m\n\u001b[0;32m   1841\u001b[0m             \u001b[1;32mif\u001b[0m \u001b[0mself\u001b[0m\u001b[1;33m.\u001b[0m\u001b[0m_first_chunk\u001b[0m\u001b[1;33m:\u001b[0m\u001b[1;33m\u001b[0m\u001b[0m\n",
      "\u001b[1;32mpandas\\_libs\\parsers.pyx\u001b[0m in \u001b[0;36mpandas._libs.parsers.TextReader.read\u001b[1;34m()\u001b[0m\n",
      "\u001b[1;32mpandas\\_libs\\parsers.pyx\u001b[0m in \u001b[0;36mpandas._libs.parsers.TextReader._read_low_memory\u001b[1;34m()\u001b[0m\n",
      "\u001b[1;32mpandas\\_libs\\parsers.pyx\u001b[0m in \u001b[0;36mpandas._libs.parsers.TextReader._read_rows\u001b[1;34m()\u001b[0m\n",
      "\u001b[1;32mpandas\\_libs\\parsers.pyx\u001b[0m in \u001b[0;36mpandas._libs.parsers.TextReader._tokenize_rows\u001b[1;34m()\u001b[0m\n",
      "\u001b[1;32mpandas\\_libs\\parsers.pyx\u001b[0m in \u001b[0;36mpandas._libs.parsers.raise_parser_error\u001b[1;34m()\u001b[0m\n",
      "\u001b[1;31mParserError\u001b[0m: Error tokenizing data. C error: Expected 2 fields in line 632, saw 3\n"
     ]
    }
   ],
   "source": [
    "Data = pd.read_table('D:\\\\University materials\\Winter 2018\\Applied ML\\winter 2018\\Assignments\\Final Project\\MINERVA-master\\countries_s1_log.txt',sep='[',header=None)"
   ]
  },
  {
   "cell_type": "code",
   "execution_count": 33,
   "metadata": {},
   "outputs": [
    {
     "data": {
      "text/html": [
       "<div>\n",
       "<style scoped>\n",
       "    .dataframe tbody tr th:only-of-type {\n",
       "        vertical-align: middle;\n",
       "    }\n",
       "\n",
       "    .dataframe tbody tr th {\n",
       "        vertical-align: top;\n",
       "    }\n",
       "\n",
       "    .dataframe thead th {\n",
       "        text-align: right;\n",
       "    }\n",
       "</style>\n",
       "<table border=\"1\" class=\"dataframe\">\n",
       "  <thead>\n",
       "    <tr style=\"text-align: right;\">\n",
       "      <th></th>\n",
       "      <th>0</th>\n",
       "    </tr>\n",
       "  </thead>\n",
       "  <tbody>\n",
       "    <tr>\n",
       "      <th>0</th>\n",
       "      <td>04/15/2018 12:06:47 AM: [ reading vocab files....</td>\n",
       "    </tr>\n",
       "    <tr>\n",
       "      <th>1</th>\n",
       "      <td>04/15/2018 12:06:47 AM: [ Reading mid to name ...</td>\n",
       "    </tr>\n",
       "    <tr>\n",
       "      <th>2</th>\n",
       "      <td>04/15/2018 12:06:47 AM: [ Done.. ]</td>\n",
       "    </tr>\n",
       "    <tr>\n",
       "      <th>3</th>\n",
       "      <td>04/15/2018 12:06:47 AM: [ Total number of enti...</td>\n",
       "    </tr>\n",
       "    <tr>\n",
       "      <th>4</th>\n",
       "      <td>04/15/2018 12:06:47 AM: [ Total number of rela...</td>\n",
       "    </tr>\n",
       "    <tr>\n",
       "      <th>5</th>\n",
       "      <td>04/15/2018 12:06:48 AM: [ Creating TF graph... ]</td>\n",
       "    </tr>\n",
       "    <tr>\n",
       "      <th>6</th>\n",
       "      <td>04/15/2018 12:06:48 AM: [ From /home/campus/bo...</td>\n",
       "    </tr>\n",
       "    <tr>\n",
       "      <th>7</th>\n",
       "      <td>Instructions for updating:</td>\n",
       "    </tr>\n",
       "    <tr>\n",
       "      <th>8</th>\n",
       "      <td>keep_dims is deprecated, use keepdims instead ]</td>\n",
       "    </tr>\n",
       "    <tr>\n",
       "      <th>9</th>\n",
       "      <td>04/15/2018 12:06:49 AM: [ TF Graph creation do...</td>\n",
       "    </tr>\n",
       "    <tr>\n",
       "      <th>10</th>\n",
       "      <td>04/15/2018 12:06:53 AM: [ batch_counter:    1,...</td>\n",
       "    </tr>\n",
       "    <tr>\n",
       "      <th>11</th>\n",
       "      <td>04/15/2018 12:06:53 AM: [ Memory usage: 379931...</td>\n",
       "    </tr>\n",
       "    <tr>\n",
       "      <th>12</th>\n",
       "      <td>04/15/2018 12:06:55 AM: [ batch_counter:    2,...</td>\n",
       "    </tr>\n",
       "    <tr>\n",
       "      <th>13</th>\n",
       "      <td>04/15/2018 12:06:55 AM: [ Memory usage: 386976...</td>\n",
       "    </tr>\n",
       "    <tr>\n",
       "      <th>14</th>\n",
       "      <td>04/15/2018 12:06:57 AM: [ batch_counter:    3,...</td>\n",
       "    </tr>\n",
       "    <tr>\n",
       "      <th>15</th>\n",
       "      <td>04/15/2018 12:06:57 AM: [ Memory usage: 395828...</td>\n",
       "    </tr>\n",
       "    <tr>\n",
       "      <th>16</th>\n",
       "      <td>04/15/2018 12:07:00 AM: [ batch_counter:    4,...</td>\n",
       "    </tr>\n",
       "    <tr>\n",
       "      <th>17</th>\n",
       "      <td>04/15/2018 12:07:00 AM: [ Memory usage: 401896...</td>\n",
       "    </tr>\n",
       "    <tr>\n",
       "      <th>18</th>\n",
       "      <td>04/15/2018 12:07:02 AM: [ batch_counter:    5,...</td>\n",
       "    </tr>\n",
       "    <tr>\n",
       "      <th>19</th>\n",
       "      <td>04/15/2018 12:07:02 AM: [ Memory usage: 419131...</td>\n",
       "    </tr>\n",
       "    <tr>\n",
       "      <th>20</th>\n",
       "      <td>04/15/2018 12:07:05 AM: [ batch_counter:    6,...</td>\n",
       "    </tr>\n",
       "    <tr>\n",
       "      <th>21</th>\n",
       "      <td>04/15/2018 12:07:05 AM: [ Memory usage: 419131...</td>\n",
       "    </tr>\n",
       "    <tr>\n",
       "      <th>22</th>\n",
       "      <td>04/15/2018 12:07:07 AM: [ batch_counter:    7,...</td>\n",
       "    </tr>\n",
       "    <tr>\n",
       "      <th>23</th>\n",
       "      <td>04/15/2018 12:07:07 AM: [ Memory usage: 424363...</td>\n",
       "    </tr>\n",
       "    <tr>\n",
       "      <th>24</th>\n",
       "      <td>04/15/2018 12:07:09 AM: [ batch_counter:    8,...</td>\n",
       "    </tr>\n",
       "    <tr>\n",
       "      <th>25</th>\n",
       "      <td>04/15/2018 12:07:09 AM: [ Memory usage: 424363...</td>\n",
       "    </tr>\n",
       "    <tr>\n",
       "      <th>26</th>\n",
       "      <td>04/15/2018 12:07:11 AM: [ batch_counter:    9,...</td>\n",
       "    </tr>\n",
       "    <tr>\n",
       "      <th>27</th>\n",
       "      <td>04/15/2018 12:07:11 AM: [ Memory usage: 429606...</td>\n",
       "    </tr>\n",
       "    <tr>\n",
       "      <th>28</th>\n",
       "      <td>04/15/2018 12:07:14 AM: [ batch_counter:   10,...</td>\n",
       "    </tr>\n",
       "    <tr>\n",
       "      <th>29</th>\n",
       "      <td>04/15/2018 12:07:14 AM: [ Memory usage: 430472...</td>\n",
       "    </tr>\n",
       "    <tr>\n",
       "      <th>...</th>\n",
       "      <td>...</td>\n",
       "    </tr>\n",
       "    <tr>\n",
       "      <th>608</th>\n",
       "      <td>04/15/2018 12:18:13 AM: [ batch_counter:  294,...</td>\n",
       "    </tr>\n",
       "    <tr>\n",
       "      <th>609</th>\n",
       "      <td>04/15/2018 12:18:13 AM: [ Memory usage: 508512...</td>\n",
       "    </tr>\n",
       "    <tr>\n",
       "      <th>610</th>\n",
       "      <td>04/15/2018 12:18:16 AM: [ batch_counter:  295,...</td>\n",
       "    </tr>\n",
       "    <tr>\n",
       "      <th>611</th>\n",
       "      <td>04/15/2018 12:18:16 AM: [ Memory usage: 508512...</td>\n",
       "    </tr>\n",
       "    <tr>\n",
       "      <th>612</th>\n",
       "      <td>04/15/2018 12:18:18 AM: [ batch_counter:  296,...</td>\n",
       "    </tr>\n",
       "    <tr>\n",
       "      <th>613</th>\n",
       "      <td>04/15/2018 12:18:18 AM: [ Memory usage: 508512...</td>\n",
       "    </tr>\n",
       "    <tr>\n",
       "      <th>614</th>\n",
       "      <td>04/15/2018 12:18:20 AM: [ batch_counter:  297,...</td>\n",
       "    </tr>\n",
       "    <tr>\n",
       "      <th>615</th>\n",
       "      <td>04/15/2018 12:18:20 AM: [ Memory usage: 508512...</td>\n",
       "    </tr>\n",
       "    <tr>\n",
       "      <th>616</th>\n",
       "      <td>04/15/2018 12:18:23 AM: [ batch_counter:  298,...</td>\n",
       "    </tr>\n",
       "    <tr>\n",
       "      <th>617</th>\n",
       "      <td>04/15/2018 12:18:23 AM: [ Memory usage: 508512...</td>\n",
       "    </tr>\n",
       "    <tr>\n",
       "      <th>618</th>\n",
       "      <td>04/15/2018 12:18:25 AM: [ batch_counter:  299,...</td>\n",
       "    </tr>\n",
       "    <tr>\n",
       "      <th>619</th>\n",
       "      <td>04/15/2018 12:18:25 AM: [ Memory usage: 508512...</td>\n",
       "    </tr>\n",
       "    <tr>\n",
       "      <th>620</th>\n",
       "      <td>04/15/2018 12:18:27 AM: [ batch_counter:  300,...</td>\n",
       "    </tr>\n",
       "    <tr>\n",
       "      <th>621</th>\n",
       "      <td>04/15/2018 12:18:28 AM: [ Hits@1:  1.0000 ]</td>\n",
       "    </tr>\n",
       "    <tr>\n",
       "      <th>622</th>\n",
       "      <td>04/15/2018 12:18:28 AM: [ Hits@3:  1.0000 ]</td>\n",
       "    </tr>\n",
       "    <tr>\n",
       "      <th>623</th>\n",
       "      <td>04/15/2018 12:18:28 AM: [ Hits@5:  1.0000 ]</td>\n",
       "    </tr>\n",
       "    <tr>\n",
       "      <th>624</th>\n",
       "      <td>04/15/2018 12:18:28 AM: [ Hits@10:  1.0000 ]</td>\n",
       "    </tr>\n",
       "    <tr>\n",
       "      <th>625</th>\n",
       "      <td>04/15/2018 12:18:28 AM: [ Hits@20:  1.0000 ]</td>\n",
       "    </tr>\n",
       "    <tr>\n",
       "      <th>626</th>\n",
       "      <td>04/15/2018 12:18:28 AM: [ mrr:  1.0000 ]</td>\n",
       "    </tr>\n",
       "    <tr>\n",
       "      <th>627</th>\n",
       "      <td>04/15/2018 12:18:28 AM: [ Memory usage: 508512...</td>\n",
       "    </tr>\n",
       "    <tr>\n",
       "      <th>628</th>\n",
       "      <td>04/15/2018 12:18:28 AM: [ Creating TF graph... ]</td>\n",
       "    </tr>\n",
       "    <tr>\n",
       "      <th>629</th>\n",
       "      <td>04/15/2018 12:18:29 AM: [ TF Graph creation do...</td>\n",
       "    </tr>\n",
       "    <tr>\n",
       "      <th>630</th>\n",
       "      <td>04/15/2018 12:18:29 AM: [ Restoring parameters...</td>\n",
       "    </tr>\n",
       "    <tr>\n",
       "      <th>631</th>\n",
       "      <td>04/15/2018 12:18:30 AM: [ [ printing paths at ...</td>\n",
       "    </tr>\n",
       "    <tr>\n",
       "      <th>632</th>\n",
       "      <td>04/15/2018 12:18:30 AM: [ Hits@1:  1.0000 ]</td>\n",
       "    </tr>\n",
       "    <tr>\n",
       "      <th>633</th>\n",
       "      <td>04/15/2018 12:18:30 AM: [ Hits@3:  1.0000 ]</td>\n",
       "    </tr>\n",
       "    <tr>\n",
       "      <th>634</th>\n",
       "      <td>04/15/2018 12:18:30 AM: [ Hits@5:  1.0000 ]</td>\n",
       "    </tr>\n",
       "    <tr>\n",
       "      <th>635</th>\n",
       "      <td>04/15/2018 12:18:30 AM: [ Hits@10:  1.0000 ]</td>\n",
       "    </tr>\n",
       "    <tr>\n",
       "      <th>636</th>\n",
       "      <td>04/15/2018 12:18:30 AM: [ Hits@20:  1.0000 ]</td>\n",
       "    </tr>\n",
       "    <tr>\n",
       "      <th>637</th>\n",
       "      <td>04/15/2018 12:18:30 AM: [ mrr:  1.0000 ]</td>\n",
       "    </tr>\n",
       "  </tbody>\n",
       "</table>\n",
       "<p>638 rows × 1 columns</p>\n",
       "</div>"
      ],
      "text/plain": [
       "                                                     0\n",
       "0    04/15/2018 12:06:47 AM: [ reading vocab files....\n",
       "1    04/15/2018 12:06:47 AM: [ Reading mid to name ...\n",
       "2                   04/15/2018 12:06:47 AM: [ Done.. ]\n",
       "3    04/15/2018 12:06:47 AM: [ Total number of enti...\n",
       "4    04/15/2018 12:06:47 AM: [ Total number of rela...\n",
       "5     04/15/2018 12:06:48 AM: [ Creating TF graph... ]\n",
       "6    04/15/2018 12:06:48 AM: [ From /home/campus/bo...\n",
       "7                           Instructions for updating:\n",
       "8      keep_dims is deprecated, use keepdims instead ]\n",
       "9    04/15/2018 12:06:49 AM: [ TF Graph creation do...\n",
       "10   04/15/2018 12:06:53 AM: [ batch_counter:    1,...\n",
       "11   04/15/2018 12:06:53 AM: [ Memory usage: 379931...\n",
       "12   04/15/2018 12:06:55 AM: [ batch_counter:    2,...\n",
       "13   04/15/2018 12:06:55 AM: [ Memory usage: 386976...\n",
       "14   04/15/2018 12:06:57 AM: [ batch_counter:    3,...\n",
       "15   04/15/2018 12:06:57 AM: [ Memory usage: 395828...\n",
       "16   04/15/2018 12:07:00 AM: [ batch_counter:    4,...\n",
       "17   04/15/2018 12:07:00 AM: [ Memory usage: 401896...\n",
       "18   04/15/2018 12:07:02 AM: [ batch_counter:    5,...\n",
       "19   04/15/2018 12:07:02 AM: [ Memory usage: 419131...\n",
       "20   04/15/2018 12:07:05 AM: [ batch_counter:    6,...\n",
       "21   04/15/2018 12:07:05 AM: [ Memory usage: 419131...\n",
       "22   04/15/2018 12:07:07 AM: [ batch_counter:    7,...\n",
       "23   04/15/2018 12:07:07 AM: [ Memory usage: 424363...\n",
       "24   04/15/2018 12:07:09 AM: [ batch_counter:    8,...\n",
       "25   04/15/2018 12:07:09 AM: [ Memory usage: 424363...\n",
       "26   04/15/2018 12:07:11 AM: [ batch_counter:    9,...\n",
       "27   04/15/2018 12:07:11 AM: [ Memory usage: 429606...\n",
       "28   04/15/2018 12:07:14 AM: [ batch_counter:   10,...\n",
       "29   04/15/2018 12:07:14 AM: [ Memory usage: 430472...\n",
       "..                                                 ...\n",
       "608  04/15/2018 12:18:13 AM: [ batch_counter:  294,...\n",
       "609  04/15/2018 12:18:13 AM: [ Memory usage: 508512...\n",
       "610  04/15/2018 12:18:16 AM: [ batch_counter:  295,...\n",
       "611  04/15/2018 12:18:16 AM: [ Memory usage: 508512...\n",
       "612  04/15/2018 12:18:18 AM: [ batch_counter:  296,...\n",
       "613  04/15/2018 12:18:18 AM: [ Memory usage: 508512...\n",
       "614  04/15/2018 12:18:20 AM: [ batch_counter:  297,...\n",
       "615  04/15/2018 12:18:20 AM: [ Memory usage: 508512...\n",
       "616  04/15/2018 12:18:23 AM: [ batch_counter:  298,...\n",
       "617  04/15/2018 12:18:23 AM: [ Memory usage: 508512...\n",
       "618  04/15/2018 12:18:25 AM: [ batch_counter:  299,...\n",
       "619  04/15/2018 12:18:25 AM: [ Memory usage: 508512...\n",
       "620  04/15/2018 12:18:27 AM: [ batch_counter:  300,...\n",
       "621        04/15/2018 12:18:28 AM: [ Hits@1:  1.0000 ]\n",
       "622        04/15/2018 12:18:28 AM: [ Hits@3:  1.0000 ]\n",
       "623        04/15/2018 12:18:28 AM: [ Hits@5:  1.0000 ]\n",
       "624       04/15/2018 12:18:28 AM: [ Hits@10:  1.0000 ]\n",
       "625       04/15/2018 12:18:28 AM: [ Hits@20:  1.0000 ]\n",
       "626           04/15/2018 12:18:28 AM: [ mrr:  1.0000 ]\n",
       "627  04/15/2018 12:18:28 AM: [ Memory usage: 508512...\n",
       "628   04/15/2018 12:18:28 AM: [ Creating TF graph... ]\n",
       "629  04/15/2018 12:18:29 AM: [ TF Graph creation do...\n",
       "630  04/15/2018 12:18:29 AM: [ Restoring parameters...\n",
       "631  04/15/2018 12:18:30 AM: [ [ printing paths at ...\n",
       "632        04/15/2018 12:18:30 AM: [ Hits@1:  1.0000 ]\n",
       "633        04/15/2018 12:18:30 AM: [ Hits@3:  1.0000 ]\n",
       "634        04/15/2018 12:18:30 AM: [ Hits@5:  1.0000 ]\n",
       "635       04/15/2018 12:18:30 AM: [ Hits@10:  1.0000 ]\n",
       "636       04/15/2018 12:18:30 AM: [ Hits@20:  1.0000 ]\n",
       "637           04/15/2018 12:18:30 AM: [ mrr:  1.0000 ]\n",
       "\n",
       "[638 rows x 1 columns]"
      ]
     },
     "execution_count": 33,
     "metadata": {},
     "output_type": "execute_result"
    }
   ],
   "source": [
    "Data"
   ]
  },
  {
   "cell_type": "code",
   "execution_count": null,
   "metadata": {},
   "outputs": [],
   "source": []
  },
  {
   "cell_type": "code",
   "execution_count": null,
   "metadata": {},
   "outputs": [],
   "source": []
  },
  {
   "cell_type": "code",
   "execution_count": null,
   "metadata": {},
   "outputs": [],
   "source": []
  },
  {
   "cell_type": "code",
   "execution_count": 2,
   "metadata": {},
   "outputs": [],
   "source": [
    "'''\n",
    "Returns data, scores, which are each a list of dict. see bottom of file for usage. Last entry in scores is the test score.\n",
    "fields below:\n",
    "# data fields: batch_counter, num_hits, avg_reward_per_batch, num_ep_correct, avg_ep_correct, train_loss, memory_usage_kb\n",
    "# score fields: Hits@1, Hits@3, Hits@5, Hits@10, Hits@20, mrr\n",
    "'''\n",
    "def parseLog(filename):\n",
    "    f = open(filename, \"r\")\n",
    "    lines = f.readlines()\n",
    "    training_start = -1\n",
    "\n",
    "    for i,line in enumerate(lines):\n",
    "        if \"batch_counter\" in line:\n",
    "            training_start = i\n",
    "            break\n",
    "\n",
    "    # if training_start == -1: return\n",
    "\n",
    "    '''\n",
    "    04/15/2018 12:06:53 AM: [ batch_counter:    1, num_hits: 597.0000, avg. reward per batch  0.1166, num_ep_correct  159, avg_ep_correct  0.6211, train loss -0.0068 ]\n",
    "    04/15/2018 12:06:53 AM: [ Memory usage: 3799316 (kb) ]\n",
    "    04/15/2018 12:10:41 AM: [ Hits@1:  1.0000 ]\n",
    "    04/15/2018 12:10:41 AM: [ Hits@3:  1.0000 ]\n",
    "    04/15/2018 12:10:41 AM: [ Hits@5:  1.0000 ]\n",
    "    04/15/2018 12:10:41 AM: [ Hits@10:  1.0000 ]\n",
    "    04/15/2018 12:10:41 AM: [ Hits@20:  1.0000 ]\n",
    "    04/15/2018 12:10:41 AM: [ mrr:  1.0000 ]\n",
    "    '''\n",
    "\n",
    "    data = []\n",
    "    scores = []\n",
    "    limit = len(lines)\n",
    "    print(limit)\n",
    "    # limit = 20\n",
    "    for i in range(training_start, limit):\n",
    "        line = lines[i]\n",
    "        datum = {}\n",
    "        t = line.split(\"[\")\n",
    "        t = t[1]\n",
    "        if \"batch_counter\" in line:\n",
    "        # is a result line\n",
    "            t = t.split(\",\")\n",
    "            t[-1] = t[-1][:-4]\n",
    "            t = [x.strip() for x in t]\n",
    "            t = [float(x.split(\" \")[-1]) for x in t]\n",
    "            datum = {'batch_counter': t[0], 'num_hits': t[1], 'avg_reward_per_batch': t[2], 'num_ep_correct' : t[3], 'avg_ep_correct': t[4], 'train_loss': t[5]}\n",
    "            data.append(datum)\n",
    "            # print(datum)\n",
    "        if 'Memory usage' in line:\n",
    "            t.strip()\n",
    "            t = t[:-7]\n",
    "            t = t.split(':')\n",
    "            t = int(t[1])\n",
    "            # print(str(t), \"kb\")\n",
    "            data[-1]['memory_usage_kb'] = t\n",
    "        if 'Hits' in line or 'mrr' in line:\n",
    "            sc = {}\n",
    "            t = t.split(':')\n",
    "            name = t[0]\n",
    "            val = t[1][:-2]\n",
    "            val = val.strip()\n",
    "            val = float(val)\n",
    "            name = name.strip()\n",
    "            if 'Hits@1:' in line:\n",
    "                sc[name] = val\n",
    "                scores.append(sc)\n",
    "            else:\n",
    "                scores[-1][name] = val\n",
    "\n",
    "    return data, scores\n",
    "\n",
    "'''\n",
    "Score for iteration 100\n",
    "Hits@1:  1.0000\n",
    "Hits@3:  1.0000\n",
    "Hits@5:  1.0000\n",
    "Hits@10:  1.0000\n",
    "Hits@20:  1.0000\n",
    "mrr:  1.0000'''\n",
    "\n",
    "def parseScore(filename):\n",
    "    f = open(filename, \"r\")\n",
    "    lines = f.readlines()\n",
    "    scores = []\n",
    "\n",
    "    for line in lines:\n",
    "        if 'iteration' in line:\n",
    "            t = line.split('iteration')[1]\n",
    "            t = int(t.strip())\n",
    "            sc = {'iteration': t, 'best':False}\n",
    "            scores.append(sc)\n",
    "        elif 'Best' in line:\n",
    "            #Best model from batch number  100\n",
    "            t = int(line.split(\" \")[-1])\n",
    "            sc = {'iteration': t, 'best':True}\n",
    "            scores.append(sc)\n",
    "        elif 'Hits' in line or 'mrr' in line:\n",
    "            sc = {}\n",
    "            t = line.split(':')\n",
    "            name = t[0]\n",
    "            val = t[1]\n",
    "            val = val.strip()\n",
    "            val = float(val)\n",
    "            name = name.strip()\n",
    "            scores[-1][name] = val\n",
    "\n",
    "    return scores\n",
    "\n",
    "\n",
    "\n",
    "\n"
   ]
  },
  {
   "cell_type": "code",
   "execution_count": null,
   "metadata": {},
   "outputs": [],
   "source": [
    "data, scores = parseLog(\"countries_s1_log.txt\")\n",
    "#scores2 = parseScore(\"countries_s1_score.txt\")\n",
    "print(data, scores)\n",
    "#print(scores2)"
   ]
  },
  {
   "cell_type": "code",
   "execution_count": 46,
   "metadata": {},
   "outputs": [
    {
     "data": {
      "text/plain": [
       "{'avg_ep_correct': 0.5742,\n",
       " 'avg_reward_per_batch': 0.1045,\n",
       " 'batch_counter': 2.0,\n",
       " 'memory_usage_kb': 3869764,\n",
       " 'num_ep_correct': 147.0,\n",
       " 'num_hits': 535.0,\n",
       " 'train_loss': -0.013}"
      ]
     },
     "execution_count": 46,
     "metadata": {},
     "output_type": "execute_result"
    }
   ],
   "source": [
    "data[1]"
   ]
  },
  {
   "cell_type": "code",
   "execution_count": 43,
   "metadata": {},
   "outputs": [],
   "source": [
    "import numpy as np\n",
    "import matplotlib.pyplot as plt"
   ]
  },
  {
   "cell_type": "code",
   "execution_count": 51,
   "metadata": {},
   "outputs": [
    {
     "data": {
      "text/plain": [
       "[<matplotlib.lines.Line2D at 0x1f9b9914748>]"
      ]
     },
     "execution_count": 51,
     "metadata": {},
     "output_type": "execute_result"
    },
    {
     "data": {
      "image/png": "[encoded data removed]",
      "text/plain": [
       "<matplotlib.figure.Figure at 0x1f9b98c7550>"
      ]
     },
     "metadata": {},
     "output_type": "display_data"
    }
   ],
   "source": [
    "train_loss = np.array([])\n",
    "for i in range(0,len(data)):\n",
    "    #print(data[i]['train_loss'])\n",
    "    train_loss = np.append (train_loss , data[i]['train_loss'])\n",
    "plt.plot( np.arange(len(train_loss)), train_loss)"
   ]
  },
  {
   "cell_type": "code",
   "execution_count": 52,
   "metadata": {},
   "outputs": [
    {
     "data": {
      "text/plain": [
       "[<matplotlib.lines.Line2D at 0x1f9b9951588>]"
      ]
     },
     "execution_count": 52,
     "metadata": {},
     "output_type": "execute_result"
    },
    {
     "data": {
      "image/png": "[encoded data removed]",
      "text/plain": [
       "<matplotlib.figure.Figure at 0x1f9b992d908>"
      ]
     },
     "metadata": {},
     "output_type": "display_data"
    }
   ],
   "source": [
    "avg_reward_per_batch = np.array([])\n",
    "for i in range(0,len(data)):\n",
    "    #print(data[i]['train_loss'])\n",
    "    avg_reward_per_batch = np.append (avg_reward_per_batch , data[i]['avg_reward_per_batch'])\n",
    "    \n",
    "plt.plot( np.arange(len(avg_reward_per_batch)), avg_reward_per_batch)"
   ]
  },
  {
   "cell_type": "code",
   "execution_count": 53,
   "metadata": {},
   "outputs": [
    {
     "data": {
      "text/plain": [
       "[<matplotlib.lines.Line2D at 0x1f9b998fb00>]"
      ]
     },
     "execution_count": 53,
     "metadata": {},
     "output_type": "execute_result"
    },
    {
     "data": {
      "image/png": "[encoded data removed]",
      "text/plain": [
       "<matplotlib.figure.Figure at 0x1f9b995c7b8>"
      ]
     },
     "metadata": {},
     "output_type": "display_data"
    }
   ],
   "source": [
    "num_ep_correct = np.array([])\n",
    "for i in range(0,len(data)):\n",
    "    #print(data[i]['train_loss'])\n",
    "    num_ep_correct = np.append (num_ep_correct , data[i]['num_ep_correct'])\n",
    "    \n",
    "plt.plot( np.arange(len(num_ep_correct)), num_ep_correct)"
   ]
  },
  {
   "cell_type": "code",
   "execution_count": null,
   "metadata": {},
   "outputs": [],
   "source": []
  },
  {
   "cell_type": "code",
   "execution_count": 58,
   "metadata": {},
   "outputs": [],
   "source": [
    "target_url = 'https:\\\\console.cloud.google.com\\storage\\browser\\551minerva\\output\\kinship\\04d4_2_0.05_50_0.1\\?project=kaggle-comp-196716&pli=1\\log.txt'"
   ]
  },
  {
   "cell_type": "code",
   "execution_count": 62,
   "metadata": {},
   "outputs": [
    {
     "ename": "ImportError",
     "evalue": "No module named 'urllib2'",
     "output_type": "error",
     "traceback": [
      "\u001b[1;31m---------------------------------------------------------------------------\u001b[0m",
      "\u001b[1;31mImportError\u001b[0m                               Traceback (most recent call last)",
      "\u001b[1;32m<ipython-input-62-83ec1744bbbb>\u001b[0m in \u001b[0;36m<module>\u001b[1;34m()\u001b[0m\n\u001b[1;32m----> 1\u001b[1;33m \u001b[1;32mimport\u001b[0m \u001b[0murllib2\u001b[0m  \u001b[1;31m# the lib that handles the url stuff\u001b[0m\u001b[1;33m\u001b[0m\u001b[0m\n\u001b[0m\u001b[0;32m      2\u001b[0m \u001b[1;33m\u001b[0m\u001b[0m\n\u001b[0;32m      3\u001b[0m \u001b[0mdata\u001b[0m \u001b[1;33m=\u001b[0m \u001b[0murllib2\u001b[0m\u001b[1;33m.\u001b[0m\u001b[0murlopen\u001b[0m\u001b[1;33m(\u001b[0m\u001b[0mtarget_url\u001b[0m\u001b[1;33m)\u001b[0m\u001b[1;33m\u001b[0m\u001b[0m\n",
      "\u001b[1;31mImportError\u001b[0m: No module named 'urllib2'"
     ]
    }
   ],
   "source": [
    "import urllib2  # the lib that handles the url stuff\n",
    "\n",
    "data = urllib2.urlopen(target_url)"
   ]
  },
  {
   "cell_type": "markdown",
   "metadata": {},
   "source": [
    "##########################################################################################################################\n",
    "                                                       KINSHIP\n",
    "##########################################################################################################################"
   ]
  },
  {
   "cell_type": "code",
   "execution_count": 4,
   "metadata": {},
   "outputs": [
    {
     "name": "stdout",
     "output_type": "stream",
     "text": [
      "4260\n"
     ]
    }
   ],
   "source": [
    "data, scores = parseLog(\"kinship\\kinship_log_1.txt\")"
   ]
  },
  {
   "cell_type": "code",
   "execution_count": 5,
   "metadata": {},
   "outputs": [
    {
     "data": {
      "text/plain": [
       "{'avg_ep_correct': 0.1875,\n",
       " 'avg_reward_per_batch': 0.0098,\n",
       " 'batch_counter': 1.0,\n",
       " 'memory_usage_kb': 7226100,\n",
       " 'num_ep_correct': 48.0,\n",
       " 'num_hits': 50.0,\n",
       " 'train_loss': -0.005}"
      ]
     },
     "execution_count": 5,
     "metadata": {},
     "output_type": "execute_result"
    }
   ],
   "source": [
    "data[0]"
   ]
  },
  {
   "cell_type": "code",
   "execution_count": 11,
   "metadata": {},
   "outputs": [
    {
     "data": {
      "text/plain": [
       "[<matplotlib.lines.Line2D at 0x17ce186db00>]"
      ]
     },
     "execution_count": 11,
     "metadata": {},
     "output_type": "execute_result"
    },
    {
     "data": {
      "image/png": "[encoded data removed]",
      "text/plain": [
       "<matplotlib.figure.Figure at 0x17cdf82a6a0>"
      ]
     },
     "metadata": {},
     "output_type": "display_data"
    }
   ],
   "source": [
    "avg_reward_per_batch = np.array([])\n",
    "for i in range(0,len(data)):\n",
    "    #print(data[i]['train_loss'])\n",
    "    avg_reward_per_batch = np.append (avg_reward_per_batch , data[i]['avg_reward_per_batch'])\n",
    "    \n",
    "plt.plot( np.arange(len(avg_reward_per_batch)), avg_reward_per_batch)"
   ]
  },
  {
   "cell_type": "code",
   "execution_count": 12,
   "metadata": {},
   "outputs": [
    {
     "data": {
      "text/plain": [
       "[<matplotlib.lines.Line2D at 0x17ce18def98>]"
      ]
     },
     "execution_count": 12,
     "metadata": {},
     "output_type": "execute_result"
    },
    {
     "data": {
      "image/png": "[encoded data removed]",
      "text/plain": [
       "<matplotlib.figure.Figure at 0x17ce188c128>"
      ]
     },
     "metadata": {},
     "output_type": "display_data"
    }
   ],
   "source": [
    "train_loss = np.array([])\n",
    "for i in range(0,len(data)):\n",
    "    #print(data[i]['train_loss'])\n",
    "    train_loss = np.append (train_loss , data[i]['train_loss'])\n",
    "    \n",
    "plt.plot( np.arange(len(train_loss)), train_loss)"
   ]
  },
  {
   "cell_type": "code",
   "execution_count": 19,
   "metadata": {},
   "outputs": [
    {
     "data": {
      "text/plain": [
       "[{'Hits@1': 0.0187,\n",
       "  'Hits@10': 0.1479,\n",
       "  'Hits@20': 0.2088,\n",
       "  'Hits@3': 0.0487,\n",
       "  'Hits@5': 0.0768,\n",
       "  'mrr': 0.0515},\n",
       " {'Hits@1': 0.0187,\n",
       "  'Hits@10': 0.1882,\n",
       "  'Hits@20': 0.2341,\n",
       "  'Hits@3': 0.0581,\n",
       "  'Hits@5': 0.1011,\n",
       "  'mrr': 0.0602},\n",
       " {'Hits@1': 0.0215,\n",
       "  'Hits@10': 0.1564,\n",
       "  'Hits@20': 0.1723,\n",
       "  'Hits@3': 0.0768,\n",
       "  'Hits@5': 0.1161,\n",
       "  'mrr': 0.0614},\n",
       " {'Hits@1': 0.0974,\n",
       "  'Hits@10': 0.2041,\n",
       "  'Hits@20': 0.2275,\n",
       "  'Hits@3': 0.1348,\n",
       "  'Hits@5': 0.1564,\n",
       "  'mrr': 0.1262},\n",
       " {'Hits@1': 0.1077,\n",
       "  'Hits@10': 0.2575,\n",
       "  'Hits@20': 0.3043,\n",
       "  'Hits@3': 0.161,\n",
       "  'Hits@5': 0.2013,\n",
       "  'mrr': 0.1508},\n",
       " {'Hits@1': 0.1217,\n",
       "  'Hits@10': 0.3277,\n",
       "  'Hits@20': 0.3652,\n",
       "  'Hits@3': 0.2116,\n",
       "  'Hits@5': 0.2584,\n",
       "  'mrr': 0.1835},\n",
       " {'Hits@1': 0.1498,\n",
       "  'Hits@10': 0.3586,\n",
       "  'Hits@20': 0.3989,\n",
       "  'Hits@3': 0.2219,\n",
       "  'Hits@5': 0.2762,\n",
       "  'mrr': 0.2085},\n",
       " {'Hits@1': 0.2032,\n",
       "  'Hits@10': 0.4307,\n",
       "  'Hits@20': 0.4728,\n",
       "  'Hits@3': 0.3015,\n",
       "  'Hits@5': 0.3483,\n",
       "  'mrr': 0.2717},\n",
       " {'Hits@1': 0.2032,\n",
       "  'Hits@10': 0.4466,\n",
       "  'Hits@20': 0.485,\n",
       "  'Hits@3': 0.3006,\n",
       "  'Hits@5': 0.3605,\n",
       "  'mrr': 0.2747},\n",
       " {'Hits@1': 0.2303,\n",
       "  'Hits@10': 0.4579,\n",
       "  'Hits@20': 0.514,\n",
       "  'Hits@3': 0.3305,\n",
       "  'Hits@5': 0.3811,\n",
       "  'mrr': 0.2999},\n",
       " {'Hits@1': 0.2659,\n",
       "  'Hits@10': 0.5384,\n",
       "  'Hits@20': 0.5787,\n",
       "  'Hits@3': 0.3933,\n",
       "  'Hits@5': 0.4522,\n",
       "  'mrr': 0.3494},\n",
       " {'Hits@1': 0.2828,\n",
       "  'Hits@10': 0.5562,\n",
       "  'Hits@20': 0.589,\n",
       "  'Hits@3': 0.4092,\n",
       "  'Hits@5': 0.4738,\n",
       "  'mrr': 0.3661},\n",
       " {'Hits@1': 0.2706,\n",
       "  'Hits@10': 0.5468,\n",
       "  'Hits@20': 0.5777,\n",
       "  'Hits@3': 0.4082,\n",
       "  'Hits@5': 0.4682,\n",
       "  'mrr': 0.3592},\n",
       " {'Hits@1': 0.2809,\n",
       "  'Hits@10': 0.573,\n",
       "  'Hits@20': 0.5983,\n",
       "  'Hits@3': 0.4316,\n",
       "  'Hits@5': 0.4953,\n",
       "  'mrr': 0.3732},\n",
       " {'Hits@1': 0.2725,\n",
       "  'Hits@10': 0.5702,\n",
       "  'Hits@20': 0.6086,\n",
       "  'Hits@3': 0.4242,\n",
       "  'Hits@5': 0.4888,\n",
       "  'mrr': 0.3683},\n",
       " {'Hits@1': 0.28,\n",
       "  'Hits@10': 0.5712,\n",
       "  'Hits@20': 0.6199,\n",
       "  'Hits@3': 0.4223,\n",
       "  'Hits@5': 0.4803,\n",
       "  'mrr': 0.3734},\n",
       " {'Hits@1': 0.2931,\n",
       "  'Hits@10': 0.5777,\n",
       "  'Hits@20': 0.6077,\n",
       "  'Hits@3': 0.4307,\n",
       "  'Hits@5': 0.4906,\n",
       "  'mrr': 0.3814},\n",
       " {'Hits@1': 0.2884,\n",
       "  'Hits@10': 0.5693,\n",
       "  'Hits@20': 0.6124,\n",
       "  'Hits@3': 0.4242,\n",
       "  'Hits@5': 0.4813,\n",
       "  'mrr': 0.3774},\n",
       " {'Hits@1': 0.2875,\n",
       "  'Hits@10': 0.5721,\n",
       "  'Hits@20': 0.6096,\n",
       "  'Hits@3': 0.4251,\n",
       "  'Hits@5': 0.4831,\n",
       "  'mrr': 0.3768},\n",
       " {'Hits@1': 0.2949,\n",
       "  'Hits@10': 0.5768,\n",
       "  'Hits@20': 0.6067,\n",
       "  'Hits@3': 0.4288,\n",
       "  'Hits@5': 0.4981,\n",
       "  'mrr': 0.3835},\n",
       " {'Hits@1': 0.2828,\n",
       "  'Hits@10': 0.574,\n",
       "  'Hits@20': 0.6142,\n",
       "  'Hits@3': 0.4316,\n",
       "  'Hits@5': 0.4953,\n",
       "  'mrr': 0.377},\n",
       " {'Hits@1': 0.3015,\n",
       "  'Hits@10': 0.574,\n",
       "  'Hits@20': 0.6105,\n",
       "  'Hits@3': 0.4223,\n",
       "  'Hits@5': 0.485,\n",
       "  'mrr': 0.3837},\n",
       " {'Hits@1': 0.2865,\n",
       "  'Hits@10': 0.5833,\n",
       "  'Hits@20': 0.6114,\n",
       "  'Hits@3': 0.4298,\n",
       "  'Hits@5': 0.4897,\n",
       "  'mrr': 0.3791},\n",
       " {'Hits@1': 0.2903,\n",
       "  'Hits@10': 0.5805,\n",
       "  'Hits@20': 0.633,\n",
       "  'Hits@3': 0.4401,\n",
       "  'Hits@5': 0.4963,\n",
       "  'mrr': 0.3837},\n",
       " {'Hits@1': 0.3034,\n",
       "  'Hits@10': 0.5899,\n",
       "  'Hits@20': 0.6358,\n",
       "  'Hits@3': 0.4457,\n",
       "  'Hits@5': 0.5037,\n",
       "  'mrr': 0.3959},\n",
       " {'Hits@1': 0.2921,\n",
       "  'Hits@10': 0.5721,\n",
       "  'Hits@20': 0.6067,\n",
       "  'Hits@3': 0.4298,\n",
       "  'Hits@5': 0.4981,\n",
       "  'mrr': 0.381},\n",
       " {'Hits@1': 0.2837,\n",
       "  'Hits@10': 0.5684,\n",
       "  'Hits@20': 0.6114,\n",
       "  'Hits@3': 0.441,\n",
       "  'Hits@5': 0.5037,\n",
       "  'mrr': 0.3803},\n",
       " {'Hits@1': 0.2762,\n",
       "  'Hits@10': 0.5843,\n",
       "  'Hits@20': 0.6199,\n",
       "  'Hits@3': 0.4345,\n",
       "  'Hits@5': 0.5009,\n",
       "  'mrr': 0.3772},\n",
       " {'Hits@1': 0.2978,\n",
       "  'Hits@10': 0.5993,\n",
       "  'Hits@20': 0.6395,\n",
       "  'Hits@3': 0.4541,\n",
       "  'Hits@5': 0.5112,\n",
       "  'mrr': 0.3956},\n",
       " {'Hits@1': 0.2959,\n",
       "  'Hits@10': 0.5824,\n",
       "  'Hits@20': 0.632,\n",
       "  'Hits@3': 0.4419,\n",
       "  'Hits@5': 0.5075,\n",
       "  'mrr': 0.39},\n",
       " {'Hits@1': 0.2875,\n",
       "  'Hits@10': 0.5955,\n",
       "  'Hits@20': 0.6433,\n",
       "  'Hits@3': 0.4457,\n",
       "  'Hits@5': 0.5084,\n",
       "  'mrr': 0.3879},\n",
       " {'Hits@1': 0.3109,\n",
       "  'Hits@10': 0.5796,\n",
       "  'Hits@20': 0.6236,\n",
       "  'Hits@3': 0.4513,\n",
       "  'Hits@5': 0.5084,\n",
       "  'mrr': 0.3996},\n",
       " {'Hits@1': 0.2949,\n",
       "  'Hits@10': 0.5833,\n",
       "  'Hits@20': 0.6264,\n",
       "  'Hits@3': 0.4373,\n",
       "  'Hits@5': 0.4991,\n",
       "  'mrr': 0.3862},\n",
       " {'Hits@1': 0.2706,\n",
       "  'Hits@10': 0.5871,\n",
       "  'Hits@20': 0.6386,\n",
       "  'Hits@3': 0.4316,\n",
       "  'Hits@5': 0.4944,\n",
       "  'mrr': 0.3724},\n",
       " {'Hits@1': 0.2949,\n",
       "  'Hits@10': 0.574,\n",
       "  'Hits@20': 0.6255,\n",
       "  'Hits@3': 0.4429,\n",
       "  'Hits@5': 0.4953,\n",
       "  'mrr': 0.3872},\n",
       " {'Hits@1': 0.2931,\n",
       "  'Hits@10': 0.5899,\n",
       "  'Hits@20': 0.6255,\n",
       "  'Hits@3': 0.4466,\n",
       "  'Hits@5': 0.5131,\n",
       "  'mrr': 0.3878},\n",
       " {'Hits@1': 0.2762,\n",
       "  'Hits@10': 0.5936,\n",
       "  'Hits@20': 0.6395,\n",
       "  'Hits@3': 0.4438,\n",
       "  'Hits@5': 0.5028,\n",
       "  'mrr': 0.3796},\n",
       " {'Hits@1': 0.2921,\n",
       "  'Hits@10': 0.6002,\n",
       "  'Hits@20': 0.6461,\n",
       "  'Hits@3': 0.4419,\n",
       "  'Hits@5': 0.5206,\n",
       "  'mrr': 0.3911},\n",
       " {'Hits@1': 0.2875,\n",
       "  'Hits@10': 0.5936,\n",
       "  'Hits@20': 0.6442,\n",
       "  'Hits@3': 0.4429,\n",
       "  'Hits@5': 0.5019,\n",
       "  'mrr': 0.3863},\n",
       " {'Hits@1': 0.2959,\n",
       "  'Hits@10': 0.603,\n",
       "  'Hits@20': 0.6451,\n",
       "  'Hits@3': 0.4597,\n",
       "  'Hits@5': 0.5103,\n",
       "  'mrr': 0.3948},\n",
       " {'Hits@1': 0.2812,\n",
       "  'Hits@10': 0.5996,\n",
       "  'Hits@20': 0.6629,\n",
       "  'Hits@3': 0.4553,\n",
       "  'Hits@5': 0.5186,\n",
       "  'mrr': 0.3886}]"
      ]
     },
     "execution_count": 19,
     "metadata": {},
     "output_type": "execute_result"
    }
   ],
   "source": [
    "scores"
   ]
  },
  {
   "cell_type": "markdown",
   "metadata": {},
   "source": [
    "##########################################################################################################################\n",
    "\n",
    "uml\n",
    "#########################################################################################################33"
   ]
  },
  {
   "cell_type": "code",
   "execution_count": 7,
   "metadata": {},
   "outputs": [
    {
     "name": "stdout",
     "output_type": "stream",
     "text": [
      "1632\n"
     ]
    }
   ],
   "source": [
    "data, scores = parseLog(\"kinship\\\\uml_log_1.txt\")"
   ]
  },
  {
   "cell_type": "code",
   "execution_count": 8,
   "metadata": {},
   "outputs": [
    {
     "data": {
      "text/plain": [
       "{'avg_ep_correct': 0.3906,\n",
       " 'avg_reward_per_batch': 0.0311,\n",
       " 'batch_counter': 1.0,\n",
       " 'memory_usage_kb': 3777616,\n",
       " 'num_ep_correct': 100.0,\n",
       " 'num_hits': 159.0,\n",
       " 'train_loss': -0.004}"
      ]
     },
     "execution_count": 8,
     "metadata": {},
     "output_type": "execute_result"
    }
   ],
   "source": [
    "data[0]"
   ]
  },
  {
   "cell_type": "code",
   "execution_count": 10,
   "metadata": {},
   "outputs": [
    {
     "data": {
      "text/plain": [
       "[<matplotlib.lines.Line2D at 0x2b1084b0a90>]"
      ]
     },
     "execution_count": 10,
     "metadata": {},
     "output_type": "execute_result"
    },
    {
     "data": {
      "image/png": "[encoded data removed]",
      "text/plain": [
       "<matplotlib.figure.Figure at 0x2b108509550>"
      ]
     },
     "metadata": {},
     "output_type": "display_data"
    }
   ],
   "source": [
    "avg_reward_per_batch = np.array([])\n",
    "for i in range(0,len(data)):\n",
    "    #print(data[i]['train_loss'])\n",
    "    avg_reward_per_batch = np.append (avg_reward_per_batch , data[i]['avg_reward_per_batch'])\n",
    "    \n",
    "plt.plot( np.arange(len(avg_reward_per_batch)), avg_reward_per_batch)"
   ]
  },
  {
   "cell_type": "code",
   "execution_count": 9,
   "metadata": {},
   "outputs": [
    {
     "data": {
      "text/plain": [
       "[<matplotlib.lines.Line2D at 0x2b10856f748>]"
      ]
     },
     "execution_count": 9,
     "metadata": {},
     "output_type": "execute_result"
    },
    {
     "data": {
      "image/png": "[encoded data removed]",
      "text/plain": [
       "<matplotlib.figure.Figure at 0x2b1083d3ef0>"
      ]
     },
     "metadata": {},
     "output_type": "display_data"
    }
   ],
   "source": [
    "train_loss = np.array([])\n",
    "for i in range(0,len(data)):\n",
    "    #print(data[i]['train_loss'])\n",
    "    train_loss = np.append (train_loss , data[i]['train_loss'])\n",
    "    \n",
    "plt.plot( np.arange(len(train_loss)), train_loss)"
   ]
  },
  {
   "cell_type": "code",
   "execution_count": 11,
   "metadata": {},
   "outputs": [
    {
     "name": "stdout",
     "output_type": "stream",
     "text": [
      "4140\n"
     ]
    }
   ],
   "source": [
    "data, scores = parseLog(\"kinship\\\\nell_log_1.txt\")"
   ]
  },
  {
   "cell_type": "markdown",
   "metadata": {},
   "source": [
    "###################################################################\n",
    "\n",
    "Nell\n",
    "###################################################################"
   ]
  },
  {
   "cell_type": "code",
   "execution_count": 12,
   "metadata": {},
   "outputs": [
    {
     "name": "stdout",
     "output_type": "stream",
     "text": [
      "4140\n"
     ]
    }
   ],
   "source": [
    "data, scores = parseLog(\"kinship\\\\nell_log_1.txt\")"
   ]
  },
  {
   "cell_type": "code",
   "execution_count": 13,
   "metadata": {},
   "outputs": [
    {
     "data": {
      "text/plain": [
       "[<matplotlib.lines.Line2D at 0x2b10b69d048>]"
      ]
     },
     "execution_count": 13,
     "metadata": {},
     "output_type": "execute_result"
    },
    {
     "data": {
      "image/png": "[encoded data removed]",
      "text/plain": [
       "<matplotlib.figure.Figure at 0x2b1084f0f28>"
      ]
     },
     "metadata": {},
     "output_type": "display_data"
    }
   ],
   "source": [
    "train_loss = np.array([])\n",
    "for i in range(0,len(data)):\n",
    "    #print(data[i]['train_loss'])\n",
    "    train_loss = np.append (train_loss , data[i]['train_loss'])\n",
    "    \n",
    "plt.plot( np.arange(len(train_loss)), train_loss)"
   ]
  },
  {
   "cell_type": "code",
   "execution_count": 14,
   "metadata": {},
   "outputs": [
    {
     "data": {
      "text/plain": [
       "[<matplotlib.lines.Line2D at 0x2b10853c470>]"
      ]
     },
     "execution_count": 14,
     "metadata": {},
     "output_type": "execute_result"
    },
    {
     "data": {
      "image/png": "[encoded data removed]",
      "text/plain": [
       "<matplotlib.figure.Figure at 0x2b108466e48>"
      ]
     },
     "metadata": {},
     "output_type": "display_data"
    }
   ],
   "source": [
    "avg_reward_per_batch = np.array([])\n",
    "for i in range(0,len(data)):\n",
    "    #print(data[i]['train_loss'])\n",
    "    avg_reward_per_batch = np.append (avg_reward_per_batch , data[i]['avg_reward_per_batch'])\n",
    "    \n",
    "plt.plot( np.arange(len(avg_reward_per_batch)), avg_reward_per_batch)"
   ]
  },
  {
   "cell_type": "code",
   "execution_count": 20,
   "metadata": {},
   "outputs": [
    {
     "name": "stdout",
     "output_type": "stream",
     "text": [
      "[{'iteration': 100, 'mrr': 0.6015, 'best': False, 'Hits@10': 0.6591, 'Hits@1': 0.5684, 'Hits@3': 0.6267, 'Hits@5': 0.6419, 'Hits@20': 0.6746}, {'iteration': 200, 'mrr': 0.6212, 'best': False, 'Hits@10': 0.6695, 'Hits@1': 0.594, 'Hits@3': 0.6396, 'Hits@5': 0.6531, 'Hits@20': 0.6812}, {'iteration': 300, 'mrr': 0.6259, 'best': False, 'Hits@10': 0.6668, 'Hits@1': 0.6009, 'Hits@3': 0.645, 'Hits@5': 0.6556, 'Hits@20': 0.6809}, {'iteration': 400, 'mrr': 0.6305, 'best': False, 'Hits@10': 0.6706, 'Hits@1': 0.61, 'Hits@3': 0.6442, 'Hits@5': 0.6571, 'Hits@20': 0.6782}, {'iteration': 500, 'mrr': 0.6362, 'best': False, 'Hits@10': 0.6736, 'Hits@1': 0.6151, 'Hits@3': 0.6526, 'Hits@5': 0.6602, 'Hits@20': 0.6832}, {'iteration': 600, 'mrr': 0.6433, 'best': False, 'Hits@10': 0.6759, 'Hits@1': 0.6242, 'Hits@3': 0.6553, 'Hits@5': 0.6647, 'Hits@20': 0.6855}, {'iteration': 700, 'mrr': 0.6486, 'best': False, 'Hits@10': 0.6799, 'Hits@1': 0.631, 'Hits@3': 0.6607, 'Hits@5': 0.6698, 'Hits@20': 0.6893}, {'iteration': 800, 'mrr': 0.6508, 'best': False, 'Hits@10': 0.6776, 'Hits@1': 0.6351, 'Hits@3': 0.6619, 'Hits@5': 0.6685, 'Hits@20': 0.6916}, {'iteration': 900, 'mrr': 0.6542, 'best': False, 'Hits@10': 0.6855, 'Hits@1': 0.6394, 'Hits@3': 0.6627, 'Hits@5': 0.6728, 'Hits@20': 0.6936}, {'iteration': 1000, 'mrr': 0.6562, 'best': False, 'Hits@10': 0.6822, 'Hits@1': 0.6417, 'Hits@3': 0.6665, 'Hits@5': 0.6736, 'Hits@20': 0.6898}, {'iteration': 1100, 'mrr': 0.6593, 'best': False, 'Hits@10': 0.6845, 'Hits@1': 0.6477, 'Hits@3': 0.6647, 'Hits@5': 0.6741, 'Hits@20': 0.6906}, {'iteration': 1200, 'mrr': 0.6611, 'best': False, 'Hits@10': 0.6847, 'Hits@1': 0.65, 'Hits@3': 0.6675, 'Hits@5': 0.6746, 'Hits@20': 0.6921}, {'iteration': 1300, 'mrr': 0.6627, 'best': False, 'Hits@10': 0.6847, 'Hits@1': 0.6513, 'Hits@3': 0.6695, 'Hits@5': 0.6779, 'Hits@20': 0.6929}, {'iteration': 1400, 'mrr': 0.6659, 'best': False, 'Hits@10': 0.6885, 'Hits@1': 0.6536, 'Hits@3': 0.6741, 'Hits@5': 0.6799, 'Hits@20': 0.6959}, {'iteration': 1500, 'mrr': 0.6674, 'best': False, 'Hits@10': 0.6898, 'Hits@1': 0.6559, 'Hits@3': 0.6764, 'Hits@5': 0.683, 'Hits@20': 0.6964}, {'iteration': 1600, 'mrr': 0.6693, 'best': False, 'Hits@10': 0.6901, 'Hits@1': 0.6579, 'Hits@3': 0.6764, 'Hits@5': 0.6842, 'Hits@20': 0.6989}, {'iteration': 1700, 'mrr': 0.6676, 'best': False, 'Hits@10': 0.688, 'Hits@1': 0.6571, 'Hits@3': 0.6746, 'Hits@5': 0.6802, 'Hits@20': 0.6944}, {'iteration': 1800, 'mrr': 0.6711, 'best': False, 'Hits@10': 0.6916, 'Hits@1': 0.6617, 'Hits@3': 0.6761, 'Hits@5': 0.6827, 'Hits@20': 0.6961}, {'iteration': 1900, 'mrr': 0.6713, 'best': False, 'Hits@10': 0.6873, 'Hits@1': 0.6627, 'Hits@3': 0.6776, 'Hits@5': 0.682, 'Hits@20': 0.6913}, {'iteration': 2000, 'mrr': 0.6719, 'best': False, 'Hits@10': 0.6896, 'Hits@1': 0.6632, 'Hits@3': 0.6771, 'Hits@5': 0.6832, 'Hits@20': 0.6974}, {'iteration': 1800, 'mrr': 0.504, 'best': True, 'Hits@10': 0.5726, 'Hits@1': 0.4634, 'Hits@3': 0.5341, 'Hits@5': 0.5554, 'Hits@20': 0.5859}]\n"
     ]
    }
   ],
   "source": [
    "scores2 = parseScore(\"nell\\\\nell_score_1.txt\")\n",
    "print(scores2)"
   ]
  },
  {
   "cell_type": "code",
   "execution_count": 21,
   "metadata": {},
   "outputs": [
    {
     "data": {
      "text/plain": [
       "[{'Hits@1': 0.5684,\n",
       "  'Hits@10': 0.6591,\n",
       "  'Hits@20': 0.6746,\n",
       "  'Hits@3': 0.6267,\n",
       "  'Hits@5': 0.6419,\n",
       "  'mrr': 0.6015},\n",
       " {'Hits@1': 0.594,\n",
       "  'Hits@10': 0.6695,\n",
       "  'Hits@20': 0.6812,\n",
       "  'Hits@3': 0.6396,\n",
       "  'Hits@5': 0.6531,\n",
       "  'mrr': 0.6212},\n",
       " {'Hits@1': 0.6009,\n",
       "  'Hits@10': 0.6668,\n",
       "  'Hits@20': 0.6809,\n",
       "  'Hits@3': 0.645,\n",
       "  'Hits@5': 0.6556,\n",
       "  'mrr': 0.6259},\n",
       " {'Hits@1': 0.61,\n",
       "  'Hits@10': 0.6706,\n",
       "  'Hits@20': 0.6782,\n",
       "  'Hits@3': 0.6442,\n",
       "  'Hits@5': 0.6571,\n",
       "  'mrr': 0.6305},\n",
       " {'Hits@1': 0.6151,\n",
       "  'Hits@10': 0.6736,\n",
       "  'Hits@20': 0.6832,\n",
       "  'Hits@3': 0.6526,\n",
       "  'Hits@5': 0.6602,\n",
       "  'mrr': 0.6362},\n",
       " {'Hits@1': 0.6242,\n",
       "  'Hits@10': 0.6759,\n",
       "  'Hits@20': 0.6855,\n",
       "  'Hits@3': 0.6553,\n",
       "  'Hits@5': 0.6647,\n",
       "  'mrr': 0.6433},\n",
       " {'Hits@1': 0.631,\n",
       "  'Hits@10': 0.6799,\n",
       "  'Hits@20': 0.6893,\n",
       "  'Hits@3': 0.6607,\n",
       "  'Hits@5': 0.6698,\n",
       "  'mrr': 0.6486},\n",
       " {'Hits@1': 0.6351,\n",
       "  'Hits@10': 0.6776,\n",
       "  'Hits@20': 0.6916,\n",
       "  'Hits@3': 0.6619,\n",
       "  'Hits@5': 0.6685,\n",
       "  'mrr': 0.6508},\n",
       " {'Hits@1': 0.6394,\n",
       "  'Hits@10': 0.6855,\n",
       "  'Hits@20': 0.6936,\n",
       "  'Hits@3': 0.6627,\n",
       "  'Hits@5': 0.6728,\n",
       "  'mrr': 0.6542},\n",
       " {'Hits@1': 0.6417,\n",
       "  'Hits@10': 0.6822,\n",
       "  'Hits@20': 0.6898,\n",
       "  'Hits@3': 0.6665,\n",
       "  'Hits@5': 0.6736,\n",
       "  'mrr': 0.6562},\n",
       " {'Hits@1': 0.6477,\n",
       "  'Hits@10': 0.6845,\n",
       "  'Hits@20': 0.6906,\n",
       "  'Hits@3': 0.6647,\n",
       "  'Hits@5': 0.6741,\n",
       "  'mrr': 0.6593},\n",
       " {'Hits@1': 0.65,\n",
       "  'Hits@10': 0.6847,\n",
       "  'Hits@20': 0.6921,\n",
       "  'Hits@3': 0.6675,\n",
       "  'Hits@5': 0.6746,\n",
       "  'mrr': 0.6611},\n",
       " {'Hits@1': 0.6513,\n",
       "  'Hits@10': 0.6847,\n",
       "  'Hits@20': 0.6929,\n",
       "  'Hits@3': 0.6695,\n",
       "  'Hits@5': 0.6779,\n",
       "  'mrr': 0.6627},\n",
       " {'Hits@1': 0.6536,\n",
       "  'Hits@10': 0.6885,\n",
       "  'Hits@20': 0.6959,\n",
       "  'Hits@3': 0.6741,\n",
       "  'Hits@5': 0.6799,\n",
       "  'mrr': 0.6659},\n",
       " {'Hits@1': 0.6559,\n",
       "  'Hits@10': 0.6898,\n",
       "  'Hits@20': 0.6964,\n",
       "  'Hits@3': 0.6764,\n",
       "  'Hits@5': 0.683,\n",
       "  'mrr': 0.6674},\n",
       " {'Hits@1': 0.6579,\n",
       "  'Hits@10': 0.6901,\n",
       "  'Hits@20': 0.6989,\n",
       "  'Hits@3': 0.6764,\n",
       "  'Hits@5': 0.6842,\n",
       "  'mrr': 0.6693},\n",
       " {'Hits@1': 0.6571,\n",
       "  'Hits@10': 0.688,\n",
       "  'Hits@20': 0.6944,\n",
       "  'Hits@3': 0.6746,\n",
       "  'Hits@5': 0.6802,\n",
       "  'mrr': 0.6676},\n",
       " {'Hits@1': 0.6617,\n",
       "  'Hits@10': 0.6916,\n",
       "  'Hits@20': 0.6961,\n",
       "  'Hits@3': 0.6761,\n",
       "  'Hits@5': 0.6827,\n",
       "  'mrr': 0.6711},\n",
       " {'Hits@1': 0.6627,\n",
       "  'Hits@10': 0.6873,\n",
       "  'Hits@20': 0.6913,\n",
       "  'Hits@3': 0.6776,\n",
       "  'Hits@5': 0.682,\n",
       "  'mrr': 0.6713},\n",
       " {'Hits@1': 0.6632,\n",
       "  'Hits@10': 0.6896,\n",
       "  'Hits@20': 0.6974,\n",
       "  'Hits@3': 0.6771,\n",
       "  'Hits@5': 0.6832,\n",
       "  'mrr': 0.6719},\n",
       " {'Hits@1': 0.4634,\n",
       "  'Hits@10': 0.5726,\n",
       "  'Hits@20': 0.5859,\n",
       "  'Hits@3': 0.5341,\n",
       "  'Hits@5': 0.5554,\n",
       "  'mrr': 0.504}]"
      ]
     },
     "execution_count": 21,
     "metadata": {},
     "output_type": "execute_result"
    }
   ],
   "source": [
    "scores"
   ]
  },
  {
   "cell_type": "code",
   "execution_count": null,
   "metadata": {},
   "outputs": [],
   "source": []
  }
 ],
 "metadata": {
  "kernelspec": {
   "display_name": "Python 3",
   "language": "python",
   "name": "python3"
  },
  "language_info": {
   "codemirror_mode": {
    "name": "ipython",
    "version": 3
   },
   "file_extension": ".py",
   "mimetype": "text/x-python",
   "name": "python",
   "nbconvert_exporter": "python",
   "pygments_lexer": "ipython3",
   "version": "3.5.2"
  }
 },
 "nbformat": 4,
 "nbformat_minor": 2
}
