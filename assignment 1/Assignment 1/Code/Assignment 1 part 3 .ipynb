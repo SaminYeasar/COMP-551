{
 "cells": [
  {
   "cell_type": "code",
   "execution_count": 31,
   "metadata": {},
   "outputs": [],
   "source": [
    "import pandas as pd\n",
    "import numpy as np"
   ]
  },
  {
   "cell_type": "code",
   "execution_count": 32,
   "metadata": {},
   "outputs": [],
   "source": [
    "Data = pd.read_csv('http://archive.ics.uci.edu/ml/machine-learning-databases/communities/communities.data',sep=',',header=None)"
   ]
  },
  {
   "cell_type": "code",
   "execution_count": 33,
   "metadata": {},
   "outputs": [
    {
     "data": {
      "text/plain": [
       "(1994, 128)"
      ]
     },
     "execution_count": 33,
     "metadata": {},
     "output_type": "execute_result"
    }
   ],
   "source": [
    "Data.shape"
   ]
  },
  {
   "cell_type": "code",
   "execution_count": 34,
   "metadata": {},
   "outputs": [
    {
     "data": {
      "text/html": [
       "<div>\n",
       "<style scoped>\n",
       "    .dataframe tbody tr th:only-of-type {\n",
       "        vertical-align: middle;\n",
       "    }\n",
       "\n",
       "    .dataframe tbody tr th {\n",
       "        vertical-align: top;\n",
       "    }\n",
       "\n",
       "    .dataframe thead th {\n",
       "        text-align: right;\n",
       "    }\n",
       "</style>\n",
       "<table border=\"1\" class=\"dataframe\">\n",
       "  <thead>\n",
       "    <tr style=\"text-align: right;\">\n",
       "      <th></th>\n",
       "      <th>0</th>\n",
       "      <th>1</th>\n",
       "      <th>2</th>\n",
       "      <th>3</th>\n",
       "      <th>4</th>\n",
       "      <th>5</th>\n",
       "      <th>6</th>\n",
       "      <th>7</th>\n",
       "      <th>8</th>\n",
       "      <th>9</th>\n",
       "      <th>...</th>\n",
       "      <th>118</th>\n",
       "      <th>119</th>\n",
       "      <th>120</th>\n",
       "      <th>121</th>\n",
       "      <th>122</th>\n",
       "      <th>123</th>\n",
       "      <th>124</th>\n",
       "      <th>125</th>\n",
       "      <th>126</th>\n",
       "      <th>127</th>\n",
       "    </tr>\n",
       "  </thead>\n",
       "  <tbody>\n",
       "    <tr>\n",
       "      <th>0</th>\n",
       "      <td>8</td>\n",
       "      <td>?</td>\n",
       "      <td>?</td>\n",
       "      <td>Lakewoodcity</td>\n",
       "      <td>1</td>\n",
       "      <td>0.19</td>\n",
       "      <td>0.33</td>\n",
       "      <td>0.02</td>\n",
       "      <td>0.90</td>\n",
       "      <td>0.12</td>\n",
       "      <td>...</td>\n",
       "      <td>0.12</td>\n",
       "      <td>0.26</td>\n",
       "      <td>0.20</td>\n",
       "      <td>0.06</td>\n",
       "      <td>0.04</td>\n",
       "      <td>0.9</td>\n",
       "      <td>0.5</td>\n",
       "      <td>0.32</td>\n",
       "      <td>0.14</td>\n",
       "      <td>0.20</td>\n",
       "    </tr>\n",
       "    <tr>\n",
       "      <th>1</th>\n",
       "      <td>53</td>\n",
       "      <td>?</td>\n",
       "      <td>?</td>\n",
       "      <td>Tukwilacity</td>\n",
       "      <td>1</td>\n",
       "      <td>0.00</td>\n",
       "      <td>0.16</td>\n",
       "      <td>0.12</td>\n",
       "      <td>0.74</td>\n",
       "      <td>0.45</td>\n",
       "      <td>...</td>\n",
       "      <td>0.02</td>\n",
       "      <td>0.12</td>\n",
       "      <td>0.45</td>\n",
       "      <td>?</td>\n",
       "      <td>?</td>\n",
       "      <td>?</td>\n",
       "      <td>?</td>\n",
       "      <td>0.00</td>\n",
       "      <td>?</td>\n",
       "      <td>0.67</td>\n",
       "    </tr>\n",
       "    <tr>\n",
       "      <th>2</th>\n",
       "      <td>24</td>\n",
       "      <td>?</td>\n",
       "      <td>?</td>\n",
       "      <td>Aberdeentown</td>\n",
       "      <td>1</td>\n",
       "      <td>0.00</td>\n",
       "      <td>0.42</td>\n",
       "      <td>0.49</td>\n",
       "      <td>0.56</td>\n",
       "      <td>0.17</td>\n",
       "      <td>...</td>\n",
       "      <td>0.01</td>\n",
       "      <td>0.21</td>\n",
       "      <td>0.02</td>\n",
       "      <td>?</td>\n",
       "      <td>?</td>\n",
       "      <td>?</td>\n",
       "      <td>?</td>\n",
       "      <td>0.00</td>\n",
       "      <td>?</td>\n",
       "      <td>0.43</td>\n",
       "    </tr>\n",
       "    <tr>\n",
       "      <th>3</th>\n",
       "      <td>34</td>\n",
       "      <td>5</td>\n",
       "      <td>81440</td>\n",
       "      <td>Willingborotownship</td>\n",
       "      <td>1</td>\n",
       "      <td>0.04</td>\n",
       "      <td>0.77</td>\n",
       "      <td>1.00</td>\n",
       "      <td>0.08</td>\n",
       "      <td>0.12</td>\n",
       "      <td>...</td>\n",
       "      <td>0.02</td>\n",
       "      <td>0.39</td>\n",
       "      <td>0.28</td>\n",
       "      <td>?</td>\n",
       "      <td>?</td>\n",
       "      <td>?</td>\n",
       "      <td>?</td>\n",
       "      <td>0.00</td>\n",
       "      <td>?</td>\n",
       "      <td>0.12</td>\n",
       "    </tr>\n",
       "    <tr>\n",
       "      <th>4</th>\n",
       "      <td>42</td>\n",
       "      <td>95</td>\n",
       "      <td>6096</td>\n",
       "      <td>Bethlehemtownship</td>\n",
       "      <td>1</td>\n",
       "      <td>0.01</td>\n",
       "      <td>0.55</td>\n",
       "      <td>0.02</td>\n",
       "      <td>0.95</td>\n",
       "      <td>0.09</td>\n",
       "      <td>...</td>\n",
       "      <td>0.04</td>\n",
       "      <td>0.09</td>\n",
       "      <td>0.02</td>\n",
       "      <td>?</td>\n",
       "      <td>?</td>\n",
       "      <td>?</td>\n",
       "      <td>?</td>\n",
       "      <td>0.00</td>\n",
       "      <td>?</td>\n",
       "      <td>0.03</td>\n",
       "    </tr>\n",
       "  </tbody>\n",
       "</table>\n",
       "<p>5 rows × 128 columns</p>\n",
       "</div>"
      ],
      "text/plain": [
       "   0   1      2                    3    4     5     6     7     8     9    \\\n",
       "0    8   ?      ?         Lakewoodcity    1  0.19  0.33  0.02  0.90  0.12   \n",
       "1   53   ?      ?          Tukwilacity    1  0.00  0.16  0.12  0.74  0.45   \n",
       "2   24   ?      ?         Aberdeentown    1  0.00  0.42  0.49  0.56  0.17   \n",
       "3   34   5  81440  Willingborotownship    1  0.04  0.77  1.00  0.08  0.12   \n",
       "4   42  95   6096    Bethlehemtownship    1  0.01  0.55  0.02  0.95  0.09   \n",
       "\n",
       "   ...    118   119   120   121   122  123  124   125   126   127  \n",
       "0  ...   0.12  0.26  0.20  0.06  0.04  0.9  0.5  0.32  0.14  0.20  \n",
       "1  ...   0.02  0.12  0.45     ?     ?    ?    ?  0.00     ?  0.67  \n",
       "2  ...   0.01  0.21  0.02     ?     ?    ?    ?  0.00     ?  0.43  \n",
       "3  ...   0.02  0.39  0.28     ?     ?    ?    ?  0.00     ?  0.12  \n",
       "4  ...   0.04  0.09  0.02     ?     ?    ?    ?  0.00     ?  0.03  \n",
       "\n",
       "[5 rows x 128 columns]"
      ]
     },
     "execution_count": 34,
     "metadata": {},
     "output_type": "execute_result"
    }
   ],
   "source": [
    "Data.head()"
   ]
  },
  {
   "cell_type": "markdown",
   "metadata": {},
   "source": [
    "# Extract Feature and target/goal "
   ]
  },
  {
   "cell_type": "code",
   "execution_count": 35,
   "metadata": {},
   "outputs": [
    {
     "name": "stdout",
     "output_type": "stream",
     "text": [
      "(1994, 123)\n"
     ]
    }
   ],
   "source": [
    "X = Data.loc[:,5:127]\n",
    "print(X.shape)"
   ]
  },
  {
   "cell_type": "markdown",
   "metadata": {},
   "source": [
    "# convert \"?\" label data to Nan"
   ]
  },
  {
   "cell_type": "code",
   "execution_count": 36,
   "metadata": {},
   "outputs": [],
   "source": [
    "X = X.replace('?',np.nan)"
   ]
  },
  {
   "cell_type": "code",
   "execution_count": 37,
   "metadata": {},
   "outputs": [
    {
     "data": {
      "text/plain": [
       "123     object\n",
       "124     object\n",
       "125    float64\n",
       "126     object\n",
       "127    float64\n",
       "dtype: object"
      ]
     },
     "execution_count": 37,
     "metadata": {},
     "output_type": "execute_result"
    }
   ],
   "source": [
    "X.dtypes.tail()"
   ]
  },
  {
   "cell_type": "markdown",
   "metadata": {},
   "source": [
    "# need to change data types object to float in order to mean"
   ]
  },
  {
   "cell_type": "code",
   "execution_count": 38,
   "metadata": {},
   "outputs": [
    {
     "name": "stderr",
     "output_type": "stream",
     "text": [
      "g:\\python\\lib\\site-packages\\ipykernel_launcher.py:1: FutureWarning: convert_objects is deprecated.  To re-infer data dtypes for object columns, use DataFrame.infer_objects()\n",
      "For all other conversions use the data-type specific converters pd.to_datetime, pd.to_timedelta and pd.to_numeric.\n",
      "  \"\"\"Entry point for launching an IPython kernel.\n"
     ]
    }
   ],
   "source": [
    "X = X.convert_objects(convert_numeric=True)"
   ]
  },
  {
   "cell_type": "code",
   "execution_count": 39,
   "metadata": {},
   "outputs": [
    {
     "data": {
      "text/plain": [
       "123    float64\n",
       "124    float64\n",
       "125    float64\n",
       "126    float64\n",
       "127    float64\n",
       "dtype: object"
      ]
     },
     "execution_count": 39,
     "metadata": {},
     "output_type": "execute_result"
    }
   ],
   "source": [
    "X.dtypes.tail()"
   ]
  },
  {
   "cell_type": "markdown",
   "metadata": {},
   "source": [
    "# Get sample mean "
   ]
  },
  {
   "cell_type": "code",
   "execution_count": 40,
   "metadata": {},
   "outputs": [
    {
     "name": "stdout",
     "output_type": "stream",
     "text": [
      "float64\n",
      "(123,)\n"
     ]
    }
   ],
   "source": [
    "sample_mean = X.mean()\n",
    "print(sample_mean.dtypes)\n",
    "print(sample_mean.shape)"
   ]
  },
  {
   "cell_type": "code",
   "execution_count": 41,
   "metadata": {},
   "outputs": [
    {
     "data": {
      "text/plain": [
       "5    0.057593\n",
       "6    0.463395\n",
       "7    0.179629\n",
       "8    0.753716\n",
       "9    0.153681\n",
       "dtype: float64"
      ]
     },
     "execution_count": 41,
     "metadata": {},
     "output_type": "execute_result"
    }
   ],
   "source": [
    "sample_mean.head()"
   ]
  },
  {
   "cell_type": "code",
   "execution_count": 42,
   "metadata": {},
   "outputs": [
    {
     "data": {
      "text/plain": [
       "Int64Index([  5,   6,   7,   8,   9,  10,  11,  12,  13,  14,\n",
       "            ...\n",
       "            118, 119, 120, 121, 122, 123, 124, 125, 126, 127],\n",
       "           dtype='int64', length=123)"
      ]
     },
     "execution_count": 42,
     "metadata": {},
     "output_type": "execute_result"
    }
   ],
   "source": [
    "ind = X.columns\n",
    "ind"
   ]
  },
  {
   "cell_type": "markdown",
   "metadata": {},
   "source": [
    "# replace Nan with sample mean"
   ]
  },
  {
   "cell_type": "code",
   "execution_count": 43,
   "metadata": {},
   "outputs": [],
   "source": [
    "for i in range (0,ind.shape[0]):\n",
    "    X.loc[:,ind[i]].replace(np.nan,sample_mean[ind[i]],inplace=True)"
   ]
  },
  {
   "cell_type": "markdown",
   "metadata": {},
   "source": [
    "# convert in to numpy array "
   ]
  },
  {
   "cell_type": "code",
   "execution_count": 44,
   "metadata": {},
   "outputs": [
    {
     "name": "stdout",
     "output_type": "stream",
     "text": [
      "(1994, 123)\n",
      "<class 'numpy.ndarray'>\n"
     ]
    }
   ],
   "source": [
    "X = pd.DataFrame.as_matrix(X)\n",
    "print(X.shape)\n",
    "print(type(X))"
   ]
  },
  {
   "cell_type": "code",
   "execution_count": 45,
   "metadata": {},
   "outputs": [
    {
     "data": {
      "text/plain": [
       "1994"
      ]
     },
     "execution_count": 45,
     "metadata": {},
     "output_type": "execute_result"
    }
   ],
   "source": [
    "X.shape[0]"
   ]
  },
  {
   "cell_type": "code",
   "execution_count": 46,
   "metadata": {},
   "outputs": [
    {
     "name": "stdout",
     "output_type": "stream",
     "text": [
      "399\n"
     ]
    }
   ],
   "source": [
    "# no of files for validation at per iteration\n",
    "# X.shape[0] is the number of total examples\n",
    "test_data_itr = int(np.ceil(X.shape[0]/5))\n",
    "print(test_data_itr)"
   ]
  },
  {
   "cell_type": "code",
   "execution_count": 47,
   "metadata": {},
   "outputs": [],
   "source": [
    "def createData (filetype,filenumber,content):\n",
    "    import numpy as np\n",
    "    np.savetxt(\"F:/Winter 2018/Applied ML/winter 2018/Assignments/assignment 1/codes/CandC-%s%s.csv\" % (filetype,filenumber) , content, delimiter=\",\")\n"
   ]
  },
  {
   "cell_type": "code",
   "execution_count": 48,
   "metadata": {},
   "outputs": [
    {
     "name": "stdout",
     "output_type": "stream",
     "text": [
      "(399, 123)\n",
      "(1595, 123)\n",
      "(399, 123)\n",
      "(1595, 123)\n",
      "(399, 123)\n",
      "(1595, 123)\n",
      "(399, 123)\n",
      "(1595, 123)\n",
      "(398, 123)\n",
      "(1596, 123)\n"
     ]
    }
   ],
   "source": [
    "for i in range (0,5):\n",
    "    strt_ind = i*test_data_itr\n",
    "    if i == 4 :\n",
    "        X_test = X[strt_ind:,:]\n",
    "        X_train = np.delete(X,np.s_[strt_ind :],0)\n",
    "    else :\n",
    "        X_test = X[strt_ind :strt_ind + test_data_itr,:]\n",
    "        X_train = np.delete(X,np.s_[strt_ind :strt_ind + test_data_itr],0)\n",
    "    \n",
    "    createData ('train',i,X_train)\n",
    "    createData ('test',i,X_test)\n",
    "    \n",
    "    print(X_test.shape)\n",
    "    print(X_train.shape)\n",
    "    "
   ]
  },
  {
   "cell_type": "code",
   "execution_count": 50,
   "metadata": {},
   "outputs": [],
   "source": [
    "###############################################################################################################################\n",
    "\n",
    "\n",
    "\n",
    "\n",
    "###############################################################################################################################"
   ]
  },
  {
   "cell_type": "code",
   "execution_count": 56,
   "metadata": {},
   "outputs": [],
   "source": [
    "def getfile (filename):\n",
    "    blah = pd.read_csv(filename,sep=',',header=None)\n",
    "    blah = pd.DataFrame.as_matrix(blah)\n",
    "    return blah"
   ]
  },
  {
   "cell_type": "code",
   "execution_count": 51,
   "metadata": {},
   "outputs": [],
   "source": [
    "def computeW (Xm_train,Y_train):\n",
    "    a = np.dot(Xm_train.T,Xm_train) \n",
    "    a = np.linalg.pinv(a)\n",
    "    W = np.dot(a, np.dot(Xm_train.T,Y_train))\n",
    "    return W"
   ]
  },
  {
   "cell_type": "code",
   "execution_count": 52,
   "metadata": {},
   "outputs": [],
   "source": [
    "def computeMSE (Hypothesis,Y):\n",
    "    MSE = np.mean((Hypothesis-Y)**2) \n",
    "    return MSE"
   ]
  },
  {
   "cell_type": "code",
   "execution_count": 53,
   "metadata": {},
   "outputs": [
    {
     "name": "stdout",
     "output_type": "stream",
     "text": [
      "0\n",
      "1\n",
      "2\n",
      "3\n",
      "4\n"
     ]
    }
   ],
   "source": [
    "trainMSE = []\n",
    "testMSE = []\n",
    "for fold in range (0,5):\n",
    "    trainData = getfile(\"F:/Winter 2018/Applied ML/winter 2018/Assignments/assignment 1/codes/CandC-train%s.csv\" %fold)\n",
    "    testData = getfile(\"F:/Winter 2018/Applied ML/winter 2018/Assignments/assignment 1/codes/CandC-test%s.csv\" %fold)\n",
    "\n",
    "\n",
    "    # separate the labels from features\n",
    "    trainFeatures = trainData[:,0:-1]\n",
    "    trainLabel = trainData[:,-1]\n",
    "    trainLabel = np.reshape(trainLabel,(-1,1))\n",
    "\n",
    "    testFeatures = testData[:,0:-1]\n",
    "    testLabel = testData[:,-1]\n",
    "    testLabel = np.reshape(testLabel,(-1,1))\n",
    "\n",
    "    # compute W\n",
    "    W = computeW (trainFeatures,trainLabel)\n",
    "\n",
    "    # find approxiamte value\n",
    "    trainHypothesis = np.dot(trainFeatures,W)\n",
    "    testHypothesis = np.dot(testFeatures,W)\n",
    "\n",
    "    # find MSE (mean square error)\n",
    "    trainMSE.append ( computeMSE (trainHypothesis,trainLabel) )\n",
    "    testMSE.append ( computeMSE (testHypothesis,testLabel) )\n",
    "    \n",
    "    print(fold)"
   ]
  },
  {
   "cell_type": "code",
   "execution_count": 54,
   "metadata": {},
   "outputs": [
    {
     "data": {
      "text/plain": [
       "[0.01569994063447588,\n",
       " 0.014794852348657591,\n",
       " 0.01659717705739191,\n",
       " 0.01673020389318852,\n",
       " 0.01615744737001229]"
      ]
     },
     "execution_count": 54,
     "metadata": {},
     "output_type": "execute_result"
    }
   ],
   "source": [
    "trainMSE"
   ]
  },
  {
   "cell_type": "code",
   "execution_count": 55,
   "metadata": {},
   "outputs": [
    {
     "data": {
      "text/plain": [
       "[0.020252594515740605,\n",
       " 0.02519236700980506,\n",
       " 0.016812226084418774,\n",
       " 0.016320964734337112,\n",
       " 0.867820306347294]"
      ]
     },
     "execution_count": 55,
     "metadata": {},
     "output_type": "execute_result"
    }
   ],
   "source": [
    "testMSE"
   ]
  },
  {
   "cell_type": "code",
   "execution_count": 57,
   "metadata": {},
   "outputs": [],
   "source": [
    "###############################################################################################################################\n",
    "\n",
    "\n",
    "###############################################################################################################################"
   ]
  },
  {
   "cell_type": "code",
   "execution_count": 66,
   "metadata": {},
   "outputs": [],
   "source": [
    "def computeW (Xm_train,Y_train,no_features,lmbda):\n",
    "    import numpy as np\n",
    "    a = np.dot(Xm_train.T,Xm_train) + lmbda*np.eye(no_features)\n",
    "    a = np.linalg.pinv(a)\n",
    "    W = np.dot(a, np.dot(Xm_train.T,Y_train))\n",
    "    return W"
   ]
  },
  {
   "cell_type": "code",
   "execution_count": 59,
   "metadata": {},
   "outputs": [],
   "source": [
    "def computeMSE (Hypothesis,Y,lmbda,W):\n",
    "    MSE = np.mean((Hypothesis-Y)**2) + ( lmbda * (np.dot(W.T,W)) )\n",
    "    return MSE"
   ]
  },
  {
   "cell_type": "code",
   "execution_count": null,
   "metadata": {},
   "outputs": [],
   "source": [
    "MSE_traindata = []\n",
    "MSE_validdata = []\n",
    "\n",
    "for i in range (0,11):\n",
    "    lmbda = i/10\n",
    "    \n",
    "    W = computeW (Xm_train,Y_train,feature_no,lmbda)\n",
    "    \n",
    "    Hypothesis_train = np.dot(Xm_train,W)\n",
    "    Hypothesis_valid = np.dot(Xm_valid,W)\n",
    "    \n",
    "    MSE_traindata = np.append ( computeMSE (Hypothesis_train,Y_train,lmbda,W), MSE_traindata )\n",
    "    MSE_validdata = np.append ( computeMSE (Hypothesis_valid,Y_valid,lmbda,W), MSE_validdata )"
   ]
  },
  {
   "cell_type": "code",
   "execution_count": 73,
   "metadata": {},
   "outputs": [
    {
     "name": "stdout",
     "output_type": "stream",
     "text": [
      "0\n",
      "1\n",
      "2\n",
      "3\n",
      "4\n"
     ]
    }
   ],
   "source": [
    "trainMSE = []\n",
    "testMSE = []\n",
    "lmbda = 0\n",
    "for fold in range (0,5):\n",
    "    trainData = getfile(\"F:/Winter 2018/Applied ML/winter 2018/Assignments/assignment 1/codes/CandC-train%s.csv\" %fold)\n",
    "    testData = getfile(\"F:/Winter 2018/Applied ML/winter 2018/Assignments/assignment 1/codes/CandC-test%s.csv\" %fold)\n",
    "\n",
    "\n",
    "    # separate the labels from features\n",
    "    trainFeatures = trainData[:,0:-1]\n",
    "    trainLabel = trainData[:,-1]\n",
    "    trainLabel = np.reshape(trainLabel,(-1,1))\n",
    "\n",
    "    testFeatures = testData[:,0:-1]\n",
    "    testLabel = testData[:,-1]\n",
    "    testLabel = np.reshape(testLabel,(-1,1))\n",
    "\n",
    "    # compute W\n",
    "    no_features = trainFeatures.shape[1]\n",
    "    W = computeW (trainFeatures,trainLabel,no_features,lmbda)\n",
    "\n",
    "    # find approxiamte value\n",
    "    trainHypothesis = np.dot(trainFeatures,W)\n",
    "    testHypothesis = np.dot(testFeatures,W)\n",
    "\n",
    "    # find MSE (mean square error)\n",
    "    trainMSE.append ( computeMSE (trainHypothesis,trainLabel,lmbda,W) )\n",
    "    testMSE.append ( computeMSE (testHypothesis,testLabel,lmbda,W) )\n",
    "    \n",
    "    print(fold)"
   ]
  },
  {
   "cell_type": "code",
   "execution_count": 74,
   "metadata": {},
   "outputs": [
    {
     "data": {
      "text/plain": [
       "[array([[0.01569994]]),\n",
       " array([[0.01479485]]),\n",
       " array([[0.01659718]]),\n",
       " array([[0.0167302]]),\n",
       " array([[0.01615745]])]"
      ]
     },
     "execution_count": 74,
     "metadata": {},
     "output_type": "execute_result"
    }
   ],
   "source": [
    " trainMSE"
   ]
  },
  {
   "cell_type": "code",
   "execution_count": 75,
   "metadata": {},
   "outputs": [
    {
     "data": {
      "text/plain": [
       "[array([[0.02025259]]),\n",
       " array([[0.02519237]]),\n",
       " array([[0.01681223]]),\n",
       " array([[0.01632096]]),\n",
       " array([[0.86782031]])]"
      ]
     },
     "execution_count": 75,
     "metadata": {},
     "output_type": "execute_result"
    }
   ],
   "source": [
    " testMSE"
   ]
  },
  {
   "cell_type": "code",
   "execution_count": 68,
   "metadata": {},
   "outputs": [
    {
     "data": {
      "text/plain": [
       "123"
      ]
     },
     "execution_count": 68,
     "metadata": {},
     "output_type": "execute_result"
    }
   ],
   "source": [
    "no_features"
   ]
  },
  {
   "cell_type": "code",
   "execution_count": null,
   "metadata": {},
   "outputs": [],
   "source": []
  }
 ],
 "metadata": {
  "kernelspec": {
   "display_name": "Python 3",
   "language": "python",
   "name": "python3"
  },
  "language_info": {
   "codemirror_mode": {
    "name": "ipython",
    "version": 3
   },
   "file_extension": ".py",
   "mimetype": "text/x-python",
   "name": "python",
   "nbconvert_exporter": "python",
   "pygments_lexer": "ipython3",
   "version": "3.6.5"
  }
 },
 "nbformat": 4,
 "nbformat_minor": 2
}
