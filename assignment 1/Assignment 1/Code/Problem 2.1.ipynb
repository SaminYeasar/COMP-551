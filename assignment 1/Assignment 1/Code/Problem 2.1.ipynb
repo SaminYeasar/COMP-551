{
 "cells": [
  {
   "cell_type": "markdown",
   "metadata": {},
   "source": [
    "# 2 Gradient Descent for Regression\n",
    "You have to use Dataset-2 for this experiment. Dataset-2 consists of train, validation, and\n",
    "test files. The input is a real valued scalar and the output is also a real valued scalar."
   ]
  },
  {
   "cell_type": "markdown",
   "metadata": {},
   "source": [
    "1. Fit a linear regression model to this dataset by using stochastic gradient descent. You will do online-SGD (with one example at a time). Use the step size of 1e-6. Compute the MSE on validation set for every epoch. Plot the learning curve i.e. training and validation MSE for every epoch."
   ]
  },
  {
   "cell_type": "code",
   "execution_count": 5,
   "metadata": {},
   "outputs": [],
   "source": [
    "import numpy as np\n",
    "import csv\n",
    "import matplotlib.pyplot as plt"
   ]
  },
  {
   "cell_type": "code",
   "execution_count": 6,
   "metadata": {},
   "outputs": [],
   "source": [
    "def getdata(filename):\n",
    "    import csv\n",
    "    import numpy as np\n",
    "    with open (filename,'r') as csvfile:\n",
    "        Dataset_1_test = csv.reader(csvfile)   \n",
    "        X = []\n",
    "        Y = []\n",
    "        for row in Dataset_1_test:\n",
    "            x = row[0]\n",
    "            y = row[1]\n",
    "            X.append(x)\n",
    "            Y.append(y)   \n",
    "        \n",
    "    X = np.array(X).astype(np.float32)\n",
    "    Y = np.array(Y).astype(np.float32)\n",
    "    # convert rank 1 array to rank 2 array\n",
    "    X = np.reshape(X, (-1, 1))\n",
    "    Y = np.reshape(Y, (-1, 1))\n",
    "    return X , Y"
   ]
  },
  {
   "cell_type": "code",
   "execution_count": 7,
   "metadata": {},
   "outputs": [
    {
     "name": "stdout",
     "output_type": "stream",
     "text": [
      "(300, 1)\n",
      "(300, 1)\n",
      "(100, 1)\n",
      "(100, 1)\n"
     ]
    }
   ],
   "source": [
    "X_train, Y_train = getdata(\"F:/Winter 2018/Applied ML/winter 2018/Assignments/assignment 1/hwk1_datasets/Datasets/Dataset_2_train.csv\")\n",
    "print(X_train.shape)\n",
    "print(Y_train.shape)\n",
    "\n",
    "X_valid, Y_valid = getdata(\"F:/Winter 2018/Applied ML/winter 2018/Assignments/assignment 1/hwk1_datasets/Datasets/Dataset_2_valid.csv\")\n",
    "print(X_valid.shape)\n",
    "print(Y_valid.shape)"
   ]
  },
  {
   "cell_type": "markdown",
   "metadata": {},
   "source": [
    "# computer Xm matrix that contains polynomial terms of X"
   ]
  },
  {
   "cell_type": "code",
   "execution_count": 8,
   "metadata": {},
   "outputs": [],
   "source": [
    "def getfeaturematrix (X,polynomial):\n",
    "    Xm = []\n",
    "    for i in range(0,polynomial+1):\n",
    "        a = np.power(X,i)\n",
    "        Xm.append(a)\n",
    "    Xm = np.array(Xm)\n",
    "    Xm = np.squeeze(Xm, axis=(2,)).T\n",
    "    return Xm"
   ]
  },
  {
   "cell_type": "code",
   "execution_count": 9,
   "metadata": {},
   "outputs": [
    {
     "name": "stdout",
     "output_type": "stream",
     "text": [
      "(300, 2)\n",
      "(100, 2)\n"
     ]
    }
   ],
   "source": [
    "Xm_train = getfeaturematrix (X_train,1)\n",
    "feature_no = Xm_train.shape[1]\n",
    "count_example = Xm_train.shape[0]\n",
    "print(Xm_train.shape)\n",
    "\n",
    "Xm_valid = getfeaturematrix (X_valid,1)\n",
    "print(Xm_valid.shape)"
   ]
  },
  {
   "cell_type": "markdown",
   "metadata": {},
   "source": [
    "# W Computation function"
   ]
  },
  {
   "cell_type": "code",
   "execution_count": 10,
   "metadata": {},
   "outputs": [],
   "source": [
    "def computeW (learning_rate,Xm,A,W):\n",
    "    # A = (Hypothesis-Y)\n",
    "    W = W - learning_rate*(       (A*np.reshape(Xm, (-1, 1)))        )\n",
    "    return W"
   ]
  },
  {
   "cell_type": "code",
   "execution_count": 11,
   "metadata": {},
   "outputs": [],
   "source": [
    "def computecost(Hypothesis,Y):\n",
    "    J = (1/2)*np.mean((Hypothesis-Y)**2) \n",
    "    return J"
   ]
  },
  {
   "cell_type": "code",
   "execution_count": 12,
   "metadata": {},
   "outputs": [],
   "source": [
    "def computeMSE (Hypothesis,Y):\n",
    "    MSE = np.mean((Hypothesis-Y)**2) \n",
    "    return MSE"
   ]
  },
  {
   "cell_type": "code",
   "execution_count": null,
   "metadata": {},
   "outputs": [],
   "source": [
    "#W = np.random.randn(feature_no,1)\n",
    "#W"
   ]
  },
  {
   "cell_type": "code",
   "execution_count": null,
   "metadata": {},
   "outputs": [],
   "source": [
    "#learning_rate = 1e-06"
   ]
  },
  {
   "cell_type": "code",
   "execution_count": null,
   "metadata": {},
   "outputs": [],
   "source": [
    "#hypothesis = np.dot(W.T,Xm_train[0])\n",
    "#A = (hypothesis - Y_train[0])\n",
    "#W = computeW (learning_rate,Xm_train[0],A,W)"
   ]
  },
  {
   "cell_type": "code",
   "execution_count": 13,
   "metadata": {},
   "outputs": [],
   "source": [
    "def computeEPOCH (count_example,Xm_train,learning_rate,W):\n",
    "    for i in range(0,count_example):\n",
    "        hypothesis = np.dot(W.T,Xm_train[i])\n",
    "        A = (hypothesis - Y_train[i])\n",
    "        W = computeW (learning_rate,Xm_train[i],A,W)\n",
    "    \n",
    "    Hypothesis = np.dot(Xm_train,W)\n",
    "    J = computecost(Hypothesis,Y_train)\n",
    "    return J, W\n",
    "    \n"
   ]
  },
  {
   "cell_type": "code",
   "execution_count": 14,
   "metadata": {},
   "outputs": [],
   "source": [
    "W = np.random.randn(feature_no,1)"
   ]
  },
  {
   "cell_type": "code",
   "execution_count": 15,
   "metadata": {},
   "outputs": [],
   "source": [
    "\n",
    "J_matrix = []\n",
    "W_matrix = []\n",
    "MSE_traindata = []\n",
    "MSE_validdata = []\n",
    "\n",
    "learning_rate = 1e-6\n",
    "\n",
    "for i in range (0,10000):\n",
    "\n",
    "    J , W = computeEPOCH (count_example,Xm_train,learning_rate,W)\n",
    "    J_matrix.append(J)\n",
    "    W_matrix.append(W)\n",
    "\n",
    "    \n",
    "    Hypothesis_train = np.dot(Xm_train,W)\n",
    "    Hypothesis_valid = np.dot(Xm_valid,W)\n",
    "    \n",
    "    #print( computeMSE (Hypothesis_train,Y_train) )\n",
    "    \n",
    "    MSE_traindata = np.append ( MSE_traindata, computeMSE (Hypothesis_train,Y_train) )\n",
    "    MSE_validdata = np.append ( MSE_validdata, computeMSE (Hypothesis_valid,Y_valid) )"
   ]
  },
  {
   "cell_type": "code",
   "execution_count": 16,
   "metadata": {},
   "outputs": [
    {
     "data": {
      "text/plain": [
       "array([47.73568856, 47.68844191, 47.64124216, ...,  0.1213293 ,\n",
       "        0.12132552,  0.12132173])"
      ]
     },
     "execution_count": 16,
     "metadata": {},
     "output_type": "execute_result"
    }
   ],
   "source": [
    "MSE_traindata"
   ]
  },
  {
   "cell_type": "code",
   "execution_count": 17,
   "metadata": {},
   "outputs": [
    {
     "data": {
      "image/png": "[encoded data removed]",
      "text/plain": [
       "<matplotlib.figure.Figure at 0x20fddb14b70>"
      ]
     },
     "metadata": {},
     "output_type": "display_data"
    }
   ],
   "source": [
    "plt.plot(MSE_traindata)\n",
    "plt.xlabel(\"no of iteration\")\n",
    "plt.ylabel(\"MSE for training data\")\n",
    "plt.savefig('F:/Winter 2018/Applied ML/winter 2018/Assignments/assignment 1/fig2#1#1.png')"
   ]
  },
  {
   "cell_type": "code",
   "execution_count": 18,
   "metadata": {},
   "outputs": [
    {
     "data": {
      "image/png": "[encoded data removed]",
      "text/plain": [
       "<matplotlib.figure.Figure at 0x20fdfc31dd8>"
      ]
     },
     "metadata": {},
     "output_type": "display_data"
    }
   ],
   "source": [
    "plt.plot(MSE_validdata)\n",
    "plt.xlabel(\"no of iteration\")\n",
    "plt.ylabel(\"MSE for valid data\")\n",
    "plt.savefig('F:/Winter 2018/Applied ML/winter 2018/Assignments/assignment 1/fig2#1#2.png')"
   ]
  },
  {
   "cell_type": "code",
   "execution_count": 28,
   "metadata": {},
   "outputs": [
    {
     "data": {
      "text/plain": [
       "array([26.51357892, 26.48782968, 26.46210593, ...,  0.32052356,\n",
       "        0.32050738,  0.3204912 ])"
      ]
     },
     "execution_count": 28,
     "metadata": {},
     "output_type": "execute_result"
    }
   ],
   "source": [
    "MSE_validdata"
   ]
  },
  {
   "cell_type": "code",
   "execution_count": null,
   "metadata": {},
   "outputs": [],
   "source": []
  }
 ],
 "metadata": {
  "kernelspec": {
   "display_name": "Python 3",
   "language": "python",
   "name": "python3"
  },
  "language_info": {
   "codemirror_mode": {
    "name": "ipython",
    "version": 3
   },
   "file_extension": ".py",
   "mimetype": "text/x-python",
   "name": "python",
   "nbconvert_exporter": "python",
   "pygments_lexer": "ipython3",
   "version": "3.5.2"
  }
 },
 "nbformat": 4,
 "nbformat_minor": 2
}
