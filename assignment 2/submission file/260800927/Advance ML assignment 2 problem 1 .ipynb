{
 "cells": [
  {
   "cell_type": "markdown",
   "metadata": {},
   "source": [
    "# Assignment 2 Problem 1\n",
    "\n",
    "You will use a synthetic data set for the classi\f",
    "cation task that you'll generate yourself.\n",
    "Generate two classes with 20 features each. Each class is given by a multivariate Gaussian\n",
    "distribution, with both classes sharing the same covariance matrix. You are provided\n",
    "with the mean vectors (DS1-m0 for mean vector of negative class and DS1-m1 for mean\n",
    "vector of positive class) and the covariance matrix (DS1-cov). Generate 2000 examples\n",
    "for each class, and label the data to be positive if they came from the Gaussian with\n",
    "mean m1 and negative if they came from the Gaussian with mean m0. Randomly pick\n",
    "30% of each class (i.e., 600 data points per class) as a test set, and train the classi\f",
    "ers\n",
    "on the remaining 70%. data When you report performance results, it should be on the\n",
    "left out 30%. Call this dataset at DS1, and submit it with your code."
   ]
  },
  {
   "cell_type": "code",
   "execution_count": 1,
   "metadata": {},
   "outputs": [],
   "source": [
    "import numpy as np"
   ]
  },
  {
   "cell_type": "code",
   "execution_count": 2,
   "metadata": {},
   "outputs": [
    {
     "data": {
      "text/plain": [
       "array([1.3, 1.3, 1.3, 1.3, 1.3, 1.3, 1.3, 1.3, 1.3, 1.3, 1.3, 1.3, 1.3,\n",
       "       1.3, 1.3, 1.3, 1.3, 1.3, 1.3, 1.3])"
      ]
     },
     "execution_count": 2,
     "metadata": {},
     "output_type": "execute_result"
    }
   ],
   "source": [
    "#DS1_m_0 = np.genfromtxt('F:\\\\Winter 2018\\\\Applied ML\\\\winter 2018\\\\Assignments\\\\assignment 2\\\\hwk2_datasets_corrected\\\\DS1_m_0.txt',delimiter=',')\n",
    "\n",
    "DS1_m_0 = np.genfromtxt('DS1_m_0.txt',delimiter=',')\n",
    "DS1_m_0 = DS1_m_0[~np.isnan(DS1_m_0)]\n",
    "DS1_m_0"
   ]
  },
  {
   "cell_type": "code",
   "execution_count": 3,
   "metadata": {},
   "outputs": [
    {
     "data": {
      "text/plain": [
       "array([2., 2., 2., 2., 2., 2., 2., 2., 2., 2., 2., 2., 2., 2., 2., 2., 2.,\n",
       "       2., 2., 2.])"
      ]
     },
     "execution_count": 3,
     "metadata": {},
     "output_type": "execute_result"
    }
   ],
   "source": [
    "DS1_m_1 = np.genfromtxt('DS1_m_1.txt',delimiter=',')\n",
    "#DS1_m_1 = np.genfromtxt('F:\\\\Winter 2018\\\\Applied ML\\\\winter 2018\\\\Assignments\\\\assignment 2\\\\hwk2_datasets_corrected\\\\DS1_m_1.txt',delimiter=',')\n",
    "\n",
    "DS1_m_1 = DS1_m_1[~np.isnan(DS1_m_1)]\n",
    "DS1_m_1"
   ]
  },
  {
   "cell_type": "code",
   "execution_count": 4,
   "metadata": {},
   "outputs": [
    {
     "data": {
      "text/plain": [
       "(20, 20)"
      ]
     },
     "execution_count": 4,
     "metadata": {},
     "output_type": "execute_result"
    }
   ],
   "source": [
    "DS1_Cov = np.genfromtxt('DS1_Cov.txt',delimiter=',')\n",
    "#DS1_Cov = np.genfromtxt('F:\\\\Winter 2018\\\\Applied ML\\\\winter 2018\\\\Assignments\\\\assignment 2\\\\hwk2_datasets_corrected\\\\DS1_Cov.txt',delimiter=',')\n",
    "\n",
    "DS1_Cov = DS1_Cov[~np.isnan(DS1_Cov)]\n",
    "DS1_Cov = np.reshape(DS1_Cov,(20,20))\n",
    "DS1_Cov.shape"
   ]
  },
  {
   "cell_type": "code",
   "execution_count": 5,
   "metadata": {},
   "outputs": [],
   "source": [
    "exampleNo = 2000 # given\n",
    "crtTrainData = 0.7 #create 70% as training data"
   ]
  },
  {
   "cell_type": "markdown",
   "metadata": {},
   "source": [
    "# Creating the features using mean and covariance matrix using multivariate gaussian distribution"
   ]
  },
  {
   "cell_type": "code",
   "execution_count": 6,
   "metadata": {},
   "outputs": [],
   "source": [
    "DS1_neg = np.random.multivariate_normal(DS1_m_0, DS1_Cov, exampleNo)"
   ]
  },
  {
   "cell_type": "code",
   "execution_count": 7,
   "metadata": {},
   "outputs": [
    {
     "data": {
      "text/plain": [
       "array([1.3640884 , 1.32204984, 1.30980195, 1.30714623, 1.34555654,\n",
       "       1.29026204, 1.32585617, 1.32267899, 1.3401498 , 1.29432672,\n",
       "       1.36597901, 1.33091216, 1.28429989, 1.37586098, 1.30521907,\n",
       "       1.32777821, 1.34907814, 1.34623388, 1.34494293, 1.24603353])"
      ]
     },
     "execution_count": 7,
     "metadata": {},
     "output_type": "execute_result"
    }
   ],
   "source": [
    "np.mean(DS1_neg,0)"
   ]
  },
  {
   "cell_type": "code",
   "execution_count": 8,
   "metadata": {},
   "outputs": [],
   "source": [
    "DS1_pos = np.random.multivariate_normal(DS1_m_1, DS1_Cov, exampleNo)"
   ]
  },
  {
   "cell_type": "code",
   "execution_count": 9,
   "metadata": {},
   "outputs": [
    {
     "data": {
      "text/plain": [
       "array([2.09643479, 2.03009881, 2.07555198, 2.04315464, 2.07055682,\n",
       "       2.07861879, 2.05315597, 2.05024457, 2.05678   , 2.02133978,\n",
       "       2.05236926, 2.04962678, 2.0380532 , 2.08643674, 2.06902112,\n",
       "       2.06790712, 2.07539876, 2.05156968, 2.08063117, 2.08338535])"
      ]
     },
     "execution_count": 9,
     "metadata": {},
     "output_type": "execute_result"
    }
   ],
   "source": [
    "np.mean(DS1_pos,0)"
   ]
  },
  {
   "cell_type": "code",
   "execution_count": 10,
   "metadata": {},
   "outputs": [
    {
     "data": {
      "text/plain": [
       "2000"
      ]
     },
     "execution_count": 10,
     "metadata": {},
     "output_type": "execute_result"
    }
   ],
   "source": [
    "DS1_pos.shape[0]"
   ]
  },
  {
   "cell_type": "code",
   "execution_count": null,
   "metadata": {},
   "outputs": [],
   "source": []
  },
  {
   "cell_type": "markdown",
   "metadata": {},
   "source": [
    "# Add labels to the data"
   ]
  },
  {
   "cell_type": "code",
   "execution_count": 11,
   "metadata": {},
   "outputs": [],
   "source": [
    "DS1_pos = np.append(DS1_pos,np.ones((exampleNo,1))*(1),1)"
   ]
  },
  {
   "cell_type": "code",
   "execution_count": 12,
   "metadata": {},
   "outputs": [],
   "source": [
    "DS1_neg = np.append(DS1_neg,np.zeros((exampleNo,1)),1)"
   ]
  },
  {
   "cell_type": "code",
   "execution_count": 13,
   "metadata": {},
   "outputs": [
    {
     "data": {
      "text/plain": [
       "(2000, 21)"
      ]
     },
     "execution_count": 13,
     "metadata": {},
     "output_type": "execute_result"
    }
   ],
   "source": [
    "DS1_neg.shape "
   ]
  },
  {
   "cell_type": "code",
   "execution_count": 16,
   "metadata": {},
   "outputs": [],
   "source": [
    "No_train_example =  np.int(exampleNo*crtTrainData)\n",
    "No_test_example =  np.int(exampleNo - No_train_example)"
   ]
  },
  {
   "cell_type": "code",
   "execution_count": null,
   "metadata": {},
   "outputs": [],
   "source": []
  },
  {
   "cell_type": "code",
   "execution_count": 17,
   "metadata": {},
   "outputs": [],
   "source": [
    "DS1_pos_train = DS1_pos[0:No_train_example]\n",
    "DS1_pos_test = DS1_pos[No_train_example:]\n",
    "\n",
    "DS1_neg_train = DS1_neg[0:No_train_example]\n",
    "DS1_neg_test = DS1_neg[No_train_example:]"
   ]
  },
  {
   "cell_type": "markdown",
   "metadata": {},
   "source": [
    "# Create \"DS1\" dataset"
   ]
  },
  {
   "cell_type": "code",
   "execution_count": 18,
   "metadata": {},
   "outputs": [
    {
     "name": "stdout",
     "output_type": "stream",
     "text": [
      "(2800, 21)\n",
      "(1200, 21)\n"
     ]
    }
   ],
   "source": [
    "DS1_train = np.append(DS1_neg_train,DS1_pos_train,0)\n",
    "print(DS1_train.shape)\n",
    "DS1_test = np.append(DS1_neg_test,DS1_pos_test,0)\n",
    "print(DS1_test.shape)"
   ]
  },
  {
   "cell_type": "code",
   "execution_count": 19,
   "metadata": {},
   "outputs": [],
   "source": [
    "#DS1 = np.append(DS1_neg,DS1_pos,0)\n",
    "#DS1.shape"
   ]
  },
  {
   "cell_type": "markdown",
   "metadata": {},
   "source": [
    "# shuffling the positive and negative labeled data"
   ]
  },
  {
   "cell_type": "code",
   "execution_count": 20,
   "metadata": {},
   "outputs": [],
   "source": [
    "np.random.shuffle(DS1_train)\n",
    "np.random.shuffle(DS1_test)"
   ]
  },
  {
   "cell_type": "markdown",
   "metadata": {},
   "source": [
    "# Saving the data at \"DS1\""
   ]
  },
  {
   "cell_type": "code",
   "execution_count": 23,
   "metadata": {},
   "outputs": [],
   "source": [
    "\n",
    "\n",
    "#np.savetxt('F:\\\\Winter 2018\\\\Applied ML\\\\winter 2018\\\\Assignments\\\\assignment 2\\\\hwk2_datasets_corrected\\\\DS1_train.txt', DS1_train)\n",
    "np.savetxt('DS1_train.txt', DS1_train)\n",
    "\n",
    "#np.savetxt('F:\\\\Winter 2018\\\\Applied ML\\\\winter 2018\\\\Assignments\\\\assignment 2\\\\hwk2_datasets_corrected\\\\DS1_test.txt', DS1_test)\n",
    "np.savetxt('DS1_test.txt', DS1_test)"
   ]
  },
  {
   "cell_type": "code",
   "execution_count": 22,
   "metadata": {},
   "outputs": [
    {
     "data": {
      "text/plain": [
       "array([[-1.17339485, -1.48479064, -2.56037157, ..., -3.90534307,\n",
       "        -0.57784179,  0.        ],\n",
       "       [ 1.28797053,  2.77250485,  3.5722785 , ...,  3.19538546,\n",
       "         4.02961224,  1.        ],\n",
       "       [-0.40981745,  2.07415376, -0.15652654, ..., -1.01596934,\n",
       "         0.28141885,  0.        ],\n",
       "       ...,\n",
       "       [ 4.17136713,  1.30002233,  1.13082867, ...,  1.91219036,\n",
       "         2.24306348,  0.        ],\n",
       "       [ 1.17017613,  1.70969264, -0.57592499, ...,  0.73173263,\n",
       "         2.9264506 ,  1.        ],\n",
       "       [ 4.58502894,  5.62195549,  5.00773778, ...,  4.64661687,\n",
       "         5.18822418,  1.        ]])"
      ]
     },
     "execution_count": 22,
     "metadata": {},
     "output_type": "execute_result"
    }
   ],
   "source": [
    "import numpy as np\n",
    "np.genfromtxt('DS1_train.txt')"
   ]
  },
  {
   "cell_type": "code",
   "execution_count": null,
   "metadata": {},
   "outputs": [],
   "source": [
    "np.genfromtxt('DS1_test.txt')"
   ]
  },
  {
   "cell_type": "code",
   "execution_count": null,
   "metadata": {},
   "outputs": [],
   "source": []
  },
  {
   "cell_type": "code",
   "execution_count": null,
   "metadata": {},
   "outputs": [],
   "source": [
    "##############################################################################################################################"
   ]
  }
 ],
 "metadata": {
  "kernelspec": {
   "display_name": "Python 3",
   "language": "python",
   "name": "python3"
  },
  "language_info": {
   "codemirror_mode": {
    "name": "ipython",
    "version": 3
   },
   "file_extension": ".py",
   "mimetype": "text/x-python",
   "name": "python",
   "nbconvert_exporter": "python",
   "pygments_lexer": "ipython3",
   "version": "3.5.2"
  }
 },
 "nbformat": 4,
 "nbformat_minor": 2
}
