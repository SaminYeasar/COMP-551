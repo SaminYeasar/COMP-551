{
 "cells": [
  {
   "cell_type": "markdown",
   "metadata": {},
   "source": [
    "# Assignment 2 Problem 2"
   ]
  },
  {
   "cell_type": "code",
   "execution_count": null,
   "metadata": {},
   "outputs": [],
   "source": [
    "#############################################################################################################################\n",
    "\n",
    "\n",
    "\n",
    "###############################################################################################################################"
   ]
  },
  {
   "cell_type": "code",
   "execution_count": 4,
   "metadata": {},
   "outputs": [],
   "source": [
    "import numpy as np"
   ]
  },
  {
   "cell_type": "code",
   "execution_count": 14,
   "metadata": {},
   "outputs": [],
   "source": [
    "DS1_train = np.genfromtxt('DS1_train.txt')\n",
    "DS1_test = np.genfromtxt('DS1_test.txt')"
   ]
  },
  {
   "cell_type": "code",
   "execution_count": 15,
   "metadata": {},
   "outputs": [],
   "source": [
    "#DS1_train = np.genfromtxt('F:\\\\Winter 2018\\\\Applied ML\\\\winter 2018\\\\Assignments\\\\assignment 2\\\\hwk2_datasets_corrected\\\\DS1_train.txt')\n",
    "#DS1_test = np.genfromtxt('F:\\\\Winter 2018\\\\Applied ML\\\\winter 2018\\\\Assignments\\\\assignment 2\\\\hwk2_datasets_corrected\\\\DS1_test.txt')"
   ]
  },
  {
   "cell_type": "code",
   "execution_count": 16,
   "metadata": {},
   "outputs": [
    {
     "name": "stdout",
     "output_type": "stream",
     "text": [
      "(2800, 21)\n",
      "(1200, 21)\n"
     ]
    }
   ],
   "source": [
    "print(DS1_train.shape)\n",
    "print(DS1_test.shape)"
   ]
  },
  {
   "cell_type": "code",
   "execution_count": 17,
   "metadata": {},
   "outputs": [],
   "source": [
    "t_train = DS1_train[:,-1]\n",
    "t_train = np.reshape(t_train,(-1,1))\n",
    "\n",
    "t_test = DS1_test[:,-1]\n",
    "t_test = np.reshape(t_test,(-1,1))"
   ]
  },
  {
   "cell_type": "code",
   "execution_count": 18,
   "metadata": {},
   "outputs": [],
   "source": [
    "#t.shape"
   ]
  },
  {
   "cell_type": "code",
   "execution_count": 19,
   "metadata": {},
   "outputs": [],
   "source": [
    "X_train = DS1_train[:,0:-1]\n",
    "#print(X_train.shape)\n",
    "\n",
    "X_test = DS1_test[:,0:-1]\n",
    "#print(X_train.shape)"
   ]
  },
  {
   "cell_type": "markdown",
   "metadata": {},
   "source": [
    "###  This mu calculation works as N1 and N2 are same (both class has same number of examples)"
   ]
  },
  {
   "cell_type": "code",
   "execution_count": 20,
   "metadata": {},
   "outputs": [
    {
     "data": {
      "text/plain": [
       "1400.0"
      ]
     },
     "execution_count": 20,
     "metadata": {},
     "output_type": "execute_result"
    }
   ],
   "source": [
    "t_train.sum()"
   ]
  },
  {
   "cell_type": "code",
   "execution_count": 21,
   "metadata": {},
   "outputs": [],
   "source": [
    "N1 = t_train.sum()\n",
    "N2 = DS1_train.shape[0] - N1"
   ]
  },
  {
   "cell_type": "code",
   "execution_count": 22,
   "metadata": {},
   "outputs": [
    {
     "data": {
      "text/plain": [
       "array([[2.11729676],\n",
       "       [2.00178424],\n",
       "       [2.09192348],\n",
       "       [2.0401792 ],\n",
       "       [2.01858462],\n",
       "       [2.07848594],\n",
       "       [2.00259273],\n",
       "       [2.052124  ],\n",
       "       [2.07384159],\n",
       "       [1.97268597],\n",
       "       [2.02769579],\n",
       "       [2.02677404],\n",
       "       [2.01220721],\n",
       "       [2.09373266],\n",
       "       [2.07537323],\n",
       "       [2.04733347],\n",
       "       [2.09773404],\n",
       "       [2.05521578],\n",
       "       [2.05555106],\n",
       "       [2.04908871]])"
      ]
     },
     "execution_count": 22,
     "metadata": {},
     "output_type": "execute_result"
    }
   ],
   "source": [
    "mu1=np.dot(X_train.T,t_train)/N1\n",
    "mu1"
   ]
  },
  {
   "cell_type": "code",
   "execution_count": 23,
   "metadata": {},
   "outputs": [
    {
     "data": {
      "text/plain": [
       "array([[1.35706765],\n",
       "       [1.31237939],\n",
       "       [1.31775342],\n",
       "       [1.3108699 ],\n",
       "       [1.34970912],\n",
       "       [1.26975399],\n",
       "       [1.30127652],\n",
       "       [1.30632173],\n",
       "       [1.31702198],\n",
       "       [1.27345847],\n",
       "       [1.37233019],\n",
       "       [1.2814685 ],\n",
       "       [1.26069126],\n",
       "       [1.38204133],\n",
       "       [1.32485818],\n",
       "       [1.31165057],\n",
       "       [1.32814545],\n",
       "       [1.32186326],\n",
       "       [1.32409548],\n",
       "       [1.24102691]])"
      ]
     },
     "execution_count": 23,
     "metadata": {},
     "output_type": "execute_result"
    }
   ],
   "source": [
    "mu2 = np.dot(X_train.T,(1-t_train))/N2\n",
    "mu2"
   ]
  },
  {
   "cell_type": "code",
   "execution_count": null,
   "metadata": {},
   "outputs": [],
   "source": []
  },
  {
   "cell_type": "code",
   "execution_count": null,
   "metadata": {},
   "outputs": [],
   "source": [
    "# Pc1 = N1 / (N1+N2)\n",
    "\n",
    "# N1 = no of positive targets\n",
    "# N2 = no of negative targets"
   ]
  },
  {
   "cell_type": "code",
   "execution_count": 24,
   "metadata": {},
   "outputs": [],
   "source": [
    "Pc1 = N1 / ( N1+N2 )\n",
    "Pc2 = 1 - Pc1\n"
   ]
  },
  {
   "cell_type": "code",
   "execution_count": 25,
   "metadata": {},
   "outputs": [],
   "source": [
    "# compute sigma"
   ]
  },
  {
   "cell_type": "code",
   "execution_count": 26,
   "metadata": {},
   "outputs": [
    {
     "name": "stdout",
     "output_type": "stream",
     "text": [
      "20\n"
     ]
    }
   ],
   "source": [
    "featureNo = X_train.shape[1]\n",
    "print(featureNo)"
   ]
  },
  {
   "cell_type": "code",
   "execution_count": 27,
   "metadata": {},
   "outputs": [],
   "source": [
    "#Xc1 = X data belong to class 1"
   ]
  },
  {
   "cell_type": "code",
   "execution_count": 28,
   "metadata": {},
   "outputs": [
    {
     "name": "stdout",
     "output_type": "stream",
     "text": [
      "(2800, 20)\n",
      "(1400, 20)\n"
     ]
    }
   ],
   "source": [
    "Xc1 = X_train*np.repeat(t_train,featureNo,axis=1)\n",
    "print(Xc1.shape)\n",
    "Xc1 = Xc1[~(Xc1==0).all(1)]\n",
    "print(Xc1.shape)"
   ]
  },
  {
   "cell_type": "code",
   "execution_count": 29,
   "metadata": {},
   "outputs": [],
   "source": [
    "# similarly compute Xc2 = data"
   ]
  },
  {
   "cell_type": "code",
   "execution_count": 30,
   "metadata": {},
   "outputs": [
    {
     "name": "stdout",
     "output_type": "stream",
     "text": [
      "(2800, 20)\n",
      "(1400, 20)\n"
     ]
    }
   ],
   "source": [
    "Xc2 = X_train*np.repeat((1-t_train),featureNo,axis=1)\n",
    "print(Xc2.shape)\n",
    "Xc2 = Xc2[~(Xc2==0).all(1)]\n",
    "print(Xc2.shape)"
   ]
  },
  {
   "cell_type": "code",
   "execution_count": 31,
   "metadata": {},
   "outputs": [],
   "source": [
    "# compute S"
   ]
  },
  {
   "cell_type": "code",
   "execution_count": 32,
   "metadata": {},
   "outputs": [
    {
     "name": "stdout",
     "output_type": "stream",
     "text": [
      "(20, 20)\n"
     ]
    }
   ],
   "source": [
    "#A = ( Xc1 - np.repeat(mu1.T,N1,axis = 0) )\n",
    "A = Xc1 - mu1.T\n",
    "S1 = np.dot(A.T,A)\n",
    "print(S1.shape)"
   ]
  },
  {
   "cell_type": "code",
   "execution_count": 33,
   "metadata": {},
   "outputs": [
    {
     "name": "stdout",
     "output_type": "stream",
     "text": [
      "(20, 20)\n"
     ]
    }
   ],
   "source": [
    "B = Xc2 - mu2.T\n",
    "S2 = np.dot(B.T,B)\n",
    "print(S2.shape)"
   ]
  },
  {
   "cell_type": "code",
   "execution_count": 34,
   "metadata": {},
   "outputs": [],
   "source": [
    "N = N1+N2\n",
    "sigma = (N1/N)*S1 + (N2/N)*S2"
   ]
  },
  {
   "cell_type": "markdown",
   "metadata": {},
   "source": [
    "m1 >> mu1 >> positive >> target 1 >> class 1  | |\n",
    "m0 >> mu0 >> negative >> target 0 >> class 2"
   ]
  },
  {
   "cell_type": "code",
   "execution_count": 35,
   "metadata": {},
   "outputs": [],
   "source": [
    "W1 = np.dot(np.linalg.inv(sigma),(mu1 - mu2))"
   ]
  },
  {
   "cell_type": "code",
   "execution_count": 36,
   "metadata": {},
   "outputs": [
    {
     "data": {
      "text/plain": [
       "(20, 1)"
      ]
     },
     "execution_count": 36,
     "metadata": {},
     "output_type": "execute_result"
    }
   ],
   "source": [
    "W1.shape"
   ]
  },
  {
   "cell_type": "code",
   "execution_count": 37,
   "metadata": {},
   "outputs": [],
   "source": [
    "c = np.linalg.inv(sigma)"
   ]
  },
  {
   "cell_type": "code",
   "execution_count": 38,
   "metadata": {},
   "outputs": [
    {
     "name": "stdout",
     "output_type": "stream",
     "text": [
      "[[-0.01970927]]\n",
      "(1, 1)\n"
     ]
    }
   ],
   "source": [
    "W0 = (-1/2)*np.dot (np.dot(mu1.T,c) , mu1) + (1/2)*np.dot (np.dot(mu2.T,c) , mu2) + np.log(Pc1/Pc2)\n",
    "print(W0)\n",
    "print(W0.shape)"
   ]
  },
  {
   "cell_type": "code",
   "execution_count": 39,
   "metadata": {},
   "outputs": [],
   "source": [
    "def sigm(x):\n",
    "    import numpy as np\n",
    "    y = 1/(1+np.exp(-x))\n",
    "    return y"
   ]
  },
  {
   "cell_type": "code",
   "execution_count": 40,
   "metadata": {},
   "outputs": [
    {
     "data": {
      "text/plain": [
       "(20, 1)"
      ]
     },
     "execution_count": 40,
     "metadata": {},
     "output_type": "execute_result"
    }
   ],
   "source": [
    "W1.shape"
   ]
  },
  {
   "cell_type": "code",
   "execution_count": 41,
   "metadata": {},
   "outputs": [
    {
     "data": {
      "text/plain": [
       "(20, 20)"
      ]
     },
     "execution_count": 41,
     "metadata": {},
     "output_type": "execute_result"
    }
   ],
   "source": [
    "np.linalg.inv(sigma).shape"
   ]
  },
  {
   "cell_type": "code",
   "execution_count": 42,
   "metadata": {},
   "outputs": [
    {
     "name": "stdout",
     "output_type": "stream",
     "text": [
      "[[-0.00844383]\n",
      " [ 0.00491548]\n",
      " [-0.0029593 ]\n",
      " ...\n",
      " [-0.0003185 ]\n",
      " [-0.00393463]\n",
      " [ 0.00168675]]\n"
     ]
    }
   ],
   "source": [
    "Pcx = np.dot(X_test,W1) + W0 \n",
    "print(Pcx)"
   ]
  },
  {
   "cell_type": "code",
   "execution_count": 43,
   "metadata": {},
   "outputs": [
    {
     "data": {
      "text/plain": [
       "array([[0.49788905],\n",
       "       [0.50122887],\n",
       "       [0.49926018],\n",
       "       ...,\n",
       "       [0.49992038],\n",
       "       [0.49901634],\n",
       "       [0.50042169]])"
      ]
     },
     "execution_count": 43,
     "metadata": {},
     "output_type": "execute_result"
    }
   ],
   "source": [
    "Pcx = sigm(Pcx)\n",
    "Pcx"
   ]
  },
  {
   "cell_type": "code",
   "execution_count": 44,
   "metadata": {},
   "outputs": [],
   "source": [
    "Pcx[Pcx <= 0.5] = 0\n",
    "Pcx[Pcx > 0.5] = 1"
   ]
  },
  {
   "cell_type": "code",
   "execution_count": 45,
   "metadata": {},
   "outputs": [
    {
     "data": {
      "text/plain": [
       "573.0"
      ]
     },
     "execution_count": 45,
     "metadata": {},
     "output_type": "execute_result"
    }
   ],
   "source": [
    "True_Positive = np.sum(t_test*Pcx)\n",
    "True_Positive"
   ]
  },
  {
   "cell_type": "code",
   "execution_count": 46,
   "metadata": {},
   "outputs": [
    {
     "data": {
      "text/plain": [
       "18"
      ]
     },
     "execution_count": 46,
     "metadata": {},
     "output_type": "execute_result"
    }
   ],
   "source": [
    "False_Positive = (Pcx>t_test).sum()\n",
    "False_Positive"
   ]
  },
  {
   "cell_type": "code",
   "execution_count": 47,
   "metadata": {},
   "outputs": [
    {
     "data": {
      "text/plain": [
       "27"
      ]
     },
     "execution_count": 47,
     "metadata": {},
     "output_type": "execute_result"
    }
   ],
   "source": [
    "False_Negative = (Pcx<t_test).sum()\n",
    "False_Negative"
   ]
  },
  {
   "cell_type": "code",
   "execution_count": 48,
   "metadata": {},
   "outputs": [
    {
     "data": {
      "text/plain": [
       "582.0"
      ]
     },
     "execution_count": 48,
     "metadata": {},
     "output_type": "execute_result"
    }
   ],
   "source": [
    "# no of prediction negative = no of prediciton - no of positive prediction\n",
    "                            # no of prediciton = Pcx.shape[0] \n",
    "                            # no of positive prediction = Pcx.sum()\n",
    "\n",
    "# True Negative = no of prediction negative - False_Negative\n",
    "True_Negative = (Pcx.shape[0] - Pcx.sum()) - False_Negative\n",
    "True_Negative"
   ]
  },
  {
   "cell_type": "markdown",
   "metadata": {},
   "source": [
    "# Results"
   ]
  },
  {
   "cell_type": "code",
   "execution_count": 49,
   "metadata": {},
   "outputs": [
    {
     "data": {
      "text/plain": [
       "0.9625"
      ]
     },
     "execution_count": 49,
     "metadata": {},
     "output_type": "execute_result"
    }
   ],
   "source": [
    "accuracy = (True_Positive + True_Negative)/ t_test.shape[0]\n",
    "accuracy "
   ]
  },
  {
   "cell_type": "code",
   "execution_count": 50,
   "metadata": {},
   "outputs": [
    {
     "data": {
      "text/plain": [
       "0.9695431472081218"
      ]
     },
     "execution_count": 50,
     "metadata": {},
     "output_type": "execute_result"
    }
   ],
   "source": [
    "precision = True_Positive/(True_Positive+False_Positive)\n",
    "precision"
   ]
  },
  {
   "cell_type": "code",
   "execution_count": 51,
   "metadata": {},
   "outputs": [
    {
     "data": {
      "text/plain": [
       "0.4961038961038961"
      ]
     },
     "execution_count": 51,
     "metadata": {},
     "output_type": "execute_result"
    }
   ],
   "source": [
    "recall = True_Positive/(True_Positive+True_Negative)\n",
    "recall"
   ]
  },
  {
   "cell_type": "code",
   "execution_count": 52,
   "metadata": {},
   "outputs": [
    {
     "data": {
      "text/plain": [
       "0.6563573883161512"
      ]
     },
     "execution_count": 52,
     "metadata": {},
     "output_type": "execute_result"
    }
   ],
   "source": [
    "F_measure = 2*(precision*recall)/(precision+recall)\n",
    "F_measure"
   ]
  },
  {
   "cell_type": "code",
   "execution_count": 58,
   "metadata": {},
   "outputs": [
    {
     "data": {
      "text/plain": [
       "array([[2.11729676],\n",
       "       [2.00178424],\n",
       "       [2.09192348],\n",
       "       [2.0401792 ],\n",
       "       [2.01858462],\n",
       "       [2.07848594],\n",
       "       [2.00259273],\n",
       "       [2.052124  ],\n",
       "       [2.07384159],\n",
       "       [1.97268597],\n",
       "       [2.02769579],\n",
       "       [2.02677404],\n",
       "       [2.01220721],\n",
       "       [2.09373266],\n",
       "       [2.07537323],\n",
       "       [2.04733347],\n",
       "       [2.09773404],\n",
       "       [2.05521578],\n",
       "       [2.05555106],\n",
       "       [2.04908871]])"
      ]
     },
     "execution_count": 58,
     "metadata": {},
     "output_type": "execute_result"
    }
   ],
   "source": [
    "mu1"
   ]
  },
  {
   "cell_type": "code",
   "execution_count": 59,
   "metadata": {},
   "outputs": [
    {
     "data": {
      "text/plain": [
       "array([[1.35706765],\n",
       "       [1.31237939],\n",
       "       [1.31775342],\n",
       "       [1.3108699 ],\n",
       "       [1.34970912],\n",
       "       [1.26975399],\n",
       "       [1.30127652],\n",
       "       [1.30632173],\n",
       "       [1.31702198],\n",
       "       [1.27345847],\n",
       "       [1.37233019],\n",
       "       [1.2814685 ],\n",
       "       [1.26069126],\n",
       "       [1.38204133],\n",
       "       [1.32485818],\n",
       "       [1.31165057],\n",
       "       [1.32814545],\n",
       "       [1.32186326],\n",
       "       [1.32409548],\n",
       "       [1.24102691]])"
      ]
     },
     "execution_count": 59,
     "metadata": {},
     "output_type": "execute_result"
    }
   ],
   "source": [
    "mu2"
   ]
  },
  {
   "cell_type": "code",
   "execution_count": 54,
   "metadata": {},
   "outputs": [
    {
     "data": {
      "text/plain": [
       "array([[-0.01970927]])"
      ]
     },
     "execution_count": 54,
     "metadata": {},
     "output_type": "execute_result"
    }
   ],
   "source": [
    "W0"
   ]
  },
  {
   "cell_type": "code",
   "execution_count": 55,
   "metadata": {},
   "outputs": [
    {
     "data": {
      "text/plain": [
       "array([[-0.01045202],\n",
       "       [ 0.00610652],\n",
       "       [ 0.00383399],\n",
       "       [ 0.00231079],\n",
       "       [ 0.00702171],\n",
       "       [ 0.00328694],\n",
       "       [-0.01215903],\n",
       "       [ 0.01746164],\n",
       "       [ 0.02107953],\n",
       "       [-0.00661686],\n",
       "       [ 0.00947292],\n",
       "       [ 0.00874185],\n",
       "       [-0.0112186 ],\n",
       "       [-0.00944737],\n",
       "       [ 0.00420932],\n",
       "       [-0.00947503],\n",
       "       [-0.0211413 ],\n",
       "       [ 0.00490763],\n",
       "       [ 0.00042474],\n",
       "       [ 0.00361979]])"
      ]
     },
     "execution_count": 55,
     "metadata": {},
     "output_type": "execute_result"
    }
   ],
   "source": [
    "W1"
   ]
  },
  {
   "cell_type": "code",
   "execution_count": 56,
   "metadata": {},
   "outputs": [
    {
     "data": {
      "text/plain": [
       "array([[11260.45401634,  7726.06001277,  8722.95337339,  7121.05019957,\n",
       "         8133.11073052,  8707.60215888,  6548.0466061 ,  7605.27255659,\n",
       "         6948.60031562,  7153.1474866 ,  5543.99166954,  7335.32991508,\n",
       "         9778.45721839,  8353.50187009,  8515.65583757,  8339.35271053,\n",
       "         8206.65340617,  8000.32960549,  7811.73552453,  8118.87129475],\n",
       "       [ 7726.06001277,  9697.6968995 ,  7596.25406397,  6006.09661775,\n",
       "         7633.51627203,  7862.89853143,  6035.41799236,  5469.09059351,\n",
       "         5711.25393111,  6822.89544647,  4739.86408114,  6385.93222   ,\n",
       "         7987.53364687,  7160.14520971,  7725.25446245,  7338.50763244,\n",
       "         7980.5917322 ,  7132.82178138,  7504.63700912,  7317.13462973],\n",
       "       [ 8722.95337339,  7596.25406397, 10462.72618478,  6751.49202273,\n",
       "         8200.41653488,  9401.86887791,  6591.35041386,  6725.27703118,\n",
       "         6927.12399285,  7018.76426881,  4654.02930814,  6546.48024454,\n",
       "         8770.53078685,  7298.98131536,  8717.39610448,  8455.01210944,\n",
       "         8916.44387052,  6973.69023323,  6706.77611144,  7010.17472208],\n",
       "       [ 7121.05019957,  6006.09661775,  6751.49202273,  7927.74956152,\n",
       "         7316.18285915,  6262.54184336,  5068.90448818,  6026.57486126,\n",
       "         4605.211338  ,  5660.48140707,  3779.34018329,  5721.67916401,\n",
       "         7937.19226009,  6697.00244422,  6695.51964808,  7059.66178584,\n",
       "         6507.06649468,  6312.92638295,  5433.61809667,  7895.03447155],\n",
       "       [ 8133.11073052,  7633.51627203,  8200.41653488,  7316.18285915,\n",
       "         9929.79495808,  7554.82118659,  6917.89711372,  5954.2869827 ,\n",
       "         6507.26043146,  6966.35962566,  5764.22782652,  6883.27522278,\n",
       "         8508.13993846,  8239.51503177,  8498.12676247,  8663.77260658,\n",
       "         8386.15249712,  7191.08756927,  7494.28178277,  7978.53904674],\n",
       "       [ 8707.60215888,  7862.89853143,  9401.86887791,  6262.54184336,\n",
       "         7554.82118659,  9547.00110363,  6312.13188531,  6868.7010541 ,\n",
       "         6619.97819238,  7323.6595953 ,  4215.59901971,  6733.93769838,\n",
       "         8776.69883561,  6990.63161003,  8250.34554446,  8459.59838892,\n",
       "         8392.27437286,  6990.3505631 ,  6752.11535068,  7172.89609267],\n",
       "       [ 6548.0466061 ,  6035.41799236,  6591.35041386,  5068.90448818,\n",
       "         6917.89711372,  6312.13188531,  7128.45198667,  5327.01598287,\n",
       "         5492.45481695,  5865.71286234,  4118.63981738,  5932.79111762,\n",
       "         6377.97328785,  5684.45310175,  6607.34732641,  7317.35434056,\n",
       "         6062.86649202,  5059.21845025,  6317.34942905,  5312.5468867 ],\n",
       "       [ 7605.27255659,  5469.09059351,  6725.27703118,  6026.57486126,\n",
       "         5954.2869827 ,  6868.7010541 ,  5327.01598287,  8458.54372579,\n",
       "         4838.4131519 ,  6755.16758004,  3438.84800249,  6735.90373772,\n",
       "         8498.79010512,  7221.57087593,  6796.34678388,  8610.58199343,\n",
       "         6205.68399152,  6871.30774424,  6669.87681032,  6146.24973389],\n",
       "       [ 6948.60031562,  5711.25393111,  6927.12399285,  4605.211338  ,\n",
       "         6507.26043146,  6619.97819238,  5492.45481695,  4838.4131519 ,\n",
       "         6923.36763978,  6322.42583024,  4405.29198683,  5552.31143106,\n",
       "         6891.82728444,  6429.67436777,  6874.10673269,  7078.68201993,\n",
       "         7175.93769291,  5564.06366945,  5826.18900916,  5497.70409906],\n",
       "       [ 7153.1474866 ,  6822.89544647,  7018.76426881,  5660.48140707,\n",
       "         6966.35962566,  7323.6595953 ,  5865.71286234,  6755.16758004,\n",
       "         6322.42583024,  9652.66506722,  4513.26615083,  6377.12234799,\n",
       "         9255.42015803,  7124.64978218,  6950.078319  ,  8293.57430255,\n",
       "         6504.64664614,  7252.97063716,  6178.05955491,  7196.08447852],\n",
       "       [ 5543.99166954,  4739.86408114,  4654.02930814,  3779.34018329,\n",
       "         5764.22782652,  4215.59901971,  4118.63981738,  3438.84800249,\n",
       "         4405.29198683,  4513.26615083,  4714.13005407,  3984.24821128,\n",
       "         5108.04934185,  5516.38561907,  5108.55098694,  5111.73666652,\n",
       "         5162.60261662,  4507.36140947,  5204.99557097,  4823.40453707],\n",
       "       [ 7335.32991508,  6385.93222   ,  6546.48024454,  5721.67916401,\n",
       "         6883.27522278,  6733.93769838,  5932.79111762,  6735.90373772,\n",
       "         5552.31143106,  6377.12234799,  3984.24821128,  7186.85288035,\n",
       "         8138.62967331,  6969.04648617,  6740.97777051,  7742.27136894,\n",
       "         6971.44667582,  6740.73521502,  6919.78410337,  6140.65242483],\n",
       "       [ 9778.45721839,  7987.53364687,  8770.53078685,  7937.19226009,\n",
       "         8508.13993846,  8776.69883561,  6377.97328785,  8498.79010512,\n",
       "         6891.82728444,  9255.42015803,  5108.04934185,  8138.62967331,\n",
       "        12279.8711062 ,  8659.61536705,  8647.81729007,  9115.11595843,\n",
       "         8191.86871989,  8729.3277156 ,  8046.2239106 ,  9853.45416701],\n",
       "       [ 8353.50187009,  7160.14520971,  7298.98131536,  6697.00244422,\n",
       "         8239.51503177,  6990.63161003,  5684.45310175,  7221.57087593,\n",
       "         6429.67436777,  7124.64978218,  5516.38561907,  6969.04648617,\n",
       "         8659.61536705,  9827.36516687,  8277.94909196,  8722.15507891,\n",
       "         8064.63047061,  7890.15117127,  8286.52882914,  7596.52812637],\n",
       "       [ 8515.65583757,  7725.25446245,  8717.39610448,  6695.51964808,\n",
       "         8498.12676247,  8250.34554446,  6607.34732641,  6796.34678388,\n",
       "         6874.10673269,  6950.078319  ,  5108.55098694,  6740.97777051,\n",
       "         8647.81729007,  8277.94909196,  9841.98510166, 10036.00003084,\n",
       "         8332.79622886,  7201.08907942,  7712.91553298,  7944.98692687],\n",
       "       [ 8339.35271053,  7338.50763244,  8455.01210944,  7059.66178584,\n",
       "         8663.77260658,  8459.59838892,  7317.35434056,  8610.58199343,\n",
       "         7078.68201993,  8293.57430255,  5111.73666652,  7742.27136894,\n",
       "         9115.11595843,  8722.15507891, 10036.00003084, 13050.1053069 ,\n",
       "         8205.46341345,  8243.2553298 ,  7892.160517  ,  8183.57716675],\n",
       "       [ 8206.65340617,  7980.5917322 ,  8916.44387052,  6507.06649468,\n",
       "         8386.15249712,  8392.27437286,  6062.86649202,  6205.68399152,\n",
       "         7175.93769291,  6504.64664614,  5162.60261662,  6971.44667582,\n",
       "         8191.86871989,  8064.63047061,  8332.79622886,  8205.46341345,\n",
       "         9613.13409801,  7222.60283784,  7505.48028243,  6842.05955227],\n",
       "       [ 8000.32960549,  7132.82178138,  6973.69023323,  6312.92638295,\n",
       "         7191.08756927,  6990.3505631 ,  5059.21845025,  6871.30774424,\n",
       "         5564.06366945,  7252.97063716,  4507.36140947,  6740.73521502,\n",
       "         8729.3277156 ,  7890.15117127,  7201.08907942,  8243.2553298 ,\n",
       "         7222.60283784,  8352.47082419,  6776.68227225,  7100.6513509 ],\n",
       "       [ 7811.73552453,  7504.63700912,  6706.77611144,  5433.61809667,\n",
       "         7494.28178277,  6752.11535068,  6317.34942905,  6669.87681032,\n",
       "         5826.18900916,  6178.05955491,  5204.99557097,  6919.78410337,\n",
       "         8046.2239106 ,  8286.52882914,  7712.91553298,  7892.160517  ,\n",
       "         7505.48028243,  6776.68227225,  8849.83993369,  6797.40158068],\n",
       "       [ 8118.87129475,  7317.13462973,  7010.17472208,  7895.03447155,\n",
       "         7978.53904674,  7172.89609267,  5312.5468867 ,  6146.24973389,\n",
       "         5497.70409906,  7196.08447852,  4823.40453707,  6140.65242483,\n",
       "         9853.45416701,  7596.52812637,  7944.98692687,  8183.57716675,\n",
       "         6842.05955227,  7100.6513509 ,  6797.40158068, 10832.45798667]])"
      ]
     },
     "execution_count": 56,
     "metadata": {},
     "output_type": "execute_result"
    }
   ],
   "source": [
    "sigma"
   ]
  },
  {
   "cell_type": "code",
   "execution_count": null,
   "metadata": {},
   "outputs": [],
   "source": []
  }
 ],
 "metadata": {
  "kernelspec": {
   "display_name": "Python 3",
   "language": "python",
   "name": "python3"
  },
  "language_info": {
   "codemirror_mode": {
    "name": "ipython",
    "version": 3
   },
   "file_extension": ".py",
   "mimetype": "text/x-python",
   "name": "python",
   "nbconvert_exporter": "python",
   "pygments_lexer": "ipython3",
   "version": "3.5.2"
  }
 },
 "nbformat": 4,
 "nbformat_minor": 2
}
