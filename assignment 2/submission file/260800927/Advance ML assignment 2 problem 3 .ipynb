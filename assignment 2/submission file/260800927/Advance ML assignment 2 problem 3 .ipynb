{
 "cells": [
  {
   "cell_type": "markdown",
   "metadata": {},
   "source": [
    "# Assignment 2 Problem 3"
   ]
  },
  {
   "cell_type": "code",
   "execution_count": 1,
   "metadata": {},
   "outputs": [],
   "source": [
    "#############################################################################################################################\n",
    "\n",
    "\n",
    "\n",
    "###############################################################################################################################"
   ]
  },
  {
   "cell_type": "code",
   "execution_count": 2,
   "metadata": {},
   "outputs": [],
   "source": [
    "import numpy as np"
   ]
  },
  {
   "cell_type": "code",
   "execution_count": 3,
   "metadata": {},
   "outputs": [],
   "source": [
    "DS1_train = np.genfromtxt('DS1_train.txt')\n",
    "DS1_test = np.genfromtxt('DS1_test.txt')"
   ]
  },
  {
   "cell_type": "code",
   "execution_count": 4,
   "metadata": {},
   "outputs": [],
   "source": [
    "#DS1_train = np.genfromtxt('F:\\\\Winter 2018\\\\Applied ML\\\\winter 2018\\\\Assignments\\\\assignment 2\\\\hwk2_datasets_corrected\\\\DS1_train.txt')\n",
    "#DS1_test = np.genfromtxt('F:\\\\Winter 2018\\\\Applied ML\\\\winter 2018\\\\Assignments\\\\assignment 2\\\\hwk2_datasets_corrected\\\\DS1_test.txt')"
   ]
  },
  {
   "cell_type": "code",
   "execution_count": 5,
   "metadata": {},
   "outputs": [
    {
     "name": "stdout",
     "output_type": "stream",
     "text": [
      "(2800, 21)\n",
      "(1200, 21)\n"
     ]
    }
   ],
   "source": [
    "print(DS1_train.shape)\n",
    "print(DS1_test.shape)"
   ]
  },
  {
   "cell_type": "code",
   "execution_count": 6,
   "metadata": {},
   "outputs": [],
   "source": [
    "t_train = DS1_train[:,-1]\n",
    "t_train = np.reshape(t_train,(-1,1))\n",
    "\n",
    "t_test = DS1_test[:,-1]\n",
    "t_test = np.reshape(t_test,(-1,1))"
   ]
  },
  {
   "cell_type": "code",
   "execution_count": 7,
   "metadata": {},
   "outputs": [],
   "source": [
    "X_train = DS1_train[:,0:-1]\n",
    "#print(X_train.shape)\n",
    "\n",
    "X_test = DS1_test[:,0:-1]\n",
    "#print(X_train.shape)"
   ]
  },
  {
   "cell_type": "code",
   "execution_count": 8,
   "metadata": {},
   "outputs": [
    {
     "name": "stdout",
     "output_type": "stream",
     "text": [
      "No of training example 2800\n",
      "No of positive example 1400\n",
      "No of negative example 1400\n"
     ]
    }
   ],
   "source": [
    "N = DS1_train.shape[0]\n",
    "N1 = np.int(t_train.sum())\n",
    "N2 = DS1_train.shape[0] - N1\n",
    "\n",
    "print('No of training example',N)\n",
    "print('No of positive example',N1)\n",
    "print('No of negative example',N2)"
   ]
  },
  {
   "cell_type": "code",
   "execution_count": 9,
   "metadata": {},
   "outputs": [
    {
     "name": "stdout",
     "output_type": "stream",
     "text": [
      "No of features 20\n"
     ]
    }
   ],
   "source": [
    "Nofeatures = X_train.shape[1]\n",
    "print('No of features',Nofeatures)"
   ]
  },
  {
   "cell_type": "code",
   "execution_count": 10,
   "metadata": {},
   "outputs": [],
   "source": [
    "def EucledDistacne(X_train,X_test):\n",
    "    import numpy as np\n",
    "    d = np.reshape(np.sqrt(np.sum((X_train-X_test)**2,1)),(-1,1))\n",
    "    return d"
   ]
  },
  {
   "cell_type": "code",
   "execution_count": 11,
   "metadata": {},
   "outputs": [],
   "source": [
    "def KnnClassifier(X_train,X_test,K):\n",
    "    noTestData = X_test.shape[0]\n",
    "    pred = np.zeros((noTestData,1))\n",
    "    for n in range (0,noTestData):\n",
    "        d = EucledDistacne(X_train,X_test[n,:])\n",
    "        neighbour = np.argsort(d,axis=0)[0:K]\n",
    "        pred[n,:] = t_train[neighbour].mean(axis=0)\n",
    "        if pred[n,:] > 0.5:\n",
    "            pred[n,:] = 1\n",
    "        else:\n",
    "            pred[n,:] = 0\n",
    "            \n",
    "    return pred"
   ]
  },
  {
   "cell_type": "code",
   "execution_count": 12,
   "metadata": {},
   "outputs": [],
   "source": [
    "def EvaluateClassifier(pred,t_test):\n",
    "    True_Positive = np.sum(t_test*pred)\n",
    "    False_Positive = (pred>t_test).sum()\n",
    "    False_Negative = (pred<t_test).sum()\n",
    "    True_Negative = (pred.shape[0] - pred.sum()) - False_Negative\n",
    "\n",
    "    accuracy = (True_Positive + True_Negative)/ t_test.shape[0]\n",
    "    precision = True_Positive/(True_Positive+False_Positive)\n",
    "    recall = True_Positive/(True_Positive+True_Negative)\n",
    "    F_measure = 2*(precision*recall)/(precision+recall)\n",
    "    \n",
    "    return True_Positive, False_Positive, False_Negative, True_Negative, accuracy, precision, recall,  F_measure"
   ]
  },
  {
   "cell_type": "code",
   "execution_count": 13,
   "metadata": {},
   "outputs": [],
   "source": [
    "appended_data = []\n",
    "import pandas as pd\n",
    "K = 100\n",
    "for k in range(2,K):\n",
    "    pred = KnnClassifier(X_train,X_test,k)\n",
    "    A = EvaluateClassifier(pred,t_test)\n",
    "    A = np.reshape(A,(1,-1))\n",
    "    data = pd.DataFrame(A)\n",
    "    appended_data.append(data)\n",
    "appended_data = pd.concat(appended_data, axis=0)"
   ]
  },
  {
   "cell_type": "code",
   "execution_count": 14,
   "metadata": {},
   "outputs": [],
   "source": [
    "columns = ['True_Positive', 'False_Positive', 'False_Negative', 'True_Negative', 'accuracy', 'precision', 'recall',  'F_measure']\n",
    "appended_data.columns = columns\n",
    "appended_data.index= np.arange(2,K)"
   ]
  },
  {
   "cell_type": "code",
   "execution_count": 19,
   "metadata": {},
   "outputs": [
    {
     "data": {
      "image/png": "[encoded data removed]",
      "text/plain": [
       "<matplotlib.figure.Figure at 0x12e33cb57b8>"
      ]
     },
     "metadata": {},
     "output_type": "display_data"
    }
   ],
   "source": [
    "import matplotlib.pyplot as plt\n",
    "plt.plot(appended_data.accuracy)\n",
    "plt.xlabel('Value of K')\n",
    "plt.ylabel('Accuracy')\n",
    "#plt.savefig('F:/Winter 2018/Applied ML/winter 2018/Assignments/assignment 2/fig11.png')"
   ]
  },
  {
   "cell_type": "code",
   "execution_count": 18,
   "metadata": {},
   "outputs": [
    {
     "name": "stdout",
     "output_type": "stream",
     "text": [
      "for K = 73 provides max accuracy\n",
      "for K = 76 provides max precision\n",
      "for K = 5 provides max recall\n",
      "for K = 5 provides max Fmeasure\n"
     ]
    }
   ],
   "source": [
    "print (\"for K =\" , appended_data.accuracy.idxmax()  ,\"provides max accuracy\")\n",
    "print (\"for K =\" , appended_data.precision.idxmax()  ,\"provides max precision\")\n",
    "print (\"for K =\" , appended_data.recall.idxmax()  ,\"provides max recall\")\n",
    "print (\"for K =\" , appended_data.F_measure.idxmax()  ,\"provides max Fmeasure\")\n"
   ]
  },
  {
   "cell_type": "code",
   "execution_count": null,
   "metadata": {},
   "outputs": [],
   "source": []
  }
 ],
 "metadata": {
  "kernelspec": {
   "display_name": "Python 3",
   "language": "python",
   "name": "python3"
  },
  "language_info": {
   "codemirror_mode": {
    "name": "ipython",
    "version": 3
   },
   "file_extension": ".py",
   "mimetype": "text/x-python",
   "name": "python",
   "nbconvert_exporter": "python",
   "pygments_lexer": "ipython3",
   "version": "3.5.2"
  }
 },
 "nbformat": 4,
 "nbformat_minor": 2
}
