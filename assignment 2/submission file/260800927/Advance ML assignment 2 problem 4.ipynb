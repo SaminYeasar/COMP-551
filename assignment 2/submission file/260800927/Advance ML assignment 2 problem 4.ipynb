{
 "cells": [
  {
   "cell_type": "markdown",
   "metadata": {},
   "source": [
    "# Assignment 2 Problem 4"
   ]
  },
  {
   "cell_type": "code",
   "execution_count": 1,
   "metadata": {},
   "outputs": [],
   "source": [
    "import pandas as pd\n",
    "import numpy as np\n"
   ]
  },
  {
   "cell_type": "code",
   "execution_count": 2,
   "metadata": {},
   "outputs": [],
   "source": [
    "#################################################################################################################################\n",
    "\n",
    "\n",
    "\n",
    "##############################################################################################################################"
   ]
  },
  {
   "cell_type": "markdown",
   "metadata": {},
   "source": [
    "# reading given data"
   ]
  },
  {
   "cell_type": "code",
   "execution_count": 3,
   "metadata": {},
   "outputs": [],
   "source": [
    "ClassExampleNo  = 2000 # example in each class\n",
    "Nofeatures = 20\n",
    "crtTrainData = 0.7"
   ]
  },
  {
   "cell_type": "code",
   "execution_count": 30,
   "metadata": {},
   "outputs": [],
   "source": [
    "DS2_c1_m = np.zeros((3,21))\n",
    "for i in range (1,4):\n",
    "    #DS2_c1_m[i-1,:] = np.genfromtxt('F:\\\\Winter 2018\\\\Applied ML\\\\winter 2018\\\\Assignments\\\\assignment 2\\\\hwk2_datasets_corrected\\\\DS2_c1_m%s.txt'%i,delimiter=',')\n",
    "    DS2_c1_m[i-1,:] = np.genfromtxt('DS2_c1_m%s.txt'%i,delimiter=',')\n",
    "DS2_c1_m = DS2_c1_m[~np.isnan(DS2_c1_m)]\n",
    "DS2_c1_m = DS2_c1_m.reshape(3,20)"
   ]
  },
  {
   "cell_type": "code",
   "execution_count": 5,
   "metadata": {},
   "outputs": [],
   "source": [
    "DS2_c2_m = np.zeros((3,21))\n",
    "for i in range (1,4):\n",
    "    #DS2_c2_m[i-1,:] = np.genfromtxt('F:\\\\Winter 2018\\\\Applied ML\\\\winter 2018\\\\Assignments\\\\assignment 2\\\\hwk2_datasets_corrected\\\\DS2_c2_m%s.txt'%i,delimiter=',')\n",
    "    DS2_c2_m[i-1,:] = np.genfromtxt('DS2_c2_m%s.txt'%i,delimiter=',')\n",
    "DS2_c2_m = DS2_c2_m[~np.isnan(DS2_c2_m)]\n",
    "DS2_c2_m = DS2_c2_m.reshape(3,20)"
   ]
  },
  {
   "cell_type": "code",
   "execution_count": 6,
   "metadata": {},
   "outputs": [],
   "source": [
    "#DS2_Cov1 = np.genfromtxt('F:\\\\Winter 2018\\\\Applied ML\\\\winter 2018\\\\Assignments\\\\assignment 2\\\\hwk2_datasets_corrected\\\\DS2_Cov1.txt',delimiter=',')\n",
    "DS2_Cov1 = np.genfromtxt('DS2_Cov1.txt',delimiter=',')\n",
    "DS2_Cov1 = DS2_Cov1[~np.isnan(DS2_Cov1)]\n",
    "DS2_Cov1 = np.reshape(DS2_Cov1,(20,20))\n",
    "\n",
    "#DS2_Cov2 = np.genfromtxt('F:\\\\Winter 2018\\\\Applied ML\\\\winter 2018\\\\Assignments\\\\assignment 2\\\\hwk2_datasets_corrected\\\\DS2_Cov2.txt',delimiter=',')\n",
    "DS2_Cov2 = np.genfromtxt('DS2_Cov2.txt',delimiter=',')\n",
    "DS2_Cov2 = DS2_Cov2[~np.isnan(DS2_Cov2)]\n",
    "DS2_Cov2 = np.reshape(DS2_Cov2,(20,20))\n",
    "\n",
    "#DS2_Cov3 = np.genfromtxt('F:\\\\Winter 2018\\\\Applied ML\\\\winter 2018\\\\Assignments\\\\assignment 2\\\\hwk2_datasets_corrected\\\\DS2_Cov3.txt',delimiter=',')\n",
    "DS2_Cov3 = np.genfromtxt('DS2_Cov3.txt',delimiter=',')\n",
    "DS2_Cov3 = DS2_Cov3[~np.isnan(DS2_Cov3)]\n",
    "DS2_Cov3 = np.reshape(DS2_Cov3,(20,20))"
   ]
  },
  {
   "cell_type": "code",
   "execution_count": 7,
   "metadata": {},
   "outputs": [
    {
     "name": "stdout",
     "output_type": "stream",
     "text": [
      "(3, 20, 20)\n",
      "(20, 20)\n"
     ]
    }
   ],
   "source": [
    "DS2_Cov = np.concatenate((DS2_Cov1,DS2_Cov2,DS2_Cov3)).reshape(3,20,20)\n",
    "print(DS2_Cov.shape)\n",
    "print(DS2_Cov[1,:,:].shape)"
   ]
  },
  {
   "cell_type": "markdown",
   "metadata": {},
   "source": [
    "# creating data for positive class =  class 1 "
   ]
  },
  {
   "cell_type": "code",
   "execution_count": 8,
   "metadata": {},
   "outputs": [],
   "source": [
    "DS2_pos = []\n",
    "for i in range (0,ClassExampleNo):\n",
    "    n = np.random.choice(range(3),p =[0.1,.42,.48] )\n",
    "    m = DS2_c1_m[n,:]\n",
    "    cov = DS2_Cov[n,:,:]\n",
    "    X = np.random.multivariate_normal(np.array(m), np.array(cov),1)\n",
    "    DS2_pos = np.append(DS2_pos,X)\n",
    "DS2_pos = DS2_pos.reshape(ClassExampleNo,Nofeatures)"
   ]
  },
  {
   "cell_type": "markdown",
   "metadata": {},
   "source": [
    "# creating data for negative class =  class 2"
   ]
  },
  {
   "cell_type": "code",
   "execution_count": 9,
   "metadata": {},
   "outputs": [],
   "source": [
    "DS2_neg = []\n",
    "for i in range (0,ClassExampleNo):\n",
    "    n = np.random.choice(range(3),p =[0.1,.42,.48] )\n",
    "    m = DS2_c2_m[n,:]\n",
    "    cov = DS2_Cov[n,:,:]\n",
    "    X = np.random.multivariate_normal(np.array(m), np.array(cov),1)\n",
    "    DS2_neg = np.append(DS2_neg,X)\n",
    "DS2_neg = DS2_neg.reshape(ClassExampleNo,Nofeatures)"
   ]
  },
  {
   "cell_type": "code",
   "execution_count": 10,
   "metadata": {},
   "outputs": [
    {
     "data": {
      "text/plain": [
       "(2000, 20)"
      ]
     },
     "execution_count": 10,
     "metadata": {},
     "output_type": "execute_result"
    }
   ],
   "source": [
    "DS2_pos.shape"
   ]
  },
  {
   "cell_type": "markdown",
   "metadata": {},
   "source": [
    "# Adding labels to the data (class 1 = label 1 , class 2 = label 0 )"
   ]
  },
  {
   "cell_type": "code",
   "execution_count": 11,
   "metadata": {},
   "outputs": [],
   "source": [
    "DS2_pos = np.append(DS2_pos,np.ones((ClassExampleNo,1))*(1),1)"
   ]
  },
  {
   "cell_type": "code",
   "execution_count": 12,
   "metadata": {},
   "outputs": [],
   "source": [
    "DS2_neg = np.append(DS2_neg,np.zeros((ClassExampleNo,1)),1)"
   ]
  },
  {
   "cell_type": "code",
   "execution_count": 13,
   "metadata": {},
   "outputs": [
    {
     "data": {
      "text/plain": [
       "(2000, 21)"
      ]
     },
     "execution_count": 13,
     "metadata": {},
     "output_type": "execute_result"
    }
   ],
   "source": [
    "DS2_neg.shape "
   ]
  },
  {
   "cell_type": "markdown",
   "metadata": {},
   "source": [
    "# spliting training testing data"
   ]
  },
  {
   "cell_type": "code",
   "execution_count": 14,
   "metadata": {},
   "outputs": [],
   "source": [
    "No_train_example =  np.int(ClassExampleNo*crtTrainData)\n",
    "No_test_example =  np.int(ClassExampleNo - No_train_example)"
   ]
  },
  {
   "cell_type": "code",
   "execution_count": 15,
   "metadata": {},
   "outputs": [],
   "source": [
    "DS2_pos_train = DS2_pos[0:No_train_example]\n",
    "DS2_pos_test = DS2_pos[No_train_example:]\n",
    "\n",
    "DS2_neg_train = DS2_neg[0:No_train_example]\n",
    "DS2_neg_test = DS2_neg[No_train_example:]"
   ]
  },
  {
   "cell_type": "markdown",
   "metadata": {},
   "source": [
    "# Create \"DS2\" dataset"
   ]
  },
  {
   "cell_type": "code",
   "execution_count": 16,
   "metadata": {},
   "outputs": [
    {
     "name": "stdout",
     "output_type": "stream",
     "text": [
      "(2800, 21)\n",
      "(1200, 21)\n"
     ]
    }
   ],
   "source": [
    "DS2_train = np.append(DS2_neg_train,DS2_pos_train,0)\n",
    "print(DS2_train.shape)\n",
    "DS2_test = np.append(DS2_neg_test,DS2_pos_test,0)\n",
    "print(DS2_test.shape)"
   ]
  },
  {
   "cell_type": "markdown",
   "metadata": {},
   "source": [
    "# shuffling the positive and negative labeled data"
   ]
  },
  {
   "cell_type": "code",
   "execution_count": 17,
   "metadata": {},
   "outputs": [],
   "source": [
    "np.random.shuffle(DS2_train)\n",
    "np.random.shuffle(DS2_test)"
   ]
  },
  {
   "cell_type": "markdown",
   "metadata": {},
   "source": [
    "# Saving the data at \"DS2_train\" and \"DS2_test\""
   ]
  },
  {
   "cell_type": "code",
   "execution_count": 28,
   "metadata": {},
   "outputs": [],
   "source": [
    "np.savetxt('DS2_train.txt', DS2_train)\n",
    "np.savetxt('DS2_test.txt', DS2_test)\n",
    "\n",
    "#np.savetxt('F:\\\\Winter 2018\\\\Applied ML\\\\winter 2018\\\\Assignments\\\\assignment 2\\\\hwk2_datasets_corrected\\\\DS2_train.txt', DS2_train)\n",
    "#np.savetxt('F:\\\\Winter 2018\\\\Applied ML\\\\winter 2018\\\\Assignments\\\\assignment 2\\\\hwk2_datasets_corrected\\\\DS2_test.txt', DS2_test)\n"
   ]
  },
  {
   "cell_type": "code",
   "execution_count": 25,
   "metadata": {},
   "outputs": [
    {
     "data": {
      "text/plain": [
       "array([[ 0.23366484,  1.85464467,  2.80414453, ...,  1.59936484,\n",
       "         0.54334261,  1.        ],\n",
       "       [-2.52429681, -0.49209602, -1.01100672, ...,  0.13595964,\n",
       "        -0.46586033,  0.        ],\n",
       "       [ 2.86711157,  0.65776188,  2.96176346, ...,  5.49163527,\n",
       "         4.52649324,  0.        ],\n",
       "       ...,\n",
       "       [ 4.51380654,  1.10805105,  3.57201062, ...,  0.6295917 ,\n",
       "         2.67865757,  1.        ],\n",
       "       [-0.28034558,  1.80130472,  2.47757214, ...,  0.11528653,\n",
       "         0.38446037,  1.        ],\n",
       "       [ 5.19727213,  0.20667667,  0.85313029, ...,  1.94520414,\n",
       "         3.10113968,  1.        ]])"
      ]
     },
     "execution_count": 25,
     "metadata": {},
     "output_type": "execute_result"
    }
   ],
   "source": [
    "np.genfromtxt('DS2_train.txt')"
   ]
  },
  {
   "cell_type": "code",
   "execution_count": 26,
   "metadata": {},
   "outputs": [
    {
     "data": {
      "text/plain": [
       "array([[ 2.23483538,  3.59731089,  3.29661324, ...,  3.69746231,\n",
       "         2.4986834 ,  1.        ],\n",
       "       [ 3.20282383,  1.36423772,  2.84068695, ...,  1.98755955,\n",
       "         3.63600884,  1.        ],\n",
       "       [ 1.64343989, -2.33096099, -0.82545771, ..., -2.573275  ,\n",
       "         1.73378127,  1.        ],\n",
       "       ...,\n",
       "       [ 4.47331181,  2.4040694 ,  3.62889822, ...,  3.80945049,\n",
       "         5.06026113,  0.        ],\n",
       "       [-0.03791355,  2.29742693,  2.51283438, ...,  2.54737225,\n",
       "         2.00967605,  0.        ],\n",
       "       [ 2.22601562,  1.31498939,  1.45636003, ...,  2.31895256,\n",
       "         1.88346813,  0.        ]])"
      ]
     },
     "execution_count": 26,
     "metadata": {},
     "output_type": "execute_result"
    }
   ],
   "source": [
    "np.genfromtxt('DS2_test.txt')"
   ]
  },
  {
   "cell_type": "code",
   "execution_count": null,
   "metadata": {},
   "outputs": [],
   "source": []
  }
 ],
 "metadata": {
  "kernelspec": {
   "display_name": "Python 3",
   "language": "python",
   "name": "python3"
  },
  "language_info": {
   "codemirror_mode": {
    "name": "ipython",
    "version": 3
   },
   "file_extension": ".py",
   "mimetype": "text/x-python",
   "name": "python",
   "nbconvert_exporter": "python",
   "pygments_lexer": "ipython3",
   "version": "3.5.2"
  }
 },
 "nbformat": 4,
 "nbformat_minor": 2
}
