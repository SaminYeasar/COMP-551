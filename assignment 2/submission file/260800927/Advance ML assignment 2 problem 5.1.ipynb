{
 "cells": [
  {
   "cell_type": "markdown",
   "metadata": {},
   "source": [
    "# Assignment 2 problem 5.1"
   ]
  },
  {
   "cell_type": "code",
   "execution_count": 1,
   "metadata": {},
   "outputs": [],
   "source": [
    "#############################################################################################################################\n",
    "\n",
    "\n",
    "\n",
    "###############################################################################################################################"
   ]
  },
  {
   "cell_type": "code",
   "execution_count": 2,
   "metadata": {},
   "outputs": [],
   "source": [
    "import numpy as np"
   ]
  },
  {
   "cell_type": "code",
   "execution_count": 3,
   "metadata": {},
   "outputs": [],
   "source": [
    "#DS2_train = np.genfromtxt('F:\\\\Winter 2018\\\\Applied ML\\\\winter 2018\\\\Assignments\\\\assignment 2\\\\hwk2_datasets_corrected\\\\DS2_train.txt')\n",
    "#DS2_test = np.genfromtxt('F:\\\\Winter 2018\\\\Applied ML\\\\winter 2018\\\\Assignments\\\\assignment 2\\\\hwk2_datasets_corrected\\\\DS2_test.txt')"
   ]
  },
  {
   "cell_type": "code",
   "execution_count": 4,
   "metadata": {},
   "outputs": [],
   "source": [
    "DS2_train = np.genfromtxt('DS2_train.txt')\n",
    "DS2_test = np.genfromtxt('DS2_test.txt')"
   ]
  },
  {
   "cell_type": "code",
   "execution_count": 5,
   "metadata": {},
   "outputs": [
    {
     "name": "stdout",
     "output_type": "stream",
     "text": [
      "(2800, 21)\n",
      "(1200, 21)\n"
     ]
    }
   ],
   "source": [
    "print(DS2_train.shape)\n",
    "print(DS2_test.shape)"
   ]
  },
  {
   "cell_type": "code",
   "execution_count": 6,
   "metadata": {},
   "outputs": [],
   "source": [
    "t_train = DS2_train[:,-1]\n",
    "t_train = np.reshape(t_train,(-1,1))\n",
    "\n",
    "t_test = DS2_test[:,-1]\n",
    "t_test = np.reshape(t_test,(-1,1))"
   ]
  },
  {
   "cell_type": "code",
   "execution_count": 7,
   "metadata": {},
   "outputs": [],
   "source": [
    "#t.shape"
   ]
  },
  {
   "cell_type": "code",
   "execution_count": 8,
   "metadata": {},
   "outputs": [],
   "source": [
    "X_train = DS2_train[:,0:-1]\n",
    "#print(X_train.shape)\n",
    "\n",
    "X_test = DS2_test[:,0:-1]\n",
    "#print(X_train.shape)"
   ]
  },
  {
   "cell_type": "markdown",
   "metadata": {},
   "source": [
    "###  This mu calculation works as N1 and N2 are same (both class has same number of examples)"
   ]
  },
  {
   "cell_type": "code",
   "execution_count": 9,
   "metadata": {},
   "outputs": [
    {
     "data": {
      "text/plain": [
       "1400.0"
      ]
     },
     "execution_count": 9,
     "metadata": {},
     "output_type": "execute_result"
    }
   ],
   "source": [
    "t_train.sum()"
   ]
  },
  {
   "cell_type": "code",
   "execution_count": 10,
   "metadata": {},
   "outputs": [],
   "source": [
    "N1 = t_train.sum()\n",
    "N2 = DS2_train.shape[0] - N1"
   ]
  },
  {
   "cell_type": "code",
   "execution_count": 11,
   "metadata": {},
   "outputs": [
    {
     "data": {
      "text/plain": [
       "array([[1.10933176],\n",
       "       [1.04337353],\n",
       "       [1.08710064],\n",
       "       [1.03513281],\n",
       "       [1.0540895 ],\n",
       "       [1.01931427],\n",
       "       [1.02233875],\n",
       "       [1.05943621],\n",
       "       [1.04492486],\n",
       "       [1.0095645 ],\n",
       "       [1.07407652],\n",
       "       [1.03634172],\n",
       "       [1.07338496],\n",
       "       [1.07065069],\n",
       "       [1.06676536],\n",
       "       [1.03717917],\n",
       "       [1.12545816],\n",
       "       [1.0195795 ],\n",
       "       [1.00959656],\n",
       "       [1.07928161]])"
      ]
     },
     "execution_count": 11,
     "metadata": {},
     "output_type": "execute_result"
    }
   ],
   "source": [
    "mu1=np.dot(X_train.T,t_train)/N1\n",
    "mu1"
   ]
  },
  {
   "cell_type": "code",
   "execution_count": 12,
   "metadata": {},
   "outputs": [
    {
     "data": {
      "text/plain": [
       "array([[1.20637971],\n",
       "       [1.24578597],\n",
       "       [1.23909664],\n",
       "       [1.29948946],\n",
       "       [1.21352091],\n",
       "       [1.23816039],\n",
       "       [1.24382555],\n",
       "       [1.19727223],\n",
       "       [1.21312223],\n",
       "       [1.28847044],\n",
       "       [1.29330546],\n",
       "       [1.28408775],\n",
       "       [1.26635248],\n",
       "       [1.21113559],\n",
       "       [1.21150247],\n",
       "       [1.23737768],\n",
       "       [1.26350945],\n",
       "       [1.20329051],\n",
       "       [1.26980984],\n",
       "       [1.21744158]])"
      ]
     },
     "execution_count": 12,
     "metadata": {},
     "output_type": "execute_result"
    }
   ],
   "source": [
    "mu2 = np.dot(X_train.T,(1-t_train))/N2\n",
    "mu2"
   ]
  },
  {
   "cell_type": "code",
   "execution_count": null,
   "metadata": {},
   "outputs": [],
   "source": []
  },
  {
   "cell_type": "code",
   "execution_count": 13,
   "metadata": {},
   "outputs": [],
   "source": [
    "# Pc1 = N1 / (N1+N2)\n",
    "\n",
    "# N1 = no of positive targets\n",
    "# N2 = no of negative targets"
   ]
  },
  {
   "cell_type": "code",
   "execution_count": 14,
   "metadata": {},
   "outputs": [],
   "source": [
    "Pc1 = N1 / ( N1+N2 )\n",
    "Pc2 = 1 - Pc1\n"
   ]
  },
  {
   "cell_type": "code",
   "execution_count": 15,
   "metadata": {},
   "outputs": [],
   "source": [
    "# compute sigma"
   ]
  },
  {
   "cell_type": "code",
   "execution_count": 16,
   "metadata": {},
   "outputs": [
    {
     "name": "stdout",
     "output_type": "stream",
     "text": [
      "20\n"
     ]
    }
   ],
   "source": [
    "featureNo = X_train.shape[1]\n",
    "print(featureNo)"
   ]
  },
  {
   "cell_type": "code",
   "execution_count": 17,
   "metadata": {},
   "outputs": [],
   "source": [
    "#Xc1 = X data belong to class 1"
   ]
  },
  {
   "cell_type": "code",
   "execution_count": 18,
   "metadata": {},
   "outputs": [
    {
     "name": "stdout",
     "output_type": "stream",
     "text": [
      "(2800, 20)\n",
      "(1400, 20)\n"
     ]
    }
   ],
   "source": [
    "Xc1 = X_train*np.repeat(t_train,featureNo,axis=1)\n",
    "print(Xc1.shape)\n",
    "Xc1 = Xc1[~(Xc1==0).all(1)]\n",
    "print(Xc1.shape)"
   ]
  },
  {
   "cell_type": "code",
   "execution_count": 19,
   "metadata": {},
   "outputs": [],
   "source": [
    "# similarly compute Xc2 = data"
   ]
  },
  {
   "cell_type": "code",
   "execution_count": 20,
   "metadata": {},
   "outputs": [
    {
     "name": "stdout",
     "output_type": "stream",
     "text": [
      "(2800, 20)\n",
      "(1400, 20)\n"
     ]
    }
   ],
   "source": [
    "Xc2 = X_train*np.repeat((1-t_train),featureNo,axis=1)\n",
    "print(Xc2.shape)\n",
    "Xc2 = Xc2[~(Xc2==0).all(1)]\n",
    "print(Xc2.shape)"
   ]
  },
  {
   "cell_type": "code",
   "execution_count": 21,
   "metadata": {},
   "outputs": [],
   "source": [
    "# compute S"
   ]
  },
  {
   "cell_type": "code",
   "execution_count": 22,
   "metadata": {},
   "outputs": [
    {
     "name": "stdout",
     "output_type": "stream",
     "text": [
      "(20, 20)\n"
     ]
    }
   ],
   "source": [
    "#A = ( Xc1 - np.repeat(mu1.T,N1,axis = 0) )\n",
    "A = Xc1 - mu1.T\n",
    "S1 = np.dot(A.T,A)\n",
    "print(S1.shape)"
   ]
  },
  {
   "cell_type": "code",
   "execution_count": 23,
   "metadata": {},
   "outputs": [
    {
     "name": "stdout",
     "output_type": "stream",
     "text": [
      "(20, 20)\n"
     ]
    }
   ],
   "source": [
    "B = Xc2 - mu2.T\n",
    "S2 = np.dot(B.T,B)\n",
    "print(S2.shape)"
   ]
  },
  {
   "cell_type": "code",
   "execution_count": 24,
   "metadata": {},
   "outputs": [],
   "source": [
    "N = N1+N2\n",
    "sigma = (N1/N)*S1 + (N2/N)*S2"
   ]
  },
  {
   "cell_type": "code",
   "execution_count": 25,
   "metadata": {},
   "outputs": [],
   "source": [
    "W1 = np.dot(np.linalg.inv(sigma),(mu1 - mu2))"
   ]
  },
  {
   "cell_type": "code",
   "execution_count": 26,
   "metadata": {},
   "outputs": [
    {
     "data": {
      "text/plain": [
       "(20, 1)"
      ]
     },
     "execution_count": 26,
     "metadata": {},
     "output_type": "execute_result"
    }
   ],
   "source": [
    "W1.shape"
   ]
  },
  {
   "cell_type": "code",
   "execution_count": 27,
   "metadata": {},
   "outputs": [],
   "source": [
    "c = np.linalg.inv(sigma)"
   ]
  },
  {
   "cell_type": "code",
   "execution_count": 28,
   "metadata": {},
   "outputs": [
    {
     "name": "stdout",
     "output_type": "stream",
     "text": [
      "[[5.78328839e-05]]\n",
      "(1, 1)\n"
     ]
    }
   ],
   "source": [
    "W0 = (-1/2)*np.dot (np.dot(mu1.T,c) , mu1) + (1/2)*np.dot (np.dot(mu2.T,c) , mu2) + np.log(Pc1/Pc2)\n",
    "print(W0)\n",
    "print(W0.shape)"
   ]
  },
  {
   "cell_type": "code",
   "execution_count": 29,
   "metadata": {},
   "outputs": [],
   "source": [
    "def sigm(x):\n",
    "    import numpy as np\n",
    "    y = 1/(1+np.exp(-x))\n",
    "    return y"
   ]
  },
  {
   "cell_type": "code",
   "execution_count": 30,
   "metadata": {},
   "outputs": [
    {
     "data": {
      "text/plain": [
       "(20, 1)"
      ]
     },
     "execution_count": 30,
     "metadata": {},
     "output_type": "execute_result"
    }
   ],
   "source": [
    "W1.shape"
   ]
  },
  {
   "cell_type": "code",
   "execution_count": 31,
   "metadata": {},
   "outputs": [
    {
     "data": {
      "text/plain": [
       "(20, 20)"
      ]
     },
     "execution_count": 31,
     "metadata": {},
     "output_type": "execute_result"
    }
   ],
   "source": [
    "np.linalg.inv(sigma).shape"
   ]
  },
  {
   "cell_type": "code",
   "execution_count": 32,
   "metadata": {},
   "outputs": [
    {
     "name": "stdout",
     "output_type": "stream",
     "text": [
      "[[-2.70181507e-06]\n",
      " [-2.71679015e-05]\n",
      " [ 1.81004437e-04]\n",
      " ...\n",
      " [ 6.33933825e-05]\n",
      " [ 1.51753608e-05]\n",
      " [ 2.82064985e-06]]\n"
     ]
    }
   ],
   "source": [
    "Pcx = np.dot(X_test,W1) + W0 \n",
    "print(Pcx)"
   ]
  },
  {
   "cell_type": "code",
   "execution_count": 33,
   "metadata": {},
   "outputs": [
    {
     "data": {
      "text/plain": [
       "array([[0.49999932],\n",
       "       [0.49999321],\n",
       "       [0.50004525],\n",
       "       ...,\n",
       "       [0.50001585],\n",
       "       [0.50000379],\n",
       "       [0.50000071]])"
      ]
     },
     "execution_count": 33,
     "metadata": {},
     "output_type": "execute_result"
    }
   ],
   "source": [
    "Pcx = sigm(Pcx)\n",
    "Pcx"
   ]
  },
  {
   "cell_type": "code",
   "execution_count": 34,
   "metadata": {},
   "outputs": [],
   "source": [
    "Pcx[Pcx <= 0.5] = 0\n",
    "Pcx[Pcx > 0.5] = 1"
   ]
  },
  {
   "cell_type": "code",
   "execution_count": 35,
   "metadata": {},
   "outputs": [
    {
     "data": {
      "text/plain": [
       "310.0"
      ]
     },
     "execution_count": 35,
     "metadata": {},
     "output_type": "execute_result"
    }
   ],
   "source": [
    "True_Positive = np.sum(t_test*Pcx)\n",
    "True_Positive"
   ]
  },
  {
   "cell_type": "code",
   "execution_count": 36,
   "metadata": {},
   "outputs": [
    {
     "data": {
      "text/plain": [
       "314"
      ]
     },
     "execution_count": 36,
     "metadata": {},
     "output_type": "execute_result"
    }
   ],
   "source": [
    "False_Positive = (Pcx>t_test).sum()\n",
    "False_Positive"
   ]
  },
  {
   "cell_type": "code",
   "execution_count": 37,
   "metadata": {},
   "outputs": [
    {
     "data": {
      "text/plain": [
       "290"
      ]
     },
     "execution_count": 37,
     "metadata": {},
     "output_type": "execute_result"
    }
   ],
   "source": [
    "False_Negative = (Pcx<t_test).sum()\n",
    "False_Negative"
   ]
  },
  {
   "cell_type": "code",
   "execution_count": 38,
   "metadata": {},
   "outputs": [
    {
     "data": {
      "text/plain": [
       "286.0"
      ]
     },
     "execution_count": 38,
     "metadata": {},
     "output_type": "execute_result"
    }
   ],
   "source": [
    "# no of prediction negative = no of prediciton - no of positive prediction\n",
    "                            # no of prediciton = Pcx.shape[0] \n",
    "                            # no of positive prediction = Pcx.sum()\n",
    "\n",
    "# True Negative = no of prediction negative - False_Negative\n",
    "True_Negative = (Pcx.shape[0] - Pcx.sum()) - False_Negative\n",
    "True_Negative"
   ]
  },
  {
   "cell_type": "markdown",
   "metadata": {},
   "source": [
    "# Results"
   ]
  },
  {
   "cell_type": "code",
   "execution_count": 39,
   "metadata": {},
   "outputs": [
    {
     "data": {
      "text/plain": [
       "0.49666666666666665"
      ]
     },
     "execution_count": 39,
     "metadata": {},
     "output_type": "execute_result"
    }
   ],
   "source": [
    "accuracy = (True_Positive + True_Negative)/ t_test.shape[0]\n",
    "accuracy "
   ]
  },
  {
   "cell_type": "code",
   "execution_count": 40,
   "metadata": {},
   "outputs": [
    {
     "data": {
      "text/plain": [
       "0.4967948717948718"
      ]
     },
     "execution_count": 40,
     "metadata": {},
     "output_type": "execute_result"
    }
   ],
   "source": [
    "precision = True_Positive/(True_Positive+False_Positive)\n",
    "precision"
   ]
  },
  {
   "cell_type": "code",
   "execution_count": 41,
   "metadata": {},
   "outputs": [
    {
     "data": {
      "text/plain": [
       "0.5201342281879194"
      ]
     },
     "execution_count": 41,
     "metadata": {},
     "output_type": "execute_result"
    }
   ],
   "source": [
    "recall = True_Positive/(True_Positive+True_Negative)\n",
    "recall"
   ]
  },
  {
   "cell_type": "code",
   "execution_count": 42,
   "metadata": {},
   "outputs": [
    {
     "data": {
      "text/plain": [
       "0.5081967213114754"
      ]
     },
     "execution_count": 42,
     "metadata": {},
     "output_type": "execute_result"
    }
   ],
   "source": [
    "F_measure = 2*(precision*recall)/(precision+recall)\n",
    "F_measure"
   ]
  },
  {
   "cell_type": "code",
   "execution_count": 43,
   "metadata": {},
   "outputs": [
    {
     "data": {
      "text/plain": [
       "array([[1.10933176],\n",
       "       [1.04337353],\n",
       "       [1.08710064],\n",
       "       [1.03513281],\n",
       "       [1.0540895 ],\n",
       "       [1.01931427],\n",
       "       [1.02233875],\n",
       "       [1.05943621],\n",
       "       [1.04492486],\n",
       "       [1.0095645 ],\n",
       "       [1.07407652],\n",
       "       [1.03634172],\n",
       "       [1.07338496],\n",
       "       [1.07065069],\n",
       "       [1.06676536],\n",
       "       [1.03717917],\n",
       "       [1.12545816],\n",
       "       [1.0195795 ],\n",
       "       [1.00959656],\n",
       "       [1.07928161]])"
      ]
     },
     "execution_count": 43,
     "metadata": {},
     "output_type": "execute_result"
    }
   ],
   "source": [
    "mu1"
   ]
  },
  {
   "cell_type": "code",
   "execution_count": 44,
   "metadata": {},
   "outputs": [
    {
     "data": {
      "text/plain": [
       "array([[1.20637971],\n",
       "       [1.24578597],\n",
       "       [1.23909664],\n",
       "       [1.29948946],\n",
       "       [1.21352091],\n",
       "       [1.23816039],\n",
       "       [1.24382555],\n",
       "       [1.19727223],\n",
       "       [1.21312223],\n",
       "       [1.28847044],\n",
       "       [1.29330546],\n",
       "       [1.28408775],\n",
       "       [1.26635248],\n",
       "       [1.21113559],\n",
       "       [1.21150247],\n",
       "       [1.23737768],\n",
       "       [1.26350945],\n",
       "       [1.20329051],\n",
       "       [1.26980984],\n",
       "       [1.21744158]])"
      ]
     },
     "execution_count": 44,
     "metadata": {},
     "output_type": "execute_result"
    }
   ],
   "source": [
    "mu2"
   ]
  },
  {
   "cell_type": "code",
   "execution_count": 45,
   "metadata": {},
   "outputs": [
    {
     "data": {
      "text/plain": [
       "array([[5.78328839e-05]])"
      ]
     },
     "execution_count": 45,
     "metadata": {},
     "output_type": "execute_result"
    }
   ],
   "source": [
    "W0"
   ]
  },
  {
   "cell_type": "code",
   "execution_count": 46,
   "metadata": {},
   "outputs": [
    {
     "data": {
      "text/plain": [
       "array([[ 5.25100739e-05],\n",
       "       [-9.26007998e-06],\n",
       "       [ 3.18304450e-05],\n",
       "       [-3.43503148e-05],\n",
       "       [-3.84234125e-05],\n",
       "       [-9.70487776e-06],\n",
       "       [ 3.95067380e-05],\n",
       "       [ 2.11408796e-05],\n",
       "       [-8.45523628e-06],\n",
       "       [-5.45845613e-05],\n",
       "       [-5.01263099e-05],\n",
       "       [-4.66807428e-05],\n",
       "       [-2.18103052e-05],\n",
       "       [-5.94580898e-06],\n",
       "       [ 5.19091173e-05],\n",
       "       [-3.28798430e-06],\n",
       "       [ 2.55625127e-05],\n",
       "       [-9.67633571e-06],\n",
       "       [ 1.73328027e-05],\n",
       "       [ 3.54779597e-06]])"
      ]
     },
     "execution_count": 46,
     "metadata": {},
     "output_type": "execute_result"
    }
   ],
   "source": [
    "W1"
   ]
  },
  {
   "cell_type": "code",
   "execution_count": null,
   "metadata": {},
   "outputs": [],
   "source": []
  }
 ],
 "metadata": {
  "kernelspec": {
   "display_name": "Python 3",
   "language": "python",
   "name": "python3"
  },
  "language_info": {
   "codemirror_mode": {
    "name": "ipython",
    "version": 3
   },
   "file_extension": ".py",
   "mimetype": "text/x-python",
   "name": "python",
   "nbconvert_exporter": "python",
   "pygments_lexer": "ipython3",
   "version": "3.6.5"
  }
 },
 "nbformat": 4,
 "nbformat_minor": 2
}
