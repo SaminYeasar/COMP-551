{
 "cells": [
  {
   "cell_type": "code",
   "execution_count": 2,
   "metadata": {},
   "outputs": [],
   "source": [
    "import re\n",
    "import pandas as pd\n",
    "import numpy as np"
   ]
  },
  {
   "cell_type": "code",
   "execution_count": 4,
   "metadata": {},
   "outputs": [],
   "source": [
    "# preprocess\n",
    "def TextPreprocess(text):   \n",
    "    text = text.str.lower()\n",
    "    text = text.str.replace('[^\\w\\s]','')    \n",
    "    text = text.str.replace('[0-9]','')\n",
    "    text = text.str.replace('_','')\n",
    "    return text"
   ]
  },
  {
   "cell_type": "code",
   "execution_count": null,
   "metadata": {},
   "outputs": [],
   "source": [
    "def CreateVocab (Dataset,len_word_list):\n",
    "    # len_word_list = no of words you want in bag of words\n",
    "    import collections, re\n",
    "    import numpy as np\n",
    "    Dataset = TextPreprocess(Dataset)\n",
    "    bagsofwords = [ collections.Counter(re.findall(r'\\w+', txt)) for txt in Dataset]\n",
    "    sumbags = sum(bagsofwords, collections.Counter())\n",
    "    vocab = pd.DataFrame(sumbags.most_common(len_word_list),columns = ['word','frequency'])\n",
    "    vocab.insert(loc=1,column='id', value=np.arange(1,len_word_list+1))\n",
    "    np.asarray(vocab)\n",
    "    return vocab"
   ]
  },
  {
   "cell_type": "code",
   "execution_count": null,
   "metadata": {},
   "outputs": [],
   "source": [
    "#loc = 'D:/University materials/Winter 2018/Applied ML/winter 2018/Assignments/assignment 3/hwk3_datasets/IMDB-train.txt'\n",
    "loc = 'IMDB-train.txt'\n",
    "IMDB_train = pd.read_table(loc,header=None,names=['review','label'])\n",
    "IMDB_train.review = TextPreprocess(IMDB_train.review)"
   ]
  },
  {
   "cell_type": "code",
   "execution_count": null,
   "metadata": {},
   "outputs": [],
   "source": [
    "IMDB_vocab = CreateVocab(IMDB_train.review,10000)\n",
    "np.savetxt('IMDB-vocab.txt',IMDB_vocab, fmt='%s',delimiter=',',encoding='utf-8')"
   ]
  },
  {
   "cell_type": "code",
   "execution_count": 5,
   "metadata": {},
   "outputs": [],
   "source": [
    "vocab = pd.read_csv('IMDB-vocab.txt',header=None,names = ['word','index','frequency'])\n",
    "vocabtotext = vocab.word.str.cat(sep=' ')"
   ]
  },
  {
   "cell_type": "code",
   "execution_count": 18,
   "metadata": {},
   "outputs": [],
   "source": [
    "idx_r = []\n",
    "for itr in range(0,5):\n",
    "    a = IMDB_train.review[itr].split()\n",
    "    with open(\"IMDB_train_rev2num.txt\", \"a\") as myfile:      \n",
    "        for i in range(0,len(a)):\n",
    "            if vocab.word[vocab.word == a[i]].empty:\n",
    "                continue \n",
    "            else:\n",
    "                myfile.write( str(vocab.word[vocab.word == a[i]].index[0] ) + ' ' )  \n",
    "        myfile.write( '\\t' + str(IMDB_train.label[itr])  + \"\\n\" )\n",
    "    myfile.close()"
   ]
  },
  {
   "cell_type": "code",
   "execution_count": null,
   "metadata": {},
   "outputs": [],
   "source": [
    "##########################################################################################################################\n",
    "\n",
    "\n",
    "\n",
    "##########################################################################################################################"
   ]
  },
  {
   "cell_type": "code",
   "execution_count": null,
   "metadata": {},
   "outputs": [],
   "source": [
    "#loc = 'D:/University materials/Winter 2018/Applied ML/winter 2018/Assignments/assignment 3/hwk3_datasets/IMDB-test.txt'\n",
    "loc = 'IMDB-test.txt'\n",
    "IMDB_test = pd.read_table(loc,header=None,names=['review','label'])\n",
    "IMDB_test.review = TextPreprocess(IMDB_test.review)"
   ]
  },
  {
   "cell_type": "code",
   "execution_count": null,
   "metadata": {},
   "outputs": [],
   "source": [
    "idx_r = []\n",
    "for itr in range(0,len(IMDB_test.review)):\n",
    "    a = IMDB_test.review[itr].split()\n",
    "    with open(\"IMDB_test_rev2num.txt\", \"a\") as myfile:      \n",
    "        for i in range(0,len(a)):\n",
    "            if vocab.word[vocab.word == a[i]].empty:\n",
    "                continue \n",
    "            else:\n",
    "                myfile.write( str(vocab.word[vocab.word == a[i]].index[0] ) + ' ' )  \n",
    "        myfile.write( '\\t' + str(IMDB_test.label[itr])  + \"\\n\" )\n",
    "    myfile.close()"
   ]
  },
  {
   "cell_type": "code",
   "execution_count": null,
   "metadata": {},
   "outputs": [],
   "source": []
  },
  {
   "cell_type": "code",
   "execution_count": 22,
   "metadata": {},
   "outputs": [
    {
     "data": {
      "text/plain": [
       "15000"
      ]
     },
     "execution_count": 22,
     "metadata": {},
     "output_type": "execute_result"
    }
   ],
   "source": [
    "#loc = 'D:/University materials/Winter 2018/Applied ML/winter 2018/Assignments/assignment 3/hwk3_datasets/IMDB-valid.txt'\n",
    "loc = 'IMDB-valid.txt'\n",
    "IMDB_valid = pd.read_table(loc,header=None,names=['review','label'])\n",
    "IMDB_valid.review = TextPreprocess(IMDB_valid.review)"
   ]
  },
  {
   "cell_type": "code",
   "execution_count": null,
   "metadata": {},
   "outputs": [],
   "source": [
    "idx_r = []\n",
    "for itr in range(0,len(IMDB_valid.review)):\n",
    "    a = IMDB_valid.review[itr].split()\n",
    "    with open(\"IMDB_valid_rev2num.txt\", \"a\") as myfile:      \n",
    "        for i in range(0,len(a)):\n",
    "            if vocab.word[vocab.word == a[i]].empty:\n",
    "                continue \n",
    "            else:\n",
    "                myfile.write( str(vocab.word[vocab.word == a[i]].index[0] ) + ' ' )  \n",
    "        myfile.write( '\\t' + str(IMDB_valid.label[itr])  + \"\\n\" )\n",
    "    myfile.close()"
   ]
  },
  {
   "cell_type": "code",
   "execution_count": null,
   "metadata": {},
   "outputs": [],
   "source": []
  },
  {
   "cell_type": "code",
   "execution_count": null,
   "metadata": {},
   "outputs": [],
   "source": []
  }
 ],
 "metadata": {
  "kernelspec": {
   "display_name": "Python 3",
   "language": "python",
   "name": "python3"
  },
  "language_info": {
   "codemirror_mode": {
    "name": "ipython",
    "version": 3
   },
   "file_extension": ".py",
   "mimetype": "text/x-python",
   "name": "python",
   "nbconvert_exporter": "python",
   "pygments_lexer": "ipython3",
   "version": "3.5.2"
  }
 },
 "nbformat": 4,
 "nbformat_minor": 2
}
