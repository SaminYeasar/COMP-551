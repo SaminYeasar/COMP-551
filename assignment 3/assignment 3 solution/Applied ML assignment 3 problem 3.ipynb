{
 "cells": [
  {
   "cell_type": "code",
   "execution_count": null,
   "metadata": {},
   "outputs": [],
   "source": [
    "###############################################################################################################################\n",
    "\n",
    "\n",
    "\n",
    "###############################################################################################################################"
   ]
  },
  {
   "cell_type": "code",
   "execution_count": null,
   "metadata": {},
   "outputs": [],
   "source": []
  },
  {
   "cell_type": "markdown",
   "metadata": {},
   "source": [
    "# Analysis of Classification Efficiency Yelp data using frequency bag-of-words"
   ]
  },
  {
   "cell_type": "code",
   "execution_count": 4,
   "metadata": {},
   "outputs": [],
   "source": [
    "import re\n",
    "import pandas as pd\n",
    "import numpy as np"
   ]
  },
  {
   "cell_type": "code",
   "execution_count": 5,
   "metadata": {},
   "outputs": [],
   "source": [
    "def TextPreprocess(text):   \n",
    "    text = text.str.lower()\n",
    "    text = text.str.replace('[^\\w\\s]','')    \n",
    "    text = text.str.replace('[0-9]','')\n",
    "    text = text.str.replace('_','')\n",
    "    return text"
   ]
  },
  {
   "cell_type": "code",
   "execution_count": 6,
   "metadata": {},
   "outputs": [],
   "source": [
    "vocab = pd.read_csv('yelp-vocab.txt',header=None,names = ['word','id','frequency'])\n",
    "#vocabtotext = vocab.word.str.cat(sep=' ')"
   ]
  },
  {
   "cell_type": "code",
   "execution_count": 7,
   "metadata": {},
   "outputs": [],
   "source": [
    "loc = 'yelp-train.txt'\n",
    "yelp_train = pd.read_table(loc,header=None,names=['review','label'])\n",
    "yelp_train.review = TextPreprocess(yelp_train.review)"
   ]
  },
  {
   "cell_type": "code",
   "execution_count": 8,
   "metadata": {},
   "outputs": [],
   "source": [
    "loc = 'yelp-test.txt'\n",
    "yelp_test = pd.read_table(loc,header=None,names=['review','label'])\n",
    "yelp_test.review = TextPreprocess(yelp_test.review)"
   ]
  },
  {
   "cell_type": "code",
   "execution_count": 9,
   "metadata": {},
   "outputs": [],
   "source": [
    "loc = 'yelp-valid.txt'\n",
    "yelp_valid = pd.read_table(loc,header=None,names=['review','label'])\n",
    "yelp_valid.review = TextPreprocess(yelp_valid.review)"
   ]
  },
  {
   "cell_type": "code",
   "execution_count": null,
   "metadata": {},
   "outputs": [],
   "source": [
    "#############################################################################################################################\n",
    "'''\n",
    "One sprase matrix constructed save it and call the data when its needed as computation is time consuming\n",
    "'''\n",
    "\n",
    "############################################################################################################################"
   ]
  },
  {
   "cell_type": "code",
   "execution_count": null,
   "metadata": {},
   "outputs": [],
   "source": [
    "##########################################################################################################################\n",
    "\n",
    "\n",
    "\n",
    "##########################################################################################################################"
   ]
  },
  {
   "cell_type": "code",
   "execution_count": null,
   "metadata": {},
   "outputs": [],
   "source": []
  },
  {
   "cell_type": "code",
   "execution_count": 2,
   "metadata": {},
   "outputs": [],
   "source": [
    "import scipy.sparse\n",
    "train_mat = scipy.sparse.load_npz('yelp_train_freq_mat.npz')\n",
    "test_mat = scipy.sparse.load_npz('yelp_test_freq_mat.npz')\n",
    "valid_mat = scipy.sparse.load_npz('yelp_valid_freq_mat.npz')\n"
   ]
  },
  {
   "cell_type": "code",
   "execution_count": null,
   "metadata": {},
   "outputs": [],
   "source": [
    "#train_set = yelp_train.iloc[np.random.choice(len(yelp_train.review),20)]       # randomly picking dataset to train\n",
    "#validation_set = yelp_valid.iloc[np.random.choice(len(yelp_valid.review),20)]      # randomly picking dataset to classify"
   ]
  },
  {
   "cell_type": "code",
   "execution_count": 10,
   "metadata": {},
   "outputs": [],
   "source": [
    "train_y_true = yelp_train.label\n",
    "valid_y_true = yelp_valid.label\n",
    "test_y_true = yelp_test.label"
   ]
  },
  {
   "cell_type": "markdown",
   "metadata": {},
   "source": [
    "### Applying Naive bayes classifier"
   ]
  },
  {
   "cell_type": "code",
   "execution_count": 11,
   "metadata": {},
   "outputs": [],
   "source": [
    "# computeing accuracy and F1 score for predicting \"training data\"\n",
    "# input sparse matrix data that needs to be predicted\n",
    "def getClassifierEff (Data,true_y,clf):\n",
    "    from sklearn.metrics import f1_score,accuracy_score\n",
    "    y_pred = clf.predict(Data)\n",
    "    acc = accuracy_score(true_y,y_pred)\n",
    "    f1 = f1_score(true_y,y_pred,average='micro')\n",
    "    return f1,acc"
   ]
  },
  {
   "cell_type": "code",
   "execution_count": 25,
   "metadata": {},
   "outputs": [],
   "source": [
    "# training classifier with \"training data\"\n",
    "from sklearn.naive_bayes import MultinomialNB"
   ]
  },
  {
   "cell_type": "code",
   "execution_count": 54,
   "metadata": {},
   "outputs": [
    {
     "name": "stderr",
     "output_type": "stream",
     "text": [
      "d:\\machine learning\\python 3.5.2\\lib\\site-packages\\sklearn\\naive_bayes.py:472: UserWarning: alpha too small will result in numeric errors, setting alpha = 1.0e-10\n",
      "  'setting alpha = %.1e' % _ALPHA_MIN)\n"
     ]
    }
   ],
   "source": [
    "Hyp = [0, 1e-10, 1e-9, 1e-8, 1e-7, 1e-6, 1e-5, 1e-4, 1e-3, 1e-2, 1e-1,1]\n",
    "yelp_valid_f1 = []\n",
    "yelp_valid_acc = []\n",
    "for itr in range(len(Hyp)):\n",
    "    naive_clf = MultinomialNB(alpha=Hyp[itr]).fit(train_mat, train_y_true)\n",
    "    f1 , acc = getClassifierEff (valid_mat,valid_y_true,naive_clf)\n",
    "    yelp_valid_f1.append(f1)\n",
    "    yelp_valid_acc.append(acc)\n",
    "   # print('yelp_valid_f1',yelp_valid_f1)"
   ]
  },
  {
   "cell_type": "code",
   "execution_count": 55,
   "metadata": {},
   "outputs": [
    {
     "data": {
      "text/plain": [
       "[0.439,\n",
       " 0.439,\n",
       " 0.44,\n",
       " 0.444,\n",
       " 0.446,\n",
       " 0.449,\n",
       " 0.458,\n",
       " 0.469,\n",
       " 0.479,\n",
       " 0.491,\n",
       " 0.507,\n",
       " 0.516]"
      ]
     },
     "execution_count": 55,
     "metadata": {},
     "output_type": "execute_result"
    }
   ],
   "source": [
    "yelp_valid_f1"
   ]
  },
  {
   "cell_type": "code",
   "execution_count": 56,
   "metadata": {},
   "outputs": [
    {
     "name": "stdout",
     "output_type": "stream",
     "text": [
      "for hyper parameter alpha = 1 we get max F1 score\n"
     ]
    }
   ],
   "source": [
    "optim_alpha = Hyp[np.argmax(yelp_valid_f1)]\n",
    "print('for hyper parameter alpha =',Hyp[np.argmax(yelp_valid_f1)],'we get max F1 score')"
   ]
  },
  {
   "cell_type": "code",
   "execution_count": 57,
   "metadata": {},
   "outputs": [
    {
     "name": "stdout",
     "output_type": "stream",
     "text": [
      "yelp_train_f1 0.5974285714285714\n",
      "yelp_test_f1 0.4085\n"
     ]
    }
   ],
   "source": [
    "naive_clf = BernoulliNB( alpha=optim_alpha ).fit(train_mat, train_y_true)\n",
    "\n",
    "train_f1 , train_acc = getClassifierEff (train_mat,train_y_true,naive_clf)\n",
    "test_f1 , test_acc = getClassifierEff (test_mat,test_y_true,naive_clf)\n",
    "\n",
    "print('yelp_train_f1',train_f1)\n",
    "print('yelp_test_f1',test_f1)\n"
   ]
  },
  {
   "cell_type": "code",
   "execution_count": 30,
   "metadata": {},
   "outputs": [],
   "source": [
    "from sklearn.naive_bayes import GaussianNB"
   ]
  },
  {
   "cell_type": "code",
   "execution_count": 33,
   "metadata": {},
   "outputs": [
    {
     "ename": "MemoryError",
     "evalue": "",
     "output_type": "error",
     "traceback": [
      "\u001b[1;31m---------------------------------------------------------------------------\u001b[0m",
      "\u001b[1;31mMemoryError\u001b[0m                               Traceback (most recent call last)",
      "\u001b[1;32m<ipython-input-33-84f44bbf7e73>\u001b[0m in \u001b[0;36m<module>\u001b[1;34m()\u001b[0m\n\u001b[0;32m      7\u001b[0m \u001b[0myelp_valid_acc\u001b[0m \u001b[1;33m=\u001b[0m \u001b[0macc\u001b[0m\u001b[1;33m\u001b[0m\u001b[0m\n\u001b[0;32m      8\u001b[0m \u001b[1;33m\u001b[0m\u001b[0m\n\u001b[1;32m----> 9\u001b[1;33m \u001b[0mtrain_f1\u001b[0m \u001b[1;33m,\u001b[0m \u001b[0mtrain_acc\u001b[0m \u001b[1;33m=\u001b[0m \u001b[0mgetClassifierEff\u001b[0m \u001b[1;33m(\u001b[0m\u001b[0mtrain_mat\u001b[0m\u001b[1;33m.\u001b[0m\u001b[0mtoarray\u001b[0m\u001b[1;33m(\u001b[0m\u001b[1;33m)\u001b[0m\u001b[1;33m,\u001b[0m\u001b[0mtrain_y_true\u001b[0m\u001b[1;33m,\u001b[0m\u001b[0mnaive_clf\u001b[0m\u001b[1;33m)\u001b[0m\u001b[1;33m\u001b[0m\u001b[0m\n\u001b[0m\u001b[0;32m     10\u001b[0m \u001b[0mtest_f1\u001b[0m \u001b[1;33m,\u001b[0m \u001b[0mtest_acc\u001b[0m \u001b[1;33m=\u001b[0m \u001b[0mgetClassifierEff\u001b[0m \u001b[1;33m(\u001b[0m\u001b[0mtest_mat\u001b[0m\u001b[1;33m.\u001b[0m\u001b[0mtoarray\u001b[0m\u001b[1;33m(\u001b[0m\u001b[1;33m)\u001b[0m\u001b[1;33m,\u001b[0m\u001b[0mtest_y_true\u001b[0m\u001b[1;33m,\u001b[0m\u001b[0mnaive_clf\u001b[0m\u001b[1;33m)\u001b[0m\u001b[1;33m\u001b[0m\u001b[0m\n",
      "\u001b[1;32m<ipython-input-11-05680ae2a4a5>\u001b[0m in \u001b[0;36mgetClassifierEff\u001b[1;34m(Data, true_y, clf)\u001b[0m\n\u001b[0;32m      3\u001b[0m \u001b[1;32mdef\u001b[0m \u001b[0mgetClassifierEff\u001b[0m \u001b[1;33m(\u001b[0m\u001b[0mData\u001b[0m\u001b[1;33m,\u001b[0m\u001b[0mtrue_y\u001b[0m\u001b[1;33m,\u001b[0m\u001b[0mclf\u001b[0m\u001b[1;33m)\u001b[0m\u001b[1;33m:\u001b[0m\u001b[1;33m\u001b[0m\u001b[0m\n\u001b[0;32m      4\u001b[0m     \u001b[1;32mfrom\u001b[0m \u001b[0msklearn\u001b[0m\u001b[1;33m.\u001b[0m\u001b[0mmetrics\u001b[0m \u001b[1;32mimport\u001b[0m \u001b[0mf1_score\u001b[0m\u001b[1;33m,\u001b[0m\u001b[0maccuracy_score\u001b[0m\u001b[1;33m\u001b[0m\u001b[0m\n\u001b[1;32m----> 5\u001b[1;33m     \u001b[0my_pred\u001b[0m \u001b[1;33m=\u001b[0m \u001b[0mclf\u001b[0m\u001b[1;33m.\u001b[0m\u001b[0mpredict\u001b[0m\u001b[1;33m(\u001b[0m\u001b[0mData\u001b[0m\u001b[1;33m)\u001b[0m\u001b[1;33m\u001b[0m\u001b[0m\n\u001b[0m\u001b[0;32m      6\u001b[0m     \u001b[0macc\u001b[0m \u001b[1;33m=\u001b[0m \u001b[0maccuracy_score\u001b[0m\u001b[1;33m(\u001b[0m\u001b[0mtrue_y\u001b[0m\u001b[1;33m,\u001b[0m\u001b[0my_pred\u001b[0m\u001b[1;33m)\u001b[0m\u001b[1;33m\u001b[0m\u001b[0m\n\u001b[0;32m      7\u001b[0m     \u001b[0mf1\u001b[0m \u001b[1;33m=\u001b[0m \u001b[0mf1_score\u001b[0m\u001b[1;33m(\u001b[0m\u001b[0mtrue_y\u001b[0m\u001b[1;33m,\u001b[0m\u001b[0my_pred\u001b[0m\u001b[1;33m,\u001b[0m\u001b[0maverage\u001b[0m\u001b[1;33m=\u001b[0m\u001b[1;34m'micro'\u001b[0m\u001b[1;33m)\u001b[0m\u001b[1;33m\u001b[0m\u001b[0m\n",
      "\u001b[1;32md:\\machine learning\\python 3.5.2\\lib\\site-packages\\sklearn\\naive_bayes.py\u001b[0m in \u001b[0;36mpredict\u001b[1;34m(self, X)\u001b[0m\n\u001b[0;32m     64\u001b[0m             \u001b[0mPredicted\u001b[0m \u001b[0mtarget\u001b[0m \u001b[0mvalues\u001b[0m \u001b[1;32mfor\u001b[0m \u001b[0mX\u001b[0m\u001b[1;33m\u001b[0m\u001b[0m\n\u001b[0;32m     65\u001b[0m         \"\"\"\n\u001b[1;32m---> 66\u001b[1;33m         \u001b[0mjll\u001b[0m \u001b[1;33m=\u001b[0m \u001b[0mself\u001b[0m\u001b[1;33m.\u001b[0m\u001b[0m_joint_log_likelihood\u001b[0m\u001b[1;33m(\u001b[0m\u001b[0mX\u001b[0m\u001b[1;33m)\u001b[0m\u001b[1;33m\u001b[0m\u001b[0m\n\u001b[0m\u001b[0;32m     67\u001b[0m         \u001b[1;32mreturn\u001b[0m \u001b[0mself\u001b[0m\u001b[1;33m.\u001b[0m\u001b[0mclasses_\u001b[0m\u001b[1;33m[\u001b[0m\u001b[0mnp\u001b[0m\u001b[1;33m.\u001b[0m\u001b[0margmax\u001b[0m\u001b[1;33m(\u001b[0m\u001b[0mjll\u001b[0m\u001b[1;33m,\u001b[0m \u001b[0maxis\u001b[0m\u001b[1;33m=\u001b[0m\u001b[1;36m1\u001b[0m\u001b[1;33m)\u001b[0m\u001b[1;33m]\u001b[0m\u001b[1;33m\u001b[0m\u001b[0m\n\u001b[0;32m     68\u001b[0m \u001b[1;33m\u001b[0m\u001b[0m\n",
      "\u001b[1;32md:\\machine learning\\python 3.5.2\\lib\\site-packages\\sklearn\\naive_bayes.py\u001b[0m in \u001b[0;36m_joint_log_likelihood\u001b[1;34m(self, X)\u001b[0m\n\u001b[0;32m    431\u001b[0m             \u001b[0mjointi\u001b[0m \u001b[1;33m=\u001b[0m \u001b[0mnp\u001b[0m\u001b[1;33m.\u001b[0m\u001b[0mlog\u001b[0m\u001b[1;33m(\u001b[0m\u001b[0mself\u001b[0m\u001b[1;33m.\u001b[0m\u001b[0mclass_prior_\u001b[0m\u001b[1;33m[\u001b[0m\u001b[0mi\u001b[0m\u001b[1;33m]\u001b[0m\u001b[1;33m)\u001b[0m\u001b[1;33m\u001b[0m\u001b[0m\n\u001b[0;32m    432\u001b[0m             \u001b[0mn_ij\u001b[0m \u001b[1;33m=\u001b[0m \u001b[1;33m-\u001b[0m \u001b[1;36m0.5\u001b[0m \u001b[1;33m*\u001b[0m \u001b[0mnp\u001b[0m\u001b[1;33m.\u001b[0m\u001b[0msum\u001b[0m\u001b[1;33m(\u001b[0m\u001b[0mnp\u001b[0m\u001b[1;33m.\u001b[0m\u001b[0mlog\u001b[0m\u001b[1;33m(\u001b[0m\u001b[1;36m2.\u001b[0m \u001b[1;33m*\u001b[0m \u001b[0mnp\u001b[0m\u001b[1;33m.\u001b[0m\u001b[0mpi\u001b[0m \u001b[1;33m*\u001b[0m \u001b[0mself\u001b[0m\u001b[1;33m.\u001b[0m\u001b[0msigma_\u001b[0m\u001b[1;33m[\u001b[0m\u001b[0mi\u001b[0m\u001b[1;33m,\u001b[0m \u001b[1;33m:\u001b[0m\u001b[1;33m]\u001b[0m\u001b[1;33m)\u001b[0m\u001b[1;33m)\u001b[0m\u001b[1;33m\u001b[0m\u001b[0m\n\u001b[1;32m--> 433\u001b[1;33m             n_ij -= 0.5 * np.sum(((X - self.theta_[i, :]) ** 2) /\n\u001b[0m\u001b[0;32m    434\u001b[0m                                  (self.sigma_[i, :]), 1)\n\u001b[0;32m    435\u001b[0m             \u001b[0mjoint_log_likelihood\u001b[0m\u001b[1;33m.\u001b[0m\u001b[0mappend\u001b[0m\u001b[1;33m(\u001b[0m\u001b[0mjointi\u001b[0m \u001b[1;33m+\u001b[0m \u001b[0mn_ij\u001b[0m\u001b[1;33m)\u001b[0m\u001b[1;33m\u001b[0m\u001b[0m\n",
      "\u001b[1;31mMemoryError\u001b[0m: "
     ]
    }
   ],
   "source": [
    "yelp_valid_f1 = []\n",
    "yelp_valid_acc = []\n",
    "\n",
    "naive_clf = GaussianNB().fit(train_mat.toarray(), train_y_true)\n",
    "f1 , acc = getClassifierEff (valid_mat.toarray(),valid_y_true,naive_clf)\n",
    "yelp_valid_f1 = f1\n",
    "yelp_valid_acc = acc\n",
    "\n",
    "train_f1 , train_acc = getClassifierEff (train_mat.toarray(),train_y_true,naive_clf)\n",
    "test_f1 , test_acc = getClassifierEff (test_mat.toarray(),test_y_true,naive_clf)"
   ]
  },
  {
   "cell_type": "markdown",
   "metadata": {},
   "source": [
    "### Applying Decision Tree"
   ]
  },
  {
   "cell_type": "code",
   "execution_count": 17,
   "metadata": {},
   "outputs": [],
   "source": [
    "from sklearn import tree"
   ]
  },
  {
   "cell_type": "markdown",
   "metadata": {},
   "source": [
    "class sklearn.tree.DecisionTreeClassifier(criterion=’gini’, splitter=’best’, max_depth=None, min_samples_split=2, min_samples_leaf=1, min_weight_fraction_leaf=0.0, max_features=None, random_state=None, max_leaf_nodes=None, min_impurity_decrease=0.0, min_impurity_split=None, class_weight=None, presort=False)"
   ]
  },
  {
   "cell_type": "code",
   "execution_count": 18,
   "metadata": {},
   "outputs": [],
   "source": [
    "crit = ['gini','entropy'] #criterion \n",
    "split = ['best','random'] #splitter\n"
   ]
  },
  {
   "cell_type": "code",
   "execution_count": 19,
   "metadata": {},
   "outputs": [
    {
     "name": "stdout",
     "output_type": "stream",
     "text": [
      "yelp_valid_f1 0.35 when we use criterion gini and splitter best\n",
      "yelp_valid_f1 0.361 when we use criterion gini and splitter random\n",
      "yelp_valid_f1 0.326 when we use criterion entropy and splitter best\n",
      "yelp_valid_f1 0.37099999999999994 when we use criterion entropy and splitter random\n"
     ]
    }
   ],
   "source": [
    "yelp_valid_f1 = []\n",
    "yelp_valid_acc = []\n",
    "for itr1 in range(len(crit)):\n",
    "    for itr2 in range(len(split)):\n",
    "        tree_clf = tree.DecisionTreeClassifier(criterion = crit[itr1], splitter = split[itr2]).fit(train_mat, train_y_true)\n",
    "        f1,acc = getClassifierEff (valid_mat,valid_y_true,tree_clf)\n",
    "        yelp_valid_f1.append(f1)\n",
    "        yelp_valid_acc.append(acc)\n",
    "        \n",
    "        print('yelp_valid_f1',f1,'when we use criterion',crit[itr1],'and splitter',split[itr2])"
   ]
  },
  {
   "cell_type": "code",
   "execution_count": 20,
   "metadata": {},
   "outputs": [
    {
     "name": "stdout",
     "output_type": "stream",
     "text": [
      "yelp_train_f1 1.0\n",
      "yelp_test_f1 0.3285\n"
     ]
    }
   ],
   "source": [
    "tree_clf = tree.DecisionTreeClassifier(criterion = 'entropy', splitter = 'best').fit(train_mat, train_y_true)\n",
    "yelp_train_f1,yelp_train_acc = getClassifierEff (train_mat,train_y_true,tree_clf)\n",
    "yelp_test_f1,yelp_test_acc = getClassifierEff (test_mat,test_y_true,tree_clf)\n",
    "\n",
    "print('yelp_train_f1',yelp_train_f1)\n",
    "print('yelp_test_f1',yelp_test_f1)"
   ]
  },
  {
   "cell_type": "markdown",
   "metadata": {},
   "source": [
    "### Applying Linear SVC"
   ]
  },
  {
   "cell_type": "markdown",
   "metadata": {},
   "source": [
    "class sklearn.svm.LinearSVC(penalty=’l2’, loss=’squared_hinge’, dual=True, tol=0.0001, C=1.0, multi_class=’ovr’, fit_intercept=True, intercept_scaling=1, class_weight=None, verbose=0, random_state=None, max_iter=1000)"
   ]
  },
  {
   "cell_type": "code",
   "execution_count": 21,
   "metadata": {},
   "outputs": [],
   "source": [
    "from sklearn.svm import LinearSVC\n",
    "linear_clf = LinearSVC().fit(train_mat, train_y_true)"
   ]
  },
  {
   "cell_type": "markdown",
   "metadata": {},
   "source": [
    "### for combination of penalty='l2' , loss='hinge',dual=True"
   ]
  },
  {
   "cell_type": "code",
   "execution_count": 43,
   "metadata": {},
   "outputs": [],
   "source": [
    "pen = ['l2']\n",
    "los = ['hinge'] # gives error for hinge\n",
    "dul = [True] # gives error for dual = true. \n",
    "tolerance = [1e-10, 1e-9, 1e-8, 1e-7, 1e-6, 1e-5, 1e-4, 1e-3, 1e-2, 1e-1]\n",
    "C_param = [1e-10, 1e-9, 1e-8, 1e-7, 1e-6, 1e-5, 1e-4, 1e-3, 1e-2, 1e-1]"
   ]
  },
  {
   "cell_type": "code",
   "execution_count": 47,
   "metadata": {},
   "outputs": [
    {
     "name": "stdout",
     "output_type": "stream",
     "text": [
      "yelp_valid_f1 0.44 when we use penalty l2 loss hinge dual True\n"
     ]
    }
   ],
   "source": [
    "yelp_valid_f1 = []\n",
    "yelp_valid_acc = []\n",
    "for itr1 in range(len(pen)):\n",
    "\n",
    "    linear_clf = LinearSVC(penalty='l2' , loss='hinge', dual=True).fit(train_mat, train_y_true)\n",
    "    f1 , acc = getClassifierEff (valid_mat,valid_y_true,linear_clf)\n",
    "    yelp_valid_f1.append(f1)\n",
    "    yelp_valid_acc.append(acc)\n",
    "            \n",
    "    print('yelp_valid_f1',f1,'when we use penalty',pen[itr1],'loss',los[itr1],'dual',dul[itr1])"
   ]
  },
  {
   "cell_type": "code",
   "execution_count": 48,
   "metadata": {},
   "outputs": [
    {
     "name": "stdout",
     "output_type": "stream",
     "text": [
      "yelp_valid_f1 0.35500000000000004 when we use penalty l2 tolerence 1e-10 C 1e-10\n",
      "yelp_valid_f1 0.35500000000000004 when we use penalty l2 tolerence 1e-10 C 1e-09\n",
      "yelp_valid_f1 0.35500000000000004 when we use penalty l2 tolerence 1e-10 C 1e-08\n",
      "yelp_valid_f1 0.357 when we use penalty l2 tolerence 1e-10 C 1e-07\n",
      "yelp_valid_f1 0.36499999999999994 when we use penalty l2 tolerence 1e-10 C 1e-06\n",
      "yelp_valid_f1 0.405 when we use penalty l2 tolerence 1e-10 C 1e-05\n",
      "yelp_valid_f1 0.461 when we use penalty l2 tolerence 1e-10 C 0.0001\n",
      "yelp_valid_f1 0.5 when we use penalty l2 tolerence 1e-10 C 0.001\n",
      "yelp_valid_f1 0.508 when we use penalty l2 tolerence 1e-10 C 0.01\n",
      "yelp_valid_f1 0.476 when we use penalty l2 tolerence 1e-10 C 0.1\n",
      "yelp_valid_f1 0.35500000000000004 when we use penalty l2 tolerence 1e-09 C 1e-10\n",
      "yelp_valid_f1 0.35500000000000004 when we use penalty l2 tolerence 1e-09 C 1e-09\n",
      "yelp_valid_f1 0.35500000000000004 when we use penalty l2 tolerence 1e-09 C 1e-08\n",
      "yelp_valid_f1 0.357 when we use penalty l2 tolerence 1e-09 C 1e-07\n",
      "yelp_valid_f1 0.36499999999999994 when we use penalty l2 tolerence 1e-09 C 1e-06\n",
      "yelp_valid_f1 0.405 when we use penalty l2 tolerence 1e-09 C 1e-05\n",
      "yelp_valid_f1 0.461 when we use penalty l2 tolerence 1e-09 C 0.0001\n",
      "yelp_valid_f1 0.5 when we use penalty l2 tolerence 1e-09 C 0.001\n",
      "yelp_valid_f1 0.508 when we use penalty l2 tolerence 1e-09 C 0.01\n",
      "yelp_valid_f1 0.476 when we use penalty l2 tolerence 1e-09 C 0.1\n",
      "yelp_valid_f1 0.35500000000000004 when we use penalty l2 tolerence 1e-08 C 1e-10\n",
      "yelp_valid_f1 0.35500000000000004 when we use penalty l2 tolerence 1e-08 C 1e-09\n",
      "yelp_valid_f1 0.35500000000000004 when we use penalty l2 tolerence 1e-08 C 1e-08\n",
      "yelp_valid_f1 0.357 when we use penalty l2 tolerence 1e-08 C 1e-07\n",
      "yelp_valid_f1 0.36499999999999994 when we use penalty l2 tolerence 1e-08 C 1e-06\n",
      "yelp_valid_f1 0.405 when we use penalty l2 tolerence 1e-08 C 1e-05\n",
      "yelp_valid_f1 0.461 when we use penalty l2 tolerence 1e-08 C 0.0001\n",
      "yelp_valid_f1 0.5 when we use penalty l2 tolerence 1e-08 C 0.001\n",
      "yelp_valid_f1 0.508 when we use penalty l2 tolerence 1e-08 C 0.01\n",
      "yelp_valid_f1 0.476 when we use penalty l2 tolerence 1e-08 C 0.1\n",
      "yelp_valid_f1 0.35500000000000004 when we use penalty l2 tolerence 1e-07 C 1e-10\n",
      "yelp_valid_f1 0.35500000000000004 when we use penalty l2 tolerence 1e-07 C 1e-09\n",
      "yelp_valid_f1 0.35500000000000004 when we use penalty l2 tolerence 1e-07 C 1e-08\n",
      "yelp_valid_f1 0.357 when we use penalty l2 tolerence 1e-07 C 1e-07\n",
      "yelp_valid_f1 0.36499999999999994 when we use penalty l2 tolerence 1e-07 C 1e-06\n",
      "yelp_valid_f1 0.405 when we use penalty l2 tolerence 1e-07 C 1e-05\n",
      "yelp_valid_f1 0.461 when we use penalty l2 tolerence 1e-07 C 0.0001\n",
      "yelp_valid_f1 0.5 when we use penalty l2 tolerence 1e-07 C 0.001\n",
      "yelp_valid_f1 0.508 when we use penalty l2 tolerence 1e-07 C 0.01\n",
      "yelp_valid_f1 0.476 when we use penalty l2 tolerence 1e-07 C 0.1\n",
      "yelp_valid_f1 0.35500000000000004 when we use penalty l2 tolerence 1e-06 C 1e-10\n",
      "yelp_valid_f1 0.35500000000000004 when we use penalty l2 tolerence 1e-06 C 1e-09\n",
      "yelp_valid_f1 0.35500000000000004 when we use penalty l2 tolerence 1e-06 C 1e-08\n",
      "yelp_valid_f1 0.357 when we use penalty l2 tolerence 1e-06 C 1e-07\n",
      "yelp_valid_f1 0.36499999999999994 when we use penalty l2 tolerence 1e-06 C 1e-06\n",
      "yelp_valid_f1 0.405 when we use penalty l2 tolerence 1e-06 C 1e-05\n",
      "yelp_valid_f1 0.461 when we use penalty l2 tolerence 1e-06 C 0.0001\n",
      "yelp_valid_f1 0.5 when we use penalty l2 tolerence 1e-06 C 0.001\n",
      "yelp_valid_f1 0.508 when we use penalty l2 tolerence 1e-06 C 0.01\n",
      "yelp_valid_f1 0.476 when we use penalty l2 tolerence 1e-06 C 0.1\n",
      "yelp_valid_f1 0.35500000000000004 when we use penalty l2 tolerence 1e-05 C 1e-10\n",
      "yelp_valid_f1 0.35500000000000004 when we use penalty l2 tolerence 1e-05 C 1e-09\n",
      "yelp_valid_f1 0.35500000000000004 when we use penalty l2 tolerence 1e-05 C 1e-08\n",
      "yelp_valid_f1 0.357 when we use penalty l2 tolerence 1e-05 C 1e-07\n",
      "yelp_valid_f1 0.36499999999999994 when we use penalty l2 tolerence 1e-05 C 1e-06\n",
      "yelp_valid_f1 0.405 when we use penalty l2 tolerence 1e-05 C 1e-05\n",
      "yelp_valid_f1 0.461 when we use penalty l2 tolerence 1e-05 C 0.0001\n",
      "yelp_valid_f1 0.5 when we use penalty l2 tolerence 1e-05 C 0.001\n",
      "yelp_valid_f1 0.508 when we use penalty l2 tolerence 1e-05 C 0.01\n",
      "yelp_valid_f1 0.476 when we use penalty l2 tolerence 1e-05 C 0.1\n",
      "yelp_valid_f1 0.35500000000000004 when we use penalty l2 tolerence 0.0001 C 1e-10\n",
      "yelp_valid_f1 0.35500000000000004 when we use penalty l2 tolerence 0.0001 C 1e-09\n",
      "yelp_valid_f1 0.35500000000000004 when we use penalty l2 tolerence 0.0001 C 1e-08\n",
      "yelp_valid_f1 0.357 when we use penalty l2 tolerence 0.0001 C 1e-07\n",
      "yelp_valid_f1 0.36499999999999994 when we use penalty l2 tolerence 0.0001 C 1e-06\n",
      "yelp_valid_f1 0.405 when we use penalty l2 tolerence 0.0001 C 1e-05\n",
      "yelp_valid_f1 0.461 when we use penalty l2 tolerence 0.0001 C 0.0001\n",
      "yelp_valid_f1 0.5 when we use penalty l2 tolerence 0.0001 C 0.001\n",
      "yelp_valid_f1 0.508 when we use penalty l2 tolerence 0.0001 C 0.01\n",
      "yelp_valid_f1 0.476 when we use penalty l2 tolerence 0.0001 C 0.1\n",
      "yelp_valid_f1 0.35500000000000004 when we use penalty l2 tolerence 0.001 C 1e-10\n",
      "yelp_valid_f1 0.35500000000000004 when we use penalty l2 tolerence 0.001 C 1e-09\n",
      "yelp_valid_f1 0.35500000000000004 when we use penalty l2 tolerence 0.001 C 1e-08\n",
      "yelp_valid_f1 0.357 when we use penalty l2 tolerence 0.001 C 1e-07\n",
      "yelp_valid_f1 0.36499999999999994 when we use penalty l2 tolerence 0.001 C 1e-06\n",
      "yelp_valid_f1 0.405 when we use penalty l2 tolerence 0.001 C 1e-05\n",
      "yelp_valid_f1 0.461 when we use penalty l2 tolerence 0.001 C 0.0001\n",
      "yelp_valid_f1 0.5 when we use penalty l2 tolerence 0.001 C 0.001\n",
      "yelp_valid_f1 0.508 when we use penalty l2 tolerence 0.001 C 0.01\n",
      "yelp_valid_f1 0.482 when we use penalty l2 tolerence 0.001 C 0.1\n",
      "yelp_valid_f1 0.35500000000000004 when we use penalty l2 tolerence 0.01 C 1e-10\n",
      "yelp_valid_f1 0.35500000000000004 when we use penalty l2 tolerence 0.01 C 1e-09\n",
      "yelp_valid_f1 0.35500000000000004 when we use penalty l2 tolerence 0.01 C 1e-08\n",
      "yelp_valid_f1 0.357 when we use penalty l2 tolerence 0.01 C 1e-07\n",
      "yelp_valid_f1 0.36499999999999994 when we use penalty l2 tolerence 0.01 C 1e-06\n",
      "yelp_valid_f1 0.40599999999999997 when we use penalty l2 tolerence 0.01 C 1e-05\n",
      "yelp_valid_f1 0.461 when we use penalty l2 tolerence 0.01 C 0.0001\n",
      "yelp_valid_f1 0.498 when we use penalty l2 tolerence 0.01 C 0.001\n",
      "yelp_valid_f1 0.508 when we use penalty l2 tolerence 0.01 C 0.01\n",
      "yelp_valid_f1 0.481 when we use penalty l2 tolerence 0.01 C 0.1\n",
      "yelp_valid_f1 0.35500000000000004 when we use penalty l2 tolerence 0.1 C 1e-10\n",
      "yelp_valid_f1 0.35500000000000004 when we use penalty l2 tolerence 0.1 C 1e-09\n",
      "yelp_valid_f1 0.35500000000000004 when we use penalty l2 tolerence 0.1 C 1e-08\n",
      "yelp_valid_f1 0.35500000000000004 when we use penalty l2 tolerence 0.1 C 1e-07\n",
      "yelp_valid_f1 0.36499999999999994 when we use penalty l2 tolerence 0.1 C 1e-06\n",
      "yelp_valid_f1 0.409 when we use penalty l2 tolerence 0.1 C 1e-05\n",
      "yelp_valid_f1 0.44800000000000006 when we use penalty l2 tolerence 0.1 C 0.0001\n",
      "yelp_valid_f1 0.498 when we use penalty l2 tolerence 0.1 C 0.001\n",
      "yelp_valid_f1 0.502 when we use penalty l2 tolerence 0.1 C 0.01\n",
      "yelp_valid_f1 0.497 when we use penalty l2 tolerence 0.1 C 0.1\n"
     ]
    }
   ],
   "source": [
    "yelp_valid_f1 = []\n",
    "yelp_valid_acc = []\n",
    "for itr1 in range(len(pen)):\n",
    "    for itr2 in range(len(tolerance)):\n",
    "        for itr3 in range(len(C_param)):\n",
    "            linear_clf = LinearSVC(penalty=pen[itr1],tol=tolerance[itr2],C=C_param[itr3],dual=False).fit(train_mat, train_y_true)\n",
    "            f1 , acc = getClassifierEff (valid_mat,valid_y_true,linear_clf)\n",
    "            yelp_valid_f1.append(f1)\n",
    "            yelp_valid_acc.append(acc)\n",
    "            \n",
    "            print('yelp_valid_f1',f1,'when we use penalty',pen[itr1],'tolerence',tolerance[itr2],'C',C_param[itr3])"
   ]
  },
  {
   "cell_type": "code",
   "execution_count": 50,
   "metadata": {
    "scrolled": true
   },
   "outputs": [
    {
     "name": "stdout",
     "output_type": "stream",
     "text": [
      "yelp_train_f1 0.7611428571428572\n",
      "yelp_test_f1 0.514\n",
      "yelp_valid_f1 0.507\n"
     ]
    }
   ],
   "source": [
    "linear_clf = LinearSVC(penalty='l2',tol=0.01,C=0.01,loss='hinge',dual=True).fit(train_mat, train_y_true)\n",
    "yelp_train_f1,yelp_train_acc = getClassifierEff (train_mat,train_y_true,linear_clf)\n",
    "yelp_test_f1,yelp_test_acc = getClassifierEff (test_mat,test_y_true,linear_clf)\n",
    "yelp_valid_f1,yelp_valid_acc = getClassifierEff (valid_mat,valid_y_true,linear_clf)\n",
    "print('yelp_train_f1',yelp_train_f1)\n",
    "print('yelp_test_f1',yelp_test_f1)\n",
    "print('yelp_valid_f1',yelp_valid_f1)"
   ]
  },
  {
   "cell_type": "markdown",
   "metadata": {},
   "source": [
    "### for combination of penalty='l1','l2' , loss='squred_hinge',dual=False"
   ]
  },
  {
   "cell_type": "code",
   "execution_count": 51,
   "metadata": {},
   "outputs": [],
   "source": [
    "pen = ['l1','l2']\n",
    "los = ['squared_hinge'] # gives error for hinge\n",
    "dul = [False] # gives error for dual = true. \n",
    "tolerance = [1e-10, 1e-9, 1e-8, 1e-7, 1e-6, 1e-5, 1e-4, 1e-3, 1e-2, 1e-1]\n",
    "C_param = [1e-10, 1e-9, 1e-8, 1e-7, 1e-6, 1e-5, 1e-4, 1e-3, 1e-2, 1e-1]"
   ]
  },
  {
   "cell_type": "code",
   "execution_count": 52,
   "metadata": {},
   "outputs": [
    {
     "name": "stdout",
     "output_type": "stream",
     "text": [
      "yelp_valid_f1 0.084 when we use penalty l1 tolerence 1e-10 C 1e-10\n",
      "yelp_valid_f1 0.084 when we use penalty l1 tolerence 1e-10 C 1e-09\n",
      "yelp_valid_f1 0.084 when we use penalty l1 tolerence 1e-10 C 1e-08\n",
      "yelp_valid_f1 0.084 when we use penalty l1 tolerence 1e-10 C 1e-07\n",
      "yelp_valid_f1 0.084 when we use penalty l1 tolerence 1e-10 C 1e-06\n",
      "yelp_valid_f1 0.084 when we use penalty l1 tolerence 1e-10 C 1e-05\n",
      "yelp_valid_f1 0.348 when we use penalty l1 tolerence 1e-10 C 0.0001\n",
      "yelp_valid_f1 0.375 when we use penalty l1 tolerence 1e-10 C 0.001\n",
      "yelp_valid_f1 0.45 when we use penalty l1 tolerence 1e-10 C 0.01\n",
      "yelp_valid_f1 0.482 when we use penalty l1 tolerence 1e-10 C 0.1\n",
      "yelp_valid_f1 0.084 when we use penalty l1 tolerence 1e-09 C 1e-10\n",
      "yelp_valid_f1 0.084 when we use penalty l1 tolerence 1e-09 C 1e-09\n",
      "yelp_valid_f1 0.084 when we use penalty l1 tolerence 1e-09 C 1e-08\n",
      "yelp_valid_f1 0.084 when we use penalty l1 tolerence 1e-09 C 1e-07\n",
      "yelp_valid_f1 0.084 when we use penalty l1 tolerence 1e-09 C 1e-06\n",
      "yelp_valid_f1 0.084 when we use penalty l1 tolerence 1e-09 C 1e-05\n",
      "yelp_valid_f1 0.348 when we use penalty l1 tolerence 1e-09 C 0.0001\n",
      "yelp_valid_f1 0.375 when we use penalty l1 tolerence 1e-09 C 0.001\n",
      "yelp_valid_f1 0.451 when we use penalty l1 tolerence 1e-09 C 0.01\n",
      "yelp_valid_f1 0.479 when we use penalty l1 tolerence 1e-09 C 0.1\n",
      "yelp_valid_f1 0.084 when we use penalty l1 tolerence 1e-08 C 1e-10\n",
      "yelp_valid_f1 0.084 when we use penalty l1 tolerence 1e-08 C 1e-09\n",
      "yelp_valid_f1 0.084 when we use penalty l1 tolerence 1e-08 C 1e-08\n",
      "yelp_valid_f1 0.084 when we use penalty l1 tolerence 1e-08 C 1e-07\n",
      "yelp_valid_f1 0.084 when we use penalty l1 tolerence 1e-08 C 1e-06\n",
      "yelp_valid_f1 0.084 when we use penalty l1 tolerence 1e-08 C 1e-05\n",
      "yelp_valid_f1 0.348 when we use penalty l1 tolerence 1e-08 C 0.0001\n",
      "yelp_valid_f1 0.375 when we use penalty l1 tolerence 1e-08 C 0.001\n",
      "yelp_valid_f1 0.451 when we use penalty l1 tolerence 1e-08 C 0.01\n",
      "yelp_valid_f1 0.479 when we use penalty l1 tolerence 1e-08 C 0.1\n",
      "yelp_valid_f1 0.084 when we use penalty l1 tolerence 1e-07 C 1e-10\n",
      "yelp_valid_f1 0.084 when we use penalty l1 tolerence 1e-07 C 1e-09\n",
      "yelp_valid_f1 0.084 when we use penalty l1 tolerence 1e-07 C 1e-08\n",
      "yelp_valid_f1 0.084 when we use penalty l1 tolerence 1e-07 C 1e-07\n",
      "yelp_valid_f1 0.084 when we use penalty l1 tolerence 1e-07 C 1e-06\n",
      "yelp_valid_f1 0.084 when we use penalty l1 tolerence 1e-07 C 1e-05\n",
      "yelp_valid_f1 0.348 when we use penalty l1 tolerence 1e-07 C 0.0001\n",
      "yelp_valid_f1 0.375 when we use penalty l1 tolerence 1e-07 C 0.001\n",
      "yelp_valid_f1 0.451 when we use penalty l1 tolerence 1e-07 C 0.01\n",
      "yelp_valid_f1 0.479 when we use penalty l1 tolerence 1e-07 C 0.1\n",
      "yelp_valid_f1 0.084 when we use penalty l1 tolerence 1e-06 C 1e-10\n",
      "yelp_valid_f1 0.084 when we use penalty l1 tolerence 1e-06 C 1e-09\n",
      "yelp_valid_f1 0.084 when we use penalty l1 tolerence 1e-06 C 1e-08\n",
      "yelp_valid_f1 0.084 when we use penalty l1 tolerence 1e-06 C 1e-07\n",
      "yelp_valid_f1 0.084 when we use penalty l1 tolerence 1e-06 C 1e-06\n",
      "yelp_valid_f1 0.084 when we use penalty l1 tolerence 1e-06 C 1e-05\n",
      "yelp_valid_f1 0.348 when we use penalty l1 tolerence 1e-06 C 0.0001\n",
      "yelp_valid_f1 0.375 when we use penalty l1 tolerence 1e-06 C 0.001\n",
      "yelp_valid_f1 0.451 when we use penalty l1 tolerence 1e-06 C 0.01\n",
      "yelp_valid_f1 0.479 when we use penalty l1 tolerence 1e-06 C 0.1\n",
      "yelp_valid_f1 0.084 when we use penalty l1 tolerence 1e-05 C 1e-10\n",
      "yelp_valid_f1 0.084 when we use penalty l1 tolerence 1e-05 C 1e-09\n",
      "yelp_valid_f1 0.084 when we use penalty l1 tolerence 1e-05 C 1e-08\n",
      "yelp_valid_f1 0.084 when we use penalty l1 tolerence 1e-05 C 1e-07\n",
      "yelp_valid_f1 0.084 when we use penalty l1 tolerence 1e-05 C 1e-06\n",
      "yelp_valid_f1 0.084 when we use penalty l1 tolerence 1e-05 C 1e-05\n",
      "yelp_valid_f1 0.348 when we use penalty l1 tolerence 1e-05 C 0.0001\n",
      "yelp_valid_f1 0.375 when we use penalty l1 tolerence 1e-05 C 0.001\n",
      "yelp_valid_f1 0.451 when we use penalty l1 tolerence 1e-05 C 0.01\n",
      "yelp_valid_f1 0.479 when we use penalty l1 tolerence 1e-05 C 0.1\n",
      "yelp_valid_f1 0.084 when we use penalty l1 tolerence 0.0001 C 1e-10\n",
      "yelp_valid_f1 0.084 when we use penalty l1 tolerence 0.0001 C 1e-09\n",
      "yelp_valid_f1 0.084 when we use penalty l1 tolerence 0.0001 C 1e-08\n",
      "yelp_valid_f1 0.084 when we use penalty l1 tolerence 0.0001 C 1e-07\n",
      "yelp_valid_f1 0.084 when we use penalty l1 tolerence 0.0001 C 1e-06\n",
      "yelp_valid_f1 0.084 when we use penalty l1 tolerence 0.0001 C 1e-05\n",
      "yelp_valid_f1 0.348 when we use penalty l1 tolerence 0.0001 C 0.0001\n",
      "yelp_valid_f1 0.375 when we use penalty l1 tolerence 0.0001 C 0.001\n",
      "yelp_valid_f1 0.451 when we use penalty l1 tolerence 0.0001 C 0.01\n",
      "yelp_valid_f1 0.479 when we use penalty l1 tolerence 0.0001 C 0.1\n",
      "yelp_valid_f1 0.084 when we use penalty l1 tolerence 0.001 C 1e-10\n",
      "yelp_valid_f1 0.084 when we use penalty l1 tolerence 0.001 C 1e-09\n",
      "yelp_valid_f1 0.084 when we use penalty l1 tolerence 0.001 C 1e-08\n",
      "yelp_valid_f1 0.084 when we use penalty l1 tolerence 0.001 C 1e-07\n",
      "yelp_valid_f1 0.084 when we use penalty l1 tolerence 0.001 C 1e-06\n",
      "yelp_valid_f1 0.084 when we use penalty l1 tolerence 0.001 C 1e-05\n",
      "yelp_valid_f1 0.348 when we use penalty l1 tolerence 0.001 C 0.0001\n",
      "yelp_valid_f1 0.375 when we use penalty l1 tolerence 0.001 C 0.001\n",
      "yelp_valid_f1 0.45 when we use penalty l1 tolerence 0.001 C 0.01\n",
      "yelp_valid_f1 0.479 when we use penalty l1 tolerence 0.001 C 0.1\n",
      "yelp_valid_f1 0.084 when we use penalty l1 tolerence 0.01 C 1e-10\n",
      "yelp_valid_f1 0.084 when we use penalty l1 tolerence 0.01 C 1e-09\n",
      "yelp_valid_f1 0.084 when we use penalty l1 tolerence 0.01 C 1e-08\n",
      "yelp_valid_f1 0.084 when we use penalty l1 tolerence 0.01 C 1e-07\n",
      "yelp_valid_f1 0.084 when we use penalty l1 tolerence 0.01 C 1e-06\n",
      "yelp_valid_f1 0.084 when we use penalty l1 tolerence 0.01 C 1e-05\n",
      "yelp_valid_f1 0.348 when we use penalty l1 tolerence 0.01 C 0.0001\n",
      "yelp_valid_f1 0.375 when we use penalty l1 tolerence 0.01 C 0.001\n",
      "yelp_valid_f1 0.45 when we use penalty l1 tolerence 0.01 C 0.01\n",
      "yelp_valid_f1 0.48 when we use penalty l1 tolerence 0.01 C 0.1\n",
      "yelp_valid_f1 0.084 when we use penalty l1 tolerence 0.1 C 1e-10\n",
      "yelp_valid_f1 0.084 when we use penalty l1 tolerence 0.1 C 1e-09\n",
      "yelp_valid_f1 0.084 when we use penalty l1 tolerence 0.1 C 1e-08\n",
      "yelp_valid_f1 0.084 when we use penalty l1 tolerence 0.1 C 1e-07\n",
      "yelp_valid_f1 0.084 when we use penalty l1 tolerence 0.1 C 1e-06\n",
      "yelp_valid_f1 0.084 when we use penalty l1 tolerence 0.1 C 1e-05\n",
      "yelp_valid_f1 0.348 when we use penalty l1 tolerence 0.1 C 0.0001\n",
      "yelp_valid_f1 0.374 when we use penalty l1 tolerence 0.1 C 0.001\n",
      "yelp_valid_f1 0.451 when we use penalty l1 tolerence 0.1 C 0.01\n",
      "yelp_valid_f1 0.481 when we use penalty l1 tolerence 0.1 C 0.1\n",
      "yelp_valid_f1 0.35500000000000004 when we use penalty l2 tolerence 1e-10 C 1e-10\n",
      "yelp_valid_f1 0.35500000000000004 when we use penalty l2 tolerence 1e-10 C 1e-09\n",
      "yelp_valid_f1 0.35500000000000004 when we use penalty l2 tolerence 1e-10 C 1e-08\n",
      "yelp_valid_f1 0.357 when we use penalty l2 tolerence 1e-10 C 1e-07\n",
      "yelp_valid_f1 0.36499999999999994 when we use penalty l2 tolerence 1e-10 C 1e-06\n",
      "yelp_valid_f1 0.405 when we use penalty l2 tolerence 1e-10 C 1e-05\n",
      "yelp_valid_f1 0.461 when we use penalty l2 tolerence 1e-10 C 0.0001\n",
      "yelp_valid_f1 0.5 when we use penalty l2 tolerence 1e-10 C 0.001\n",
      "yelp_valid_f1 0.508 when we use penalty l2 tolerence 1e-10 C 0.01\n",
      "yelp_valid_f1 0.476 when we use penalty l2 tolerence 1e-10 C 0.1\n",
      "yelp_valid_f1 0.35500000000000004 when we use penalty l2 tolerence 1e-09 C 1e-10\n",
      "yelp_valid_f1 0.35500000000000004 when we use penalty l2 tolerence 1e-09 C 1e-09\n",
      "yelp_valid_f1 0.35500000000000004 when we use penalty l2 tolerence 1e-09 C 1e-08\n",
      "yelp_valid_f1 0.357 when we use penalty l2 tolerence 1e-09 C 1e-07\n",
      "yelp_valid_f1 0.36499999999999994 when we use penalty l2 tolerence 1e-09 C 1e-06\n",
      "yelp_valid_f1 0.405 when we use penalty l2 tolerence 1e-09 C 1e-05\n",
      "yelp_valid_f1 0.461 when we use penalty l2 tolerence 1e-09 C 0.0001\n",
      "yelp_valid_f1 0.5 when we use penalty l2 tolerence 1e-09 C 0.001\n",
      "yelp_valid_f1 0.508 when we use penalty l2 tolerence 1e-09 C 0.01\n",
      "yelp_valid_f1 0.476 when we use penalty l2 tolerence 1e-09 C 0.1\n",
      "yelp_valid_f1 0.35500000000000004 when we use penalty l2 tolerence 1e-08 C 1e-10\n",
      "yelp_valid_f1 0.35500000000000004 when we use penalty l2 tolerence 1e-08 C 1e-09\n",
      "yelp_valid_f1 0.35500000000000004 when we use penalty l2 tolerence 1e-08 C 1e-08\n"
     ]
    },
    {
     "name": "stdout",
     "output_type": "stream",
     "text": [
      "yelp_valid_f1 0.357 when we use penalty l2 tolerence 1e-08 C 1e-07\n",
      "yelp_valid_f1 0.36499999999999994 when we use penalty l2 tolerence 1e-08 C 1e-06\n",
      "yelp_valid_f1 0.405 when we use penalty l2 tolerence 1e-08 C 1e-05\n",
      "yelp_valid_f1 0.461 when we use penalty l2 tolerence 1e-08 C 0.0001\n",
      "yelp_valid_f1 0.5 when we use penalty l2 tolerence 1e-08 C 0.001\n",
      "yelp_valid_f1 0.508 when we use penalty l2 tolerence 1e-08 C 0.01\n",
      "yelp_valid_f1 0.476 when we use penalty l2 tolerence 1e-08 C 0.1\n",
      "yelp_valid_f1 0.35500000000000004 when we use penalty l2 tolerence 1e-07 C 1e-10\n",
      "yelp_valid_f1 0.35500000000000004 when we use penalty l2 tolerence 1e-07 C 1e-09\n",
      "yelp_valid_f1 0.35500000000000004 when we use penalty l2 tolerence 1e-07 C 1e-08\n",
      "yelp_valid_f1 0.357 when we use penalty l2 tolerence 1e-07 C 1e-07\n",
      "yelp_valid_f1 0.36499999999999994 when we use penalty l2 tolerence 1e-07 C 1e-06\n",
      "yelp_valid_f1 0.405 when we use penalty l2 tolerence 1e-07 C 1e-05\n",
      "yelp_valid_f1 0.461 when we use penalty l2 tolerence 1e-07 C 0.0001\n",
      "yelp_valid_f1 0.5 when we use penalty l2 tolerence 1e-07 C 0.001\n",
      "yelp_valid_f1 0.508 when we use penalty l2 tolerence 1e-07 C 0.01\n",
      "yelp_valid_f1 0.476 when we use penalty l2 tolerence 1e-07 C 0.1\n",
      "yelp_valid_f1 0.35500000000000004 when we use penalty l2 tolerence 1e-06 C 1e-10\n",
      "yelp_valid_f1 0.35500000000000004 when we use penalty l2 tolerence 1e-06 C 1e-09\n",
      "yelp_valid_f1 0.35500000000000004 when we use penalty l2 tolerence 1e-06 C 1e-08\n",
      "yelp_valid_f1 0.357 when we use penalty l2 tolerence 1e-06 C 1e-07\n",
      "yelp_valid_f1 0.36499999999999994 when we use penalty l2 tolerence 1e-06 C 1e-06\n",
      "yelp_valid_f1 0.405 when we use penalty l2 tolerence 1e-06 C 1e-05\n",
      "yelp_valid_f1 0.461 when we use penalty l2 tolerence 1e-06 C 0.0001\n",
      "yelp_valid_f1 0.5 when we use penalty l2 tolerence 1e-06 C 0.001\n",
      "yelp_valid_f1 0.508 when we use penalty l2 tolerence 1e-06 C 0.01\n",
      "yelp_valid_f1 0.476 when we use penalty l2 tolerence 1e-06 C 0.1\n",
      "yelp_valid_f1 0.35500000000000004 when we use penalty l2 tolerence 1e-05 C 1e-10\n",
      "yelp_valid_f1 0.35500000000000004 when we use penalty l2 tolerence 1e-05 C 1e-09\n",
      "yelp_valid_f1 0.35500000000000004 when we use penalty l2 tolerence 1e-05 C 1e-08\n",
      "yelp_valid_f1 0.357 when we use penalty l2 tolerence 1e-05 C 1e-07\n",
      "yelp_valid_f1 0.36499999999999994 when we use penalty l2 tolerence 1e-05 C 1e-06\n",
      "yelp_valid_f1 0.405 when we use penalty l2 tolerence 1e-05 C 1e-05\n",
      "yelp_valid_f1 0.461 when we use penalty l2 tolerence 1e-05 C 0.0001\n",
      "yelp_valid_f1 0.5 when we use penalty l2 tolerence 1e-05 C 0.001\n",
      "yelp_valid_f1 0.508 when we use penalty l2 tolerence 1e-05 C 0.01\n",
      "yelp_valid_f1 0.476 when we use penalty l2 tolerence 1e-05 C 0.1\n",
      "yelp_valid_f1 0.35500000000000004 when we use penalty l2 tolerence 0.0001 C 1e-10\n",
      "yelp_valid_f1 0.35500000000000004 when we use penalty l2 tolerence 0.0001 C 1e-09\n",
      "yelp_valid_f1 0.35500000000000004 when we use penalty l2 tolerence 0.0001 C 1e-08\n",
      "yelp_valid_f1 0.357 when we use penalty l2 tolerence 0.0001 C 1e-07\n",
      "yelp_valid_f1 0.36499999999999994 when we use penalty l2 tolerence 0.0001 C 1e-06\n",
      "yelp_valid_f1 0.405 when we use penalty l2 tolerence 0.0001 C 1e-05\n",
      "yelp_valid_f1 0.461 when we use penalty l2 tolerence 0.0001 C 0.0001\n",
      "yelp_valid_f1 0.5 when we use penalty l2 tolerence 0.0001 C 0.001\n",
      "yelp_valid_f1 0.508 when we use penalty l2 tolerence 0.0001 C 0.01\n",
      "yelp_valid_f1 0.476 when we use penalty l2 tolerence 0.0001 C 0.1\n",
      "yelp_valid_f1 0.35500000000000004 when we use penalty l2 tolerence 0.001 C 1e-10\n",
      "yelp_valid_f1 0.35500000000000004 when we use penalty l2 tolerence 0.001 C 1e-09\n",
      "yelp_valid_f1 0.35500000000000004 when we use penalty l2 tolerence 0.001 C 1e-08\n",
      "yelp_valid_f1 0.357 when we use penalty l2 tolerence 0.001 C 1e-07\n",
      "yelp_valid_f1 0.36499999999999994 when we use penalty l2 tolerence 0.001 C 1e-06\n",
      "yelp_valid_f1 0.405 when we use penalty l2 tolerence 0.001 C 1e-05\n",
      "yelp_valid_f1 0.461 when we use penalty l2 tolerence 0.001 C 0.0001\n",
      "yelp_valid_f1 0.5 when we use penalty l2 tolerence 0.001 C 0.001\n",
      "yelp_valid_f1 0.508 when we use penalty l2 tolerence 0.001 C 0.01\n",
      "yelp_valid_f1 0.482 when we use penalty l2 tolerence 0.001 C 0.1\n",
      "yelp_valid_f1 0.35500000000000004 when we use penalty l2 tolerence 0.01 C 1e-10\n",
      "yelp_valid_f1 0.35500000000000004 when we use penalty l2 tolerence 0.01 C 1e-09\n",
      "yelp_valid_f1 0.35500000000000004 when we use penalty l2 tolerence 0.01 C 1e-08\n",
      "yelp_valid_f1 0.357 when we use penalty l2 tolerence 0.01 C 1e-07\n",
      "yelp_valid_f1 0.36499999999999994 when we use penalty l2 tolerence 0.01 C 1e-06\n",
      "yelp_valid_f1 0.40599999999999997 when we use penalty l2 tolerence 0.01 C 1e-05\n",
      "yelp_valid_f1 0.461 when we use penalty l2 tolerence 0.01 C 0.0001\n",
      "yelp_valid_f1 0.498 when we use penalty l2 tolerence 0.01 C 0.001\n",
      "yelp_valid_f1 0.508 when we use penalty l2 tolerence 0.01 C 0.01\n",
      "yelp_valid_f1 0.481 when we use penalty l2 tolerence 0.01 C 0.1\n",
      "yelp_valid_f1 0.35500000000000004 when we use penalty l2 tolerence 0.1 C 1e-10\n",
      "yelp_valid_f1 0.35500000000000004 when we use penalty l2 tolerence 0.1 C 1e-09\n",
      "yelp_valid_f1 0.35500000000000004 when we use penalty l2 tolerence 0.1 C 1e-08\n",
      "yelp_valid_f1 0.35500000000000004 when we use penalty l2 tolerence 0.1 C 1e-07\n",
      "yelp_valid_f1 0.36499999999999994 when we use penalty l2 tolerence 0.1 C 1e-06\n",
      "yelp_valid_f1 0.409 when we use penalty l2 tolerence 0.1 C 1e-05\n",
      "yelp_valid_f1 0.44800000000000006 when we use penalty l2 tolerence 0.1 C 0.0001\n",
      "yelp_valid_f1 0.498 when we use penalty l2 tolerence 0.1 C 0.001\n",
      "yelp_valid_f1 0.502 when we use penalty l2 tolerence 0.1 C 0.01\n",
      "yelp_valid_f1 0.497 when we use penalty l2 tolerence 0.1 C 0.1\n"
     ]
    }
   ],
   "source": [
    "yelp_valid_f1 = []\n",
    "yelp_valid_acc = []\n",
    "for itr1 in range(len(pen)):\n",
    "    for itr2 in range(len(tolerance)):\n",
    "        for itr3 in range(len(C_param)):\n",
    "            linear_clf = LinearSVC(penalty=pen[itr1],tol=tolerance[itr2],C=C_param[itr3],dual=False).fit(train_mat, train_y_true)\n",
    "            f1 , acc = getClassifierEff (valid_mat,valid_y_true,linear_clf)\n",
    "            yelp_valid_f1.append(f1)\n",
    "            yelp_valid_acc.append(acc)\n",
    "            \n",
    "            print('yelp_valid_f1',f1,'when we use penalty',pen[itr1],'tolerence',tolerance[itr2],'C',C_param[itr3])"
   ]
  },
  {
   "cell_type": "code",
   "execution_count": 53,
   "metadata": {},
   "outputs": [
    {
     "name": "stdout",
     "output_type": "stream",
     "text": [
      "yelp_train_f1 0.855\n",
      "yelp_test_f1 0.5015\n",
      "yelp_valid_f1 0.508\n"
     ]
    }
   ],
   "source": [
    "linear_clf = LinearSVC(penalty='l2',tol=0.01,C=0.01,loss='squared_hinge',dual=False).fit(train_mat, train_y_true)\n",
    "yelp_train_f1,yelp_train_acc = getClassifierEff (train_mat,train_y_true,linear_clf)\n",
    "yelp_test_f1,yelp_test_acc = getClassifierEff (test_mat,test_y_true,linear_clf)\n",
    "yelp_valid_f1,yelp_valid_acc = getClassifierEff (valid_mat,valid_y_true,linear_clf)\n",
    "print('yelp_train_f1',yelp_train_f1)\n",
    "print('yelp_test_f1',yelp_test_f1)\n",
    "print('yelp_valid_f1',yelp_valid_f1)"
   ]
  },
  {
   "cell_type": "code",
   "execution_count": null,
   "metadata": {},
   "outputs": [],
   "source": []
  }
 ],
 "metadata": {
  "kernelspec": {
   "display_name": "Python 3",
   "language": "python",
   "name": "python3"
  },
  "language_info": {
   "codemirror_mode": {
    "name": "ipython",
    "version": 3
   },
   "file_extension": ".py",
   "mimetype": "text/x-python",
   "name": "python",
   "nbconvert_exporter": "python",
   "pygments_lexer": "ipython3",
   "version": "3.5.2"
  }
 },
 "nbformat": 4,
 "nbformat_minor": 2
}
